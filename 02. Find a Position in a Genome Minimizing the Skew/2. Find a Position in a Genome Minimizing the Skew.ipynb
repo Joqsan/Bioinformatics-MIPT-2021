{
 "cells": [
  {
   "cell_type": "code",
   "execution_count": 45,
   "metadata": {
    "collapsed": true
   },
   "outputs": [],
   "source": [
    "def skew_list(text):\n",
    "    \n",
    "    skew_val = [0]\n",
    "    \n",
    "    c_counter = 0\n",
    "    g_counter = 0\n",
    "    \n",
    "    for char in text.lower():\n",
    "        if char == 'c':\n",
    "            c_counter += 1\n",
    "        elif char == 'g':\n",
    "            g_counter += 1\n",
    "        \n",
    "        skew_val.append(g_counter - c_counter)\n",
    "    \n",
    "    return skew_val"
   ]
  },
  {
   "cell_type": "code",
   "execution_count": 46,
   "metadata": {
    "collapsed": true
   },
   "outputs": [],
   "source": [
    "genome = 'CCTATCGGTGGATTAGCATGTCCCTGTACGTTTCGCCGCGAACTAGTTCACACGGCTTGATGGCAAATGGTTTTTCCGGCGACCGTAATCGTCCACCGAG'"
   ]
  },
  {
   "cell_type": "code",
   "execution_count": 49,
   "metadata": {},
   "outputs": [],
   "source": [
    "res = skew_list(genome)"
   ]
  },
  {
   "cell_type": "code",
   "execution_count": 50,
   "metadata": {},
   "outputs": [
    {
     "data": {
      "text/plain": [
       "[-3, -4, -3, -2, -3]"
      ]
     },
     "execution_count": 50,
     "metadata": {},
     "output_type": "execute_result"
    }
   ],
   "source": [
    "res[52:57]"
   ]
  },
  {
   "cell_type": "code",
   "execution_count": 51,
   "metadata": {},
   "outputs": [
    {
     "data": {
      "text/plain": [
       "[-2, -3, -4, -3, -3, -2]"
      ]
     },
     "execution_count": 51,
     "metadata": {},
     "output_type": "execute_result"
    }
   ],
   "source": [
    "res[95:]"
   ]
  },
  {
   "cell_type": "code",
   "execution_count": 52,
   "metadata": {},
   "outputs": [
    {
     "data": {
      "text/plain": [
       "-2"
      ]
     },
     "execution_count": 52,
     "metadata": {},
     "output_type": "execute_result"
    }
   ],
   "source": [
    "res[-1]"
   ]
  },
  {
   "cell_type": "code",
   "execution_count": 53,
   "metadata": {
    "collapsed": true
   },
   "outputs": [],
   "source": [
    "import numpy as np"
   ]
  },
  {
   "cell_type": "code",
   "execution_count": 54,
   "metadata": {},
   "outputs": [
    {
     "data": {
      "text/plain": [
       "53"
      ]
     },
     "execution_count": 54,
     "metadata": {},
     "output_type": "execute_result"
    }
   ],
   "source": [
    "np.argmin(res)"
   ]
  },
  {
   "cell_type": "code",
   "execution_count": 55,
   "metadata": {
    "collapsed": true
   },
   "outputs": [],
   "source": [
    "# From now onward let's follow PEP8 name convention\n",
    "def skew_min(genome):\n",
    "    \n",
    "    skew_val = [0]\n",
    "    \n",
    "    c_counter = 0\n",
    "    g_counter = 0\n",
    "    min_val = np.inf # for finding argmin(Skew(Prefix(genome)))\n",
    "    argmin_skew = []\n",
    "    \n",
    "    for i, char in enumerate(genome):\n",
    "        if char == 'C':\n",
    "            c_counter += 1\n",
    "        elif char == 'G':\n",
    "            g_counter += 1\n",
    "        \n",
    "        # current skew\n",
    "        curr_skew = g_counter - c_counter\n",
    "        \n",
    "        # for the current i find argmin(Skew(Prefix(genome)))\n",
    "        if curr_skew < min_val:\n",
    "            argmin_skew = []\n",
    "            argmin_skew.append(i+1)\n",
    "            min_val = curr_skew\n",
    "        elif curr_skew == min_val:\n",
    "            argmin_skew.append(i+1)\n",
    "    \n",
    "    return argmin_skew"
   ]
  },
  {
   "cell_type": "code",
   "execution_count": 56,
   "metadata": {},
   "outputs": [
    {
     "data": {
      "text/plain": [
       "[53, 97]"
      ]
     },
     "execution_count": 56,
     "metadata": {},
     "output_type": "execute_result"
    }
   ],
   "source": [
    "skew_min(text)"
   ]
  },
  {
   "cell_type": "code",
   "execution_count": 78,
   "metadata": {},
   "outputs": [],
   "source": [
    "def main():\n",
    "    \n",
    "    file = open('rosalind_ba1f.txt', 'r')\n",
    "    \n",
    "    genome = next(file)\n",
    "    argmin_skew = skew_min(genome)\n",
    "    #print(skew_min(genome))\n",
    "    \n",
    "    print(\" \".join([str(idx) for idx in argmin_skew]))\n",
    "\n",
    "    file.close()"
   ]
  },
  {
   "cell_type": "code",
   "execution_count": 79,
   "metadata": {},
   "outputs": [
    {
     "name": "stdout",
     "output_type": "stream",
     "text": [
      "56034 56035 56041 56042\n"
     ]
    }
   ],
   "source": [
    "if __name__ == \"__main__\":\n",
    "    main()"
   ]
  },
  {
   "cell_type": "code",
   "execution_count": null,
   "metadata": {
    "collapsed": true
   },
   "outputs": [],
   "source": []
  }
 ],
 "metadata": {
  "kernelspec": {
   "display_name": "Python 3",
   "language": "python",
   "name": "python3"
  },
  "language_info": {
   "codemirror_mode": {
    "name": "ipython",
    "version": 3
   },
   "file_extension": ".py",
   "mimetype": "text/x-python",
   "name": "python",
   "nbconvert_exporter": "python",
   "pygments_lexer": "ipython3",
   "version": "3.6.4"
  }
 },
 "nbformat": 4,
 "nbformat_minor": 2
}
