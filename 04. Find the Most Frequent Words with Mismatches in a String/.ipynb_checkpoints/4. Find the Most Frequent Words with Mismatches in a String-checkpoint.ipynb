{
 "cells": [
  {
   "cell_type": "code",
   "execution_count": 1,
   "metadata": {
    "collapsed": true
   },
   "outputs": [],
   "source": [
    "import numpy as np\n",
    "import itertools as it\n",
    "from collections import defaultdict"
   ]
  },
  {
   "cell_type": "code",
   "execution_count": 2,
   "metadata": {
    "collapsed": true
   },
   "outputs": [],
   "source": [
    "alphabet = list('ATGC')\n",
    "def d_mismatch_generator(pattern, d):\n",
    "    k = len(pattern)\n",
    "    \n",
    "    idx_picked = it.combinations(range(k), r=d)\n",
    "    letters_picked = it.product(alphabet, repeat=d)\n",
    "    \n",
    "    pairs = it.product(idx_picked, letters_picked)\n",
    "    \n",
    "    base_pattern = np.array(list(pattern))\n",
    "    \n",
    "    d_mismatches = []\n",
    "    for idxs, letters in pairs:\n",
    "        temp = base_pattern.copy()\n",
    "        \n",
    "        temp[list(idxs)] = letters\n",
    "        \n",
    "        \n",
    "        d_mismatches.append(''.join(temp))\n",
    "    \n",
    "    return d_mismatches"
   ]
  },
  {
   "cell_type": "code",
   "execution_count": 3,
   "metadata": {
    "collapsed": true
   },
   "outputs": [],
   "source": [
    "pattern = 'ACGTT'"
   ]
  },
  {
   "cell_type": "code",
   "execution_count": 4,
   "metadata": {
    "collapsed": true
   },
   "outputs": [],
   "source": [
    "d = 1"
   ]
  },
  {
   "cell_type": "code",
   "execution_count": 5,
   "metadata": {
    "collapsed": true
   },
   "outputs": [],
   "source": [
    "def get_mismatches(pattern, d):\n",
    "    \n",
    "    mismatch_list = []\n",
    "    for k in range(1, d+1):\n",
    "        mismatch_list += d_mismatch_generator(pattern, k)\n",
    "    \n",
    "    return np.unique(mismatch_list).tolist()"
   ]
  },
  {
   "cell_type": "code",
   "execution_count": 8,
   "metadata": {},
   "outputs": [
    {
     "data": {
      "text/plain": [
       "106"
      ]
     },
     "execution_count": 8,
     "metadata": {},
     "output_type": "execute_result"
    }
   ],
   "source": [
    "len(get_mismatches(pattern, 2))"
   ]
  },
  {
   "cell_type": "code",
   "execution_count": 9,
   "metadata": {},
   "outputs": [],
   "source": [
    "result = get_mismatches(pattern, 2)"
   ]
  },
  {
   "cell_type": "code",
   "execution_count": 10,
   "metadata": {
    "collapsed": true
   },
   "outputs": [],
   "source": [
    "def most_freq_mismatches(text, k, d):\n",
    "    \n",
    "    freqmap = defaultdict(int)\n",
    "    max_count = 0\n",
    "    pattern_list = []\n",
    "    \n",
    "    for i in range(len(text)-k+1):\n",
    "        pattern = text[i:i+k]\n",
    "        \n",
    "        mismatch_list = get_mismatches(pattern, d)\n",
    "        \n",
    "        for kmer in mismatch_list:\n",
    "            freqmap[kmer]+=1\n",
    "            \n",
    "            max_count = max(max_count, freqmap[kmer])\n",
    "    \n",
    "    for pattern, count in freqmap.items():\n",
    "        if count == max_count:\n",
    "            pattern_list.append(pattern)\n",
    "        \n",
    "    return pattern_list"
   ]
  },
  {
   "cell_type": "code",
   "execution_count": 11,
   "metadata": {
    "collapsed": true
   },
   "outputs": [],
   "source": [
    "text = 'ACGTTGCATGTCGCATGATGCATGAGAGCT'"
   ]
  },
  {
   "cell_type": "code",
   "execution_count": 12,
   "metadata": {
    "collapsed": true
   },
   "outputs": [],
   "source": [
    "k, d = 4, 1"
   ]
  },
  {
   "cell_type": "code",
   "execution_count": 13,
   "metadata": {},
   "outputs": [
    {
     "data": {
      "text/plain": [
       "['ATGT', 'GATG', 'ATGC']"
      ]
     },
     "execution_count": 13,
     "metadata": {},
     "output_type": "execute_result"
    }
   ],
   "source": [
    "most_freq_mismatches(text, k, d)"
   ]
  },
  {
   "cell_type": "code",
   "execution_count": 22,
   "metadata": {
    "collapsed": true
   },
   "outputs": [],
   "source": [
    "def main():\n",
    "    \n",
    "    file = open('rosalind_ba1i.txt', 'r')\n",
    "    \n",
    "    text = next(file).strip()\n",
    "    k, d = list(map(int, next(file).split()))\n",
    "    \n",
    "    print(\" \".join(most_freq_mismatches(text, k, d)))\n",
    "\n",
    "    file.close()"
   ]
  },
  {
   "cell_type": "code",
   "execution_count": 23,
   "metadata": {},
   "outputs": [
    {
     "name": "stdout",
     "output_type": "stream",
     "text": [
      "GTGATTC TGAGATT\n"
     ]
    }
   ],
   "source": [
    "if __name__ == \"__main__\":\n",
    "    main()"
   ]
  },
  {
   "cell_type": "code",
   "execution_count": 19,
   "metadata": {
    "collapsed": true
   },
   "outputs": [],
   "source": [
    "text = 'AGCCCAACCTTAGGCGAGCCCAACAGCCCTAGCCTTAGGCGGCCGGCGCAGCTTAGGCGCTTAGGCGCTTAGGCGAGCCCTAGCAGCCCAACCCCGTAGACGCCGGCGCAGAGCCCAACGCCGGCGCAGGCCGGCGCAGCCCGTAGACAGCCCAACAGCCCAACAGCCCAACAGCCCAACCTTAGGCGCCCGTAGACGCCGGCGCAGGCCGGCGCAGCCCGTAGACGCCGGCGCAGCTTAGGCGCCCGTAGACAGCCCTAGCAGCCCTAGCAGCCCTAGCGCCGGCGCAGCTTAGGCGCTTAGGCGCTTAGGCGCTTAGGCGGCCGGCGCAGAGCCCTAGCCTTAGGCGAGCCCTAGCAGCCCAACAGCCCAACCCCGTAGACAGCCCAACCCCGTAGACCTTAGGCGGCCGGCGCAGAGCCCTAGCGCCGGCGCAGCCCGTAGACCTTAGGCGAGCCCTAGCAGCCCAACCTTAGGCGAGCCCAACCTTAGGCGAGCCCAACCCCGTAGACGCCGGCGCAGAGCCCTAGCCTTAGGCGCTTAGGCGGCCGGCGCAGAGCCCTAGCGCCGGCGCAGAGCCCAACAGCCCAACAGCCCTAGCCTTAGGCGCCCGTAGACAGCCCAACGCCGGCGCAGAGCCCAACGCCGGCGCAGCTTAGGCGAGCCCTAGCCCCGTAGACCCCGTAGACGCCGGCGCAGCCCGTAGACAGCCCTAGCAGCCCTAGCGCCGGCGCAGAGCCCTAGCCTTAGGCGAGCCCTAGCGCCGGCGCAGAGCCCTAGCCTTAGGCGAGCCCTAGCCTTAGGCGGCCGGCGCAGAGCCCAACGCCGGCGCAGAGCCCTAGCAGCCCTAGCAGCCCAACCCCGTAGACAGCCCAACCTTAGGCGAGCCCTAGCAGCCCAACAGCCCAACAGCCCTAGCAGCCCAACAGCCCAACCTTAGGCG'"
   ]
  },
  {
   "cell_type": "code",
   "execution_count": 20,
   "metadata": {
    "collapsed": true
   },
   "outputs": [],
   "source": [
    "k, d = 6, 2"
   ]
  },
  {
   "cell_type": "code",
   "execution_count": 21,
   "metadata": {},
   "outputs": [
    {
     "data": {
      "text/plain": [
       "['AGGCCC']"
      ]
     },
     "execution_count": 21,
     "metadata": {},
     "output_type": "execute_result"
    }
   ],
   "source": [
    "most_freq_mismatches(text, k, d)"
   ]
  },
  {
   "cell_type": "code",
   "execution_count": null,
   "metadata": {
    "collapsed": true
   },
   "outputs": [],
   "source": []
  }
 ],
 "metadata": {
  "kernelspec": {
   "display_name": "Python 3",
   "language": "python",
   "name": "python3"
  },
  "language_info": {
   "codemirror_mode": {
    "name": "ipython",
    "version": 3
   },
   "file_extension": ".py",
   "mimetype": "text/x-python",
   "name": "python",
   "nbconvert_exporter": "python",
   "pygments_lexer": "ipython3",
   "version": "3.6.4"
  }
 },
 "nbformat": 4,
 "nbformat_minor": 2
}
