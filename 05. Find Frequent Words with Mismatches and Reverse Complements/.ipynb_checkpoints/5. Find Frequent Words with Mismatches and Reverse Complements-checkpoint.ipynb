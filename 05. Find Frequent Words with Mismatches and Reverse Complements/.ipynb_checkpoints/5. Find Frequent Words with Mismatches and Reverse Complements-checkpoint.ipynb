{
 "cells": [
  {
   "cell_type": "code",
   "execution_count": 60,
   "metadata": {
    "collapsed": true
   },
   "outputs": [],
   "source": [
    "tab_input = 'ATGC'\n",
    "tab_output = 'TACG'"
   ]
  },
  {
   "cell_type": "code",
   "execution_count": 61,
   "metadata": {
    "collapsed": true
   },
   "outputs": [],
   "source": [
    "strand = 'AGTCGCATAGT'"
   ]
  },
  {
   "cell_type": "code",
   "execution_count": 62,
   "metadata": {},
   "outputs": [],
   "source": [
    "rev_strand = strand[::-1]"
   ]
  },
  {
   "cell_type": "code",
   "execution_count": 63,
   "metadata": {},
   "outputs": [],
   "source": [
    "trans_tab = str.maketrans(tab_input, tab_output)"
   ]
  },
  {
   "cell_type": "code",
   "execution_count": 64,
   "metadata": {},
   "outputs": [
    {
     "data": {
      "text/plain": [
       "'ACTATGCGACT'"
      ]
     },
     "execution_count": 64,
     "metadata": {},
     "output_type": "execute_result"
    }
   ],
   "source": [
    "rev_strand.translate(trans_tab)"
   ]
  },
  {
   "cell_type": "code",
   "execution_count": 65,
   "metadata": {
    "collapsed": true
   },
   "outputs": [],
   "source": [
    "see = ['AGTCGCATAGT', 'AGTCGCATAGG', 'AGTCGCATAGC', 'AGTCGCATAGA', 'AGTCGCATATT']"
   ]
  },
  {
   "cell_type": "code",
   "execution_count": 66,
   "metadata": {},
   "outputs": [],
   "source": [
    "rev_see = list(map(lambda x: x[::-1].translate(trans_tab), see))"
   ]
  },
  {
   "cell_type": "code",
   "execution_count": 67,
   "metadata": {},
   "outputs": [
    {
     "data": {
      "text/plain": [
       "['ACTATGCGACT', 'CCTATGCGACT', 'GCTATGCGACT', 'TCTATGCGACT', 'AATATGCGACT']"
      ]
     },
     "execution_count": 67,
     "metadata": {},
     "output_type": "execute_result"
    }
   ],
   "source": [
    "rev_see"
   ]
  },
  {
   "cell_type": "code",
   "execution_count": 68,
   "metadata": {},
   "outputs": [
    {
     "data": {
      "text/plain": [
       "{'AGTCGCATAGA': 'TCTATGCGACT',\n",
       " 'AGTCGCATAGC': 'GCTATGCGACT',\n",
       " 'AGTCGCATAGG': 'CCTATGCGACT',\n",
       " 'AGTCGCATAGT': 'ACTATGCGACT',\n",
       " 'AGTCGCATATT': 'AATATGCGACT'}"
      ]
     },
     "execution_count": 68,
     "metadata": {},
     "output_type": "execute_result"
    }
   ],
   "source": [
    "dict(zip(see, rev_see))"
   ]
  },
  {
   "cell_type": "code",
   "execution_count": 69,
   "metadata": {
    "collapsed": true
   },
   "outputs": [],
   "source": [
    "import numpy as np\n",
    "import itertools as it\n",
    "from collections import defaultdict"
   ]
  },
  {
   "cell_type": "code",
   "execution_count": 70,
   "metadata": {
    "collapsed": true
   },
   "outputs": [],
   "source": [
    "alphabet = list('ATGC')\n",
    "def d_mismatch_generator(pattern, d):\n",
    "    k = len(pattern)\n",
    "    \n",
    "    idx_picked = it.combinations(range(k), r=d)\n",
    "    letters_picked = it.product(alphabet, repeat=d)\n",
    "    \n",
    "    pairs = it.product(idx_picked, letters_picked)\n",
    "    \n",
    "    base_pattern = np.array(list(pattern))\n",
    "    \n",
    "    d_mismatches = []\n",
    "    for idxs, letters in pairs:\n",
    "        temp = base_pattern.copy()\n",
    "        \n",
    "        temp[list(idxs)] = letters\n",
    "        \n",
    "        \n",
    "        d_mismatches.append(''.join(temp))\n",
    "    \n",
    "    return d_mismatches"
   ]
  },
  {
   "cell_type": "code",
   "execution_count": 71,
   "metadata": {
    "collapsed": true
   },
   "outputs": [],
   "source": [
    "def get_mismatches(pattern, d):\n",
    "    \n",
    "    mismatch_list = []\n",
    "    for k in range(1, d+1):\n",
    "        mismatch_list += d_mismatch_generator(pattern, k)\n",
    "    \n",
    "    return np.unique(mismatch_list).tolist()"
   ]
  },
  {
   "cell_type": "code",
   "execution_count": 72,
   "metadata": {
    "collapsed": true
   },
   "outputs": [],
   "source": [
    "tab_input = 'ATGC'\n",
    "tab_output = 'TACG'\n",
    "trans_tab = str.maketrans(tab_input, tab_output)\n",
    "\n",
    "def reversed_complement(strands):\n",
    "    \n",
    "    rev_comp_strands = list(map(lambda x: x[::-1].translate(trans_tab), strands))\n",
    "    \n",
    "    return dict(zip(strands, rev_comp_strands))"
   ]
  },
  {
   "cell_type": "code",
   "execution_count": 73,
   "metadata": {
    "collapsed": true
   },
   "outputs": [],
   "source": [
    "def most_freq_mismatches_with_rc(text, k, d):\n",
    "    \n",
    "    freqmap = defaultdict(int)\n",
    "    pattern_list = []\n",
    "    \n",
    "    strand_list = []\n",
    "    \n",
    "    for i in range(len(text)-k+1):\n",
    "        pattern = text[i:i+k]\n",
    "        \n",
    "        mismatch_list = get_mismatches(pattern, d)\n",
    "        \n",
    "        strand_list += mismatch_list\n",
    "        \n",
    "        for kmer in mismatch_list:\n",
    "            freqmap[kmer]+=1\n",
    "            \n",
    "        # the same for the reversed complement\n",
    "        rc_pattern = pattern[::-1].translate(trans_tab)\n",
    "        mismatch_rc_list = get_mismatches(rc_pattern, d)\n",
    "        \n",
    "        for kmer in mismatch_rc_list:\n",
    "            freqmap[kmer]+=1\n",
    "        \n",
    "    max_count = max(freqmap.values())\n",
    "    \n",
    "    for pattern, count in freqmap.items():\n",
    "        if count == max_count:\n",
    "            pattern_list.append(pattern)\n",
    "        \n",
    "    return pattern_list"
   ]
  },
  {
   "cell_type": "code",
   "execution_count": 74,
   "metadata": {
    "collapsed": true
   },
   "outputs": [],
   "source": [
    "text = 'CTTGCCGGCGCCGATTATACGATCGCGGCCGCTTGCCTTCTTTATAATGCATCGGCGCCGCGATCTTGCTATATACGTACGCTTCGCTTGCATCTTGCGCGCATTACGTACTTATCGATTACTTATCTTCGATGCCGGCCGGCATATGCCGCTTTAGCATCGATCGATCGTACTTTACGCGTATAGCCGCTTCGCTTGCCGTACGCGATGCTAGCATATGCTAGCGCTAATTACTTAT'"
   ]
  },
  {
   "cell_type": "code",
   "execution_count": 75,
   "metadata": {
    "collapsed": true
   },
   "outputs": [],
   "source": [
    "k, d = 9, 3"
   ]
  },
  {
   "cell_type": "code",
   "execution_count": 76,
   "metadata": {},
   "outputs": [
    {
     "data": {
      "text/plain": [
       "['AGCGGCGCT', 'AGCGCCGCT']"
      ]
     },
     "execution_count": 76,
     "metadata": {},
     "output_type": "execute_result"
    }
   ],
   "source": [
    "most_freq_mismatches_with_rc(text, k, d)"
   ]
  },
  {
   "cell_type": "code",
   "execution_count": 81,
   "metadata": {
    "collapsed": true
   },
   "outputs": [],
   "source": [
    "def main():\n",
    "    \n",
    "    file = open('rosalind_ba1j.txt', 'r')\n",
    "    \n",
    "    text = next(file).strip()\n",
    "    k, d = list(map(int, next(file).split()))\n",
    "    \n",
    "    print(\" \".join(most_freq_mismatches_with_rc(text, k, d)))\n",
    "\n",
    "    file.close()"
   ]
  },
  {
   "cell_type": "code",
   "execution_count": 82,
   "metadata": {},
   "outputs": [
    {
     "name": "stdout",
     "output_type": "stream",
     "text": [
      "TTTAAA\n"
     ]
    }
   ],
   "source": [
    "if __name__ == \"__main__\":\n",
    "    main()"
   ]
  }
 ],
 "metadata": {
  "kernelspec": {
   "display_name": "Python 3",
   "language": "python",
   "name": "python3"
  },
  "language_info": {
   "codemirror_mode": {
    "name": "ipython",
    "version": 3
   },
   "file_extension": ".py",
   "mimetype": "text/x-python",
   "name": "python",
   "nbconvert_exporter": "python",
   "pygments_lexer": "ipython3",
   "version": "3.6.4"
  }
 },
 "nbformat": 4,
 "nbformat_minor": 2
}
