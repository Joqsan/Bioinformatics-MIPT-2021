{
 "cells": [
  {
   "cell_type": "markdown",
   "metadata": {},
   "source": [
    "https://stepik.org/lesson/240241/step/4?unit=214000\n",
    "\n",
    "\n",
    "https://github.com/ivanov-v-v/rosalind-mipt-2019/blob/master/06%20%E2%80%94%20ba2d/main.py"
   ]
  },
  {
   "cell_type": "code",
   "execution_count": 1,
   "metadata": {
    "collapsed": true
   },
   "outputs": [],
   "source": [
    "import numpy as np\n",
    "import pandas as pd\n",
    "from collections import Counter\n",
    "from scipy import stats"
   ]
  },
  {
   "cell_type": "code",
   "execution_count": 2,
   "metadata": {
    "collapsed": true
   },
   "outputs": [],
   "source": [
    "alphabet = list('ACGT')\n",
    "letter_to_id = {letter: idx for idx, letter in enumerate(alphabet)}"
   ]
  },
  {
   "cell_type": "code",
   "execution_count": 3,
   "metadata": {
    "collapsed": true
   },
   "outputs": [],
   "source": [
    "def most_probable_kmer(text, k, profile_matrix):\n",
    "    \n",
    "    \"\"\"\n",
    "    output:\n",
    "        most probable kmer in text for given profile matrix\n",
    "    \"\"\"\n",
    "    \n",
    "    best_proba = -np.inf\n",
    "    most_proba_kmer = None\n",
    "    \n",
    "    for i in range(len(text)-k+1):\n",
    "        kmer = text[i:i+k]\n",
    "        indexes = [letter_to_id[char] for char in kmer]\n",
    "        \n",
    "        string_proba = np.choose(indexes, profile_matrix).prod()\n",
    "        \n",
    "        if string_proba > best_proba:\n",
    "            best_proba = string_proba\n",
    "            most_proba_kmer = kmer\n",
    "    \n",
    "    return np.array(list(most_proba_kmer))"
   ]
  },
  {
   "cell_type": "code",
   "execution_count": 4,
   "metadata": {
    "collapsed": true
   },
   "outputs": [],
   "source": [
    "def get_profile(motifs):\n",
    "    \n",
    "    \"\"\"\n",
    "    input:\n",
    "        motifs: np.array\n",
    "    \n",
    "    output:\n",
    "        profile matrix\n",
    "    \"\"\"\n",
    "    \n",
    "    counter = np.apply_along_axis(Counter, 0, motifs)\n",
    "    counter = [dict(c) for c in counter]\n",
    "    \n",
    "    count_motifs = pd.DataFrame(counter, columns=list('ACGT')).fillna(0).T.to_numpy()\n",
    "    \n",
    "    profile = count_motifs / len(motifs)\n",
    "    \n",
    "    return profile"
   ]
  },
  {
   "cell_type": "code",
   "execution_count": 64,
   "metadata": {
    "collapsed": true
   },
   "outputs": [],
   "source": [
    "def get_scores(motifs, t):\n",
    "    \n",
    "    \"\"\"\n",
    "    input:\n",
    "        motifs: np.array\n",
    "    \n",
    "    output:\n",
    "        score of given motifs matrix\n",
    "    \"\"\"\n",
    "    \n",
    "    modes, counts = stats.mode(motifs)\n",
    "    scores = t - counts\n",
    "    \n",
    "    return scores.sum()"
   ]
  },
  {
   "cell_type": "code",
   "execution_count": 102,
   "metadata": {
    "collapsed": true
   },
   "outputs": [],
   "source": [
    "def greedy_motif_search(dna, k, t):\n",
    "    dna_arr = np.array([list(text) for text in dna])\n",
    "    \n",
    "    best_motifs = dna_arr[:, :k]\n",
    "    best_score = get_scores(best_motifs, t)\n",
    "    \n",
    "    for i in range(dna_arr.shape[1]-k+1):\n",
    "        motifs_list = dna_arr[0, i:i+k][np.newaxis] #motif_1\n",
    "        \n",
    "        for j in range(1,t):\n",
    "            profile = get_profile(motifs_list)\n",
    "            most_proba_kmer = most_probable_kmer(dna[j], k, profile)\n",
    "            \n",
    "            motifs_list = np.row_stack([motifs_list, most_proba_kmer])\n",
    "            \n",
    "        score_motifs_list = get_scores(motifs_list, t)\n",
    "        \n",
    "        if score_motifs_list < best_score:\n",
    "            best_score = score_motifs_list\n",
    "            best_motifs = motifs_list.copy()\n",
    "    \n",
    "    best_motifs = [''.join(motif_arr.tolist()) for motif_arr in best_motifs]\n",
    "    \n",
    "    return best_motifs"
   ]
  },
  {
   "cell_type": "code",
   "execution_count": 104,
   "metadata": {
    "collapsed": true
   },
   "outputs": [],
   "source": [
    "k = 3\n",
    "t = 5"
   ]
  },
  {
   "cell_type": "code",
   "execution_count": 103,
   "metadata": {
    "collapsed": true
   },
   "outputs": [],
   "source": [
    "dna = [\n",
    "    \"GGCGTTCAGGCA\", \n",
    "    \"AAGAATCAGTCA\", \n",
    "    \"CAAGGAGTTCGC\", \n",
    "    \"CACGTCAATCAC\", \n",
    "    \"CAATAATATTCG\"\n",
    "]"
   ]
  },
  {
   "cell_type": "code",
   "execution_count": 105,
   "metadata": {},
   "outputs": [
    {
     "data": {
      "text/plain": [
       "['CAG', 'CAG', 'CAA', 'CAA', 'CAA']"
      ]
     },
     "execution_count": 105,
     "metadata": {},
     "output_type": "execute_result"
    }
   ],
   "source": [
    "greedy_motif_search(dna, k, t)"
   ]
  },
  {
   "cell_type": "code",
   "execution_count": 127,
   "metadata": {
    "collapsed": true
   },
   "outputs": [],
   "source": [
    "def main():\n",
    "    \n",
    "    file = open('rosalind_ba2d.txt', 'r')\n",
    "    \n",
    "    k, t = list(map(int, next(file).split()))\n",
    "    \n",
    "    #print(k, t)\n",
    "    \n",
    "    dna = []\n",
    "    for string in file:\n",
    "        dna.append(string.strip())\n",
    "    \n",
    "    #print(dna)\n",
    "    \n",
    "    print(\"\\n\".join(greedy_motif_search(dna, k, t)))\n",
    "\n",
    "    file.close()"
   ]
  },
  {
   "cell_type": "code",
   "execution_count": 128,
   "metadata": {},
   "outputs": [
    {
     "name": "stdout",
     "output_type": "stream",
     "text": [
      "TCAGTTTGTATT\n",
      "AAACCACGAAGT\n",
      "CTAGGAGCTCTA\n",
      "TTCGGATGGCCC\n",
      "TAGCGTCCGGTA\n",
      "GATTTGTTCGTT\n",
      "AAAGGTTCGCGC\n",
      "TCAGTTCCTATA\n",
      "AAAGGAGGCATA\n",
      "TCCGTTTGTATC\n",
      "TCGGTTTTTATT\n",
      "TCAGTTTCTATC\n",
      "TAGGCTTCTGTT\n",
      "TCTGTTCGTATT\n",
      "TTATTATGTGTA\n",
      "TAAGTTTCGAGC\n",
      "TCAGTTCTTATC\n",
      "TCCGTTGGTATA\n",
      "TCTGTTGTTATT\n",
      "AAAGGGTCGAGC\n",
      "GAAGGTTGTAGC\n",
      "TTTGGGCCTCGC\n",
      "TTGGGTGCTAGT\n",
      "TCGGTTCCTATC\n",
      "TCAGTTCCTATC\n"
     ]
    }
   ],
   "source": [
    "if __name__ == \"__main__\":\n",
    "    main()"
   ]
  },
  {
   "cell_type": "code",
   "execution_count": null,
   "metadata": {
    "collapsed": true
   },
   "outputs": [],
   "source": []
  }
 ],
 "metadata": {
  "kernelspec": {
   "display_name": "Python 3",
   "language": "python",
   "name": "python3"
  },
  "language_info": {
   "codemirror_mode": {
    "name": "ipython",
    "version": 3
   },
   "file_extension": ".py",
   "mimetype": "text/x-python",
   "name": "python",
   "nbconvert_exporter": "python",
   "pygments_lexer": "ipython3",
   "version": "3.6.4"
  }
 },
 "nbformat": 4,
 "nbformat_minor": 2
}
