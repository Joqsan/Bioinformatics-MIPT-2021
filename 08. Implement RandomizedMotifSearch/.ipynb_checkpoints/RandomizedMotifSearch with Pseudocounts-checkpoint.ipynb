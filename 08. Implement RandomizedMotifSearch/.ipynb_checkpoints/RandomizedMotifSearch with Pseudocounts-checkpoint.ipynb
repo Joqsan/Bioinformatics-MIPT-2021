{
 "cells": [
  {
   "cell_type": "markdown",
   "metadata": {},
   "source": [
    "https://stepik.org/lesson/240241/step/4?unit=214000\n",
    "\n",
    "\n",
    "https://github.com/ivanov-v-v/rosalind-mipt-2019/blob/master/06%20%E2%80%94%20ba2d/main.py"
   ]
  },
  {
   "cell_type": "code",
   "execution_count": 1,
   "metadata": {
    "collapsed": true
   },
   "outputs": [],
   "source": [
    "import numpy as np\n",
    "import pandas as pd\n",
    "from collections import Counter\n",
    "from scipy import stats"
   ]
  },
  {
   "cell_type": "code",
   "execution_count": 2,
   "metadata": {
    "collapsed": true
   },
   "outputs": [],
   "source": [
    "alphabet = list('ACGT')\n",
    "letter_to_id = {letter: idx for idx, letter in enumerate(alphabet)}"
   ]
  },
  {
   "cell_type": "code",
   "execution_count": 3,
   "metadata": {
    "collapsed": true
   },
   "outputs": [],
   "source": [
    "def most_probable_kmer(text, k, profile_matrix):\n",
    "    \n",
    "    \"\"\"\n",
    "    output:\n",
    "        most probable kmer in text for given profile matrix\n",
    "    \"\"\"\n",
    "    \n",
    "    best_proba = -np.inf\n",
    "    most_proba_kmer = None\n",
    "    \n",
    "    for i in range(len(text)-k+1):\n",
    "        kmer = text[i:i+k]\n",
    "        indexes = [letter_to_id[char] for char in kmer]\n",
    "        \n",
    "        string_proba = np.choose(indexes, profile_matrix).prod()\n",
    "        \n",
    "        if string_proba > best_proba:\n",
    "            best_proba = string_proba\n",
    "            most_proba_kmer = kmer\n",
    "    \n",
    "    return np.array(list(most_proba_kmer))"
   ]
  },
  {
   "cell_type": "code",
   "execution_count": 4,
   "metadata": {
    "collapsed": true
   },
   "outputs": [],
   "source": [
    "def get_profile_with_pseudocounts(motifs):\n",
    "    \n",
    "    \"\"\"\n",
    "    input:\n",
    "        motifs: np.array\n",
    "    \n",
    "    output:\n",
    "        profile matrix\n",
    "    \"\"\"\n",
    "    \n",
    "    counter = np.apply_along_axis(Counter, 0, motifs)\n",
    "    counter = [dict(c) for c in counter]\n",
    "    \n",
    "    count_motifs = pd.DataFrame(counter, columns=list('ACGT')).fillna(0).T.to_numpy()\n",
    "    \n",
    "    # Laplace’s Rule of Succession\n",
    "    count_motifs = count_motifs + 1\n",
    "    \n",
    "    # Plus 4, since for each letter in the alphabet (ACGT) we add 1\n",
    "    profile = count_motifs / (len(motifs) + 4)\n",
    "    \n",
    "    return profile"
   ]
  },
  {
   "cell_type": "code",
   "execution_count": 5,
   "metadata": {
    "collapsed": true
   },
   "outputs": [],
   "source": [
    "# motifs = [\n",
    "#     \"TAAC\",\n",
    "# \"GTCT\",\n",
    "#     \"ACTA\",\n",
    "# \"AGGT\"\n",
    "# ]\n",
    "motifs = ['ACCT']"
   ]
  },
  {
   "cell_type": "code",
   "execution_count": 6,
   "metadata": {},
   "outputs": [
    {
     "data": {
      "text/plain": [
       "array([['A', 'C', 'C', 'T']], dtype='<U1')"
      ]
     },
     "execution_count": 6,
     "metadata": {},
     "output_type": "execute_result"
    }
   ],
   "source": [
    "dna_arr = np.array([list(text) for text in motifs])\n",
    "dna_arr"
   ]
  },
  {
   "cell_type": "code",
   "execution_count": 7,
   "metadata": {
    "collapsed": true
   },
   "outputs": [],
   "source": [
    "counter = np.apply_along_axis(Counter, 0, dna_arr)\n",
    "counter = [dict(c) for c in counter]"
   ]
  },
  {
   "cell_type": "code",
   "execution_count": 8,
   "metadata": {
    "collapsed": true
   },
   "outputs": [],
   "source": [
    "count_motifs = pd.DataFrame(counter, columns=list('ACGT')).fillna(0).T.to_numpy()"
   ]
  },
  {
   "cell_type": "code",
   "execution_count": 9,
   "metadata": {},
   "outputs": [
    {
     "data": {
      "text/plain": [
       "array([[2., 1., 1., 1.],\n",
       "       [1., 2., 2., 1.],\n",
       "       [1., 1., 1., 1.],\n",
       "       [1., 1., 1., 2.]])"
      ]
     },
     "execution_count": 9,
     "metadata": {},
     "output_type": "execute_result"
    }
   ],
   "source": [
    "count_motifs = count_motifs + 1\n",
    "count_motifs"
   ]
  },
  {
   "cell_type": "code",
   "execution_count": 10,
   "metadata": {},
   "outputs": [
    {
     "data": {
      "text/plain": [
       "array([[0.4, 0.2, 0.2, 0.2],\n",
       "       [0.2, 0.4, 0.4, 0.2],\n",
       "       [0.2, 0.2, 0.2, 0.2],\n",
       "       [0.2, 0.2, 0.2, 0.4]])"
      ]
     },
     "execution_count": 10,
     "metadata": {},
     "output_type": "execute_result"
    }
   ],
   "source": [
    "profile = get_profile_with_pseudocounts(dna_arr)\n",
    "profile"
   ]
  },
  {
   "cell_type": "code",
   "execution_count": 11,
   "metadata": {},
   "outputs": [
    {
     "data": {
      "text/plain": [
       "'GATGTCTGTC'"
      ]
     },
     "execution_count": 11,
     "metadata": {},
     "output_type": "execute_result"
    }
   ],
   "source": [
    "text = \"gATGTctgtc\".upper()\n",
    "text"
   ]
  },
  {
   "cell_type": "code",
   "execution_count": 12,
   "metadata": {},
   "outputs": [
    {
     "data": {
      "text/plain": [
       "array(['A', 'T', 'G', 'T'], dtype='<U1')"
      ]
     },
     "execution_count": 12,
     "metadata": {},
     "output_type": "execute_result"
    }
   ],
   "source": [
    "most_probable_kmer(text, 4, profile)"
   ]
  },
  {
   "cell_type": "code",
   "execution_count": null,
   "metadata": {
    "collapsed": true
   },
   "outputs": [],
   "source": []
  },
  {
   "cell_type": "code",
   "execution_count": null,
   "metadata": {
    "collapsed": true
   },
   "outputs": [],
   "source": []
  },
  {
   "cell_type": "code",
   "execution_count": null,
   "metadata": {
    "collapsed": true
   },
   "outputs": [],
   "source": []
  },
  {
   "cell_type": "code",
   "execution_count": null,
   "metadata": {
    "collapsed": true
   },
   "outputs": [],
   "source": []
  },
  {
   "cell_type": "code",
   "execution_count": 13,
   "metadata": {
    "collapsed": true
   },
   "outputs": [],
   "source": [
    "def get_scores(motifs, t):\n",
    "    \n",
    "    \"\"\"\n",
    "    input:\n",
    "        motifs: np.array\n",
    "    \n",
    "    output:\n",
    "        score of given motifs matrix\n",
    "    \"\"\"\n",
    "    \n",
    "    modes, counts = stats.mode(motifs)\n",
    "    scores = t - counts\n",
    "    \n",
    "    return scores.sum()"
   ]
  },
  {
   "cell_type": "code",
   "execution_count": 14,
   "metadata": {
    "collapsed": true
   },
   "outputs": [],
   "source": [
    "def greedy_motif_search_with_pseudocounts(dna, k, t):\n",
    "    dna_arr = np.array([list(text) for text in dna])\n",
    "    \n",
    "    best_motifs = dna_arr[:, :k]\n",
    "    best_score = get_scores(best_motifs, t)\n",
    "    \n",
    "    for i in range(dna_arr.shape[1]-k+1):\n",
    "        motifs_list = dna_arr[0, i:i+k][np.newaxis] #motif_1\n",
    "        \n",
    "        for j in range(1,t):\n",
    "            profile = get_profile_with_pseudocounts(motifs_list)\n",
    "            most_proba_kmer = most_probable_kmer(dna[j], k, profile)\n",
    "            \n",
    "            motifs_list = np.row_stack([motifs_list, most_proba_kmer])\n",
    "            \n",
    "        score_motifs_list = get_scores(motifs_list, t)\n",
    "        \n",
    "        if score_motifs_list < best_score:\n",
    "            best_score = score_motifs_list\n",
    "            best_motifs = motifs_list.copy()\n",
    "    \n",
    "    best_motifs = [''.join(motif_arr.tolist()) for motif_arr in best_motifs]\n",
    "    \n",
    "    return best_motifs"
   ]
  },
  {
   "cell_type": "code",
   "execution_count": 15,
   "metadata": {
    "collapsed": true
   },
   "outputs": [],
   "source": [
    "k = 3\n",
    "t = 5"
   ]
  },
  {
   "cell_type": "code",
   "execution_count": 16,
   "metadata": {
    "collapsed": true
   },
   "outputs": [],
   "source": [
    "dna = [\n",
    "    \"GGCGTTCAGGCA\", \n",
    "    \"AAGAATCAGTCA\", \n",
    "    \"CAAGGAGTTCGC\", \n",
    "    \"CACGTCAATCAC\", \n",
    "    \"CAATAATATTCG\"\n",
    "]"
   ]
  },
  {
   "cell_type": "code",
   "execution_count": 17,
   "metadata": {},
   "outputs": [
    {
     "data": {
      "text/plain": [
       "['TTC', 'ATC', 'TTC', 'ATC', 'TTC']"
      ]
     },
     "execution_count": 17,
     "metadata": {},
     "output_type": "execute_result"
    }
   ],
   "source": [
    "greedy_motif_search_with_pseudocounts(dna, k, t)"
   ]
  },
  {
   "cell_type": "code",
   "execution_count": 18,
   "metadata": {
    "collapsed": true
   },
   "outputs": [],
   "source": [
    "dna_arr = np.array([list(text) for text in dna])"
   ]
  },
  {
   "cell_type": "code",
   "execution_count": 20,
   "metadata": {},
   "outputs": [
    {
     "data": {
      "text/plain": [
       "(5, 12)"
      ]
     },
     "execution_count": 20,
     "metadata": {},
     "output_type": "execute_result"
    }
   ],
   "source": [
    "dna_arr.shape"
   ]
  },
  {
   "cell_type": "code",
   "execution_count": 21,
   "metadata": {},
   "outputs": [
    {
     "name": "stderr",
     "output_type": "stream",
     "text": [
      "/Library/Frameworks/Python.framework/Versions/3.6/lib/python3.6/site-packages/ipykernel_launcher.py:1: DeprecationWarning: This function is deprecated. Please call randint(0, 9 + 1) instead\n",
      "  \"\"\"Entry point for launching an IPython kernel.\n"
     ]
    },
    {
     "data": {
      "text/plain": [
       "array([0, 2, 3, 3, 8])"
      ]
     },
     "execution_count": 21,
     "metadata": {},
     "output_type": "execute_result"
    }
   ],
   "source": [
    "np.random.random_integers(0, 12-k, t)"
   ]
  },
  {
   "cell_type": "code",
   "execution_count": null,
   "metadata": {
    "collapsed": true
   },
   "outputs": [],
   "source": []
  },
  {
   "cell_type": "code",
   "execution_count": null,
   "metadata": {
    "collapsed": true
   },
   "outputs": [],
   "source": []
  },
  {
   "cell_type": "code",
   "execution_count": null,
   "metadata": {
    "collapsed": true
   },
   "outputs": [],
   "source": []
  },
  {
   "cell_type": "code",
   "execution_count": null,
   "metadata": {
    "collapsed": true
   },
   "outputs": [],
   "source": []
  },
  {
   "cell_type": "code",
   "execution_count": null,
   "metadata": {
    "collapsed": true
   },
   "outputs": [],
   "source": []
  },
  {
   "cell_type": "code",
   "execution_count": null,
   "metadata": {
    "collapsed": true
   },
   "outputs": [],
   "source": []
  },
  {
   "cell_type": "code",
   "execution_count": 79,
   "metadata": {
    "collapsed": true
   },
   "outputs": [],
   "source": [
    "def main():\n",
    "    \n",
    "    file = open('rosalind_ba2e.txt', 'r')\n",
    "    \n",
    "    k, t = list(map(int, next(file).split()))\n",
    "    \n",
    "    \n",
    "    dna = []\n",
    "    for string in file:\n",
    "        dna.append(string.strip())\n",
    "    \n",
    "    \n",
    "    print(\"\\n\".join(greedy_motif_search_with_pseudocounts(dna, k, t)))\n",
    "\n",
    "    file.close()"
   ]
  },
  {
   "cell_type": "code",
   "execution_count": 80,
   "metadata": {},
   "outputs": [
    {
     "name": "stdout",
     "output_type": "stream",
     "text": [
      "CAGAGGGTCTCA\n",
      "AAGACGCTCGCA\n",
      "TAGAAGATCACA\n",
      "TAGACGATCCCA\n",
      "TAGATGGTCGCA\n",
      "AAGACGTTCCCA\n",
      "GAGAGGATCGCA\n",
      "CAGAGGTTCACA\n",
      "CAGAAGCTCACA\n",
      "AAGAAGGTCTCA\n",
      "TAGACGCTCGCA\n",
      "GAGACGGTCGCA\n",
      "GAGAGGGTCTCA\n",
      "CAGACGCTCACA\n",
      "CAGACGGTCCCA\n",
      "GAGACGATCTCA\n",
      "TAGATGATCGCA\n",
      "GAGAAGCTCTCA\n",
      "GAGAGGGTCGCA\n",
      "TAGATGGTCACA\n",
      "AAGATGATCTCA\n",
      "GAGAGGGTCCCA\n",
      "TAGATGTTCCCA\n",
      "GAGAAGATCCCA\n",
      "TAGAAGCTCCCA\n"
     ]
    }
   ],
   "source": [
    "if __name__ == \"__main__\":\n",
    "    main()"
   ]
  },
  {
   "cell_type": "code",
   "execution_count": null,
   "metadata": {
    "collapsed": true
   },
   "outputs": [],
   "source": []
  }
 ],
 "metadata": {
  "kernelspec": {
   "display_name": "Python 3",
   "language": "python",
   "name": "python3"
  },
  "language_info": {
   "codemirror_mode": {
    "name": "ipython",
    "version": 3
   },
   "file_extension": ".py",
   "mimetype": "text/x-python",
   "name": "python",
   "nbconvert_exporter": "python",
   "pygments_lexer": "ipython3",
   "version": "3.6.4"
  }
 },
 "nbformat": 4,
 "nbformat_minor": 2
}
