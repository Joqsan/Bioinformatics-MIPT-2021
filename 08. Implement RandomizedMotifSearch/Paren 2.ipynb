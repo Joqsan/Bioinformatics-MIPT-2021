{
 "cells": [
  {
   "cell_type": "code",
   "execution_count": 1,
   "metadata": {
    "collapsed": true
   },
   "outputs": [],
   "source": [
    "import numpy as np"
   ]
  },
  {
   "cell_type": "code",
   "execution_count": 2,
   "metadata": {
    "collapsed": true
   },
   "outputs": [],
   "source": [
    "def profile(motifs):\n",
    "    profile = np.ones((4, len(motifs[0])))\n",
    "    for motif in motifs:\n",
    "        for idx, symbol in enumerate(motif):\n",
    "            symbol_idx = \"ATGC\".index(symbol)\n",
    "            profile[symbol_idx, idx] += 1 / (2 * len(motifs))\n",
    "    return profile\n"
   ]
  },
  {
   "cell_type": "code",
   "execution_count": 3,
   "metadata": {
    "collapsed": true
   },
   "outputs": [],
   "source": [
    "def hamming_distance(str1, str2):\n",
    "    if len(str1) != len(str2):\n",
    "        return None\n",
    "    distance = 0\n",
    "    for symbol1, symbol2 in zip(str1, str2):\n",
    "        if symbol1 != symbol2:\n",
    "            distance += 1\n",
    "    return distance"
   ]
  },
  {
   "cell_type": "code",
   "execution_count": 4,
   "metadata": {
    "collapsed": true
   },
   "outputs": [],
   "source": [
    "def k_mer_probability(k_mer, profile):\n",
    "    probability = 1\n",
    "    for idx, symbol in enumerate(k_mer):\n",
    "        symbol_idx = \"ATGC\".index(symbol)\n",
    "        probability *= profile[symbol_idx, idx]\n",
    "    return probability"
   ]
  },
  {
   "cell_type": "code",
   "execution_count": 5,
   "metadata": {
    "collapsed": true
   },
   "outputs": [],
   "source": [
    "def profile_most_probable_k_mer(dna_str, profile, k):\n",
    "    most_probable_k_mer = dna_str[:k]\n",
    "    highest_probability = k_mer_probability(most_probable_k_mer, profile)\n",
    "    for i in range(len(dna_str) - k + 1):\n",
    "        k_mer = dna_str[i: i + k]\n",
    "        prob = k_mer_probability(k_mer, profile)\n",
    "        if prob > highest_probability:\n",
    "            highest_probability = prob\n",
    "            most_probable_k_mer = k_mer\n",
    "    return most_probable_k_mer"
   ]
  },
  {
   "cell_type": "code",
   "execution_count": 6,
   "metadata": {
    "collapsed": true
   },
   "outputs": [],
   "source": [
    "def score(motifs):\n",
    "    profile_ = profile(motifs)\n",
    "    symbols = \"ATGC\"\n",
    "    consensus_string = \"\".join(map(lambda x: symbols[x], np.argmax(profile_, axis=0)))\n",
    "    score = 0\n",
    "    for motif in motifs:\n",
    "        score += hamming_distance(motif, consensus_string)\n",
    "    return score"
   ]
  },
  {
   "cell_type": "code",
   "execution_count": 7,
   "metadata": {
    "collapsed": true
   },
   "outputs": [],
   "source": [
    "def motifs(profile, dna, k):\n",
    "    motifs = []\n",
    "    for str_ in dna:\n",
    "        motifs.append(profile_most_probable_k_mer(str_, profile, k))\n",
    "    return motifs"
   ]
  },
  {
   "cell_type": "code",
   "execution_count": 8,
   "metadata": {
    "collapsed": true
   },
   "outputs": [],
   "source": [
    "def randomized_motif_search(dna, k, t):\n",
    "    best_motifs = []\n",
    "    for str_ in dna:\n",
    "        start_idx = np.random.choice(len(str_) - k + 1)\n",
    "        best_motifs.append(str_[start_idx: start_idx + k])\n",
    "    best_score = score(best_motifs)\n",
    "    current_motifs = best_motifs\n",
    "    while True:\n",
    "        profile_ = profile(current_motifs)\n",
    "        current_motifs = motifs(profile_, dna, k)\n",
    "        current_score = score(current_motifs)\n",
    "        if current_score < best_score:\n",
    "            best_score = current_score\n",
    "            best_motifs = current_motifs\n",
    "        else:\n",
    "            return best_motifs\n"
   ]
  },
  {
   "cell_type": "code",
   "execution_count": 16,
   "metadata": {
    "collapsed": true
   },
   "outputs": [],
   "source": [
    "from tqdm import tqdm"
   ]
  },
  {
   "cell_type": "code",
   "execution_count": 21,
   "metadata": {
    "collapsed": true
   },
   "outputs": [],
   "source": [
    "def main():\n",
    "    \n",
    "    file = open('rosalind_ba2f.txt', 'r')\n",
    "    \n",
    "    k, t = k, t = list(map(int, next(file).split()))\n",
    "    dna = []\n",
    "    for string in file:\n",
    "        dna.append(string.strip())\n",
    "    best_motifs = randomized_motif_search(dna, k, t)\n",
    "    best_score = score(best_motifs)\n",
    "    for i in tqdm(range(999)):\n",
    "        motifs = randomized_motif_search(dna, k, t)\n",
    "        current_score = score(motifs)\n",
    "        if current_score < best_score:\n",
    "            best_score = current_score\n",
    "            best_motifs = motifs\n",
    "    for motif in best_motifs:\n",
    "        print(motif)\n",
    "\n",
    "\n"
   ]
  },
  {
   "cell_type": "code",
   "execution_count": null,
   "metadata": {},
   "outputs": [
    {
     "name": "stderr",
     "output_type": "stream",
     "text": [
      " 66%|██████▌   | 658/999 [03:22<01:05,  5.22it/s]"
     ]
    }
   ],
   "source": [
    "if __name__ == \"__main__\":\n",
    "    main()"
   ]
  },
  {
   "cell_type": "code",
   "execution_count": null,
   "metadata": {
    "collapsed": true
   },
   "outputs": [],
   "source": []
  }
 ],
 "metadata": {
  "kernelspec": {
   "display_name": "Python 3",
   "language": "python",
   "name": "python3"
  },
  "language_info": {
   "codemirror_mode": {
    "name": "ipython",
    "version": 3
   },
   "file_extension": ".py",
   "mimetype": "text/x-python",
   "name": "python",
   "nbconvert_exporter": "python",
   "pygments_lexer": "ipython3",
   "version": "3.6.4"
  }
 },
 "nbformat": 4,
 "nbformat_minor": 2
}
