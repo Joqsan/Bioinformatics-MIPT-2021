{
 "cells": [
  {
   "cell_type": "code",
   "execution_count": 1,
   "metadata": {
    "collapsed": true
   },
   "outputs": [],
   "source": [
    "from collections import Counter\n",
    "import itertools\n",
    "from tqdm import tqdm\n",
    "\n",
    "import numpy as np\n",
    "from scipy.spatial import distance\n",
    "\n",
    "\n",
    "def get_kmers(dna, k):\n",
    "    return [np.array(list(dna[i : i + k]))\n",
    "            for i in range(len(dna) - k)]\n",
    "\n",
    "\n",
    "def get_base_counts(dna):\n",
    "    bases = ['A', 'T', 'G', 'C']\n",
    "    return np.array([\n",
    "        np.sum(dna == base) \n",
    "        for base in bases\n",
    "    ])\n",
    "\n",
    "\n",
    "def get_base_pseudocounts(dna):\n",
    "    return get_base_counts(dna) + 1\n",
    "\n",
    "\n",
    "base_to_num = {\n",
    "    'A' : 0, 'T' : 1,\n",
    "    'G' : 2, 'C' : 3\n",
    "}\n",
    "\n",
    "num_to_base = {\n",
    "    val : key\n",
    "    for key, val in base_to_num.items()\n",
    "}\n",
    "\n",
    "\n",
    "def get_profile(motifs):\n",
    "    motif_mx = np.vstack(motifs)\n",
    "    t, k = motif_mx.shape\n",
    "    counts = np.column_stack([\n",
    "        get_base_pseudocounts(col)\n",
    "        for col in motif_mx.T\n",
    "    ])\n",
    "    assert counts.shape == (4, k)\n",
    "    return counts / counts.sum(axis=0)\n",
    "\n",
    "\n",
    "def eval_kmer_proba(kmer, profile):\n",
    "    return np.prod([\n",
    "        profile[base_to_num[kmer[i]], i]    \n",
    "        for i in range(len(kmer))\n",
    "    ])\n",
    "\n",
    "\n",
    "def find_most_probable_motif(dna, k, profile):\n",
    "    kmers_with_probas = np.vstack([\n",
    "        (kmer, eval_kmer_proba(kmer, profile))\n",
    "        for kmer in get_kmers(dna, k)\n",
    "    ])\n",
    "    top_row = np.argmax(kmers_with_probas[:, 1])\n",
    "    return kmers_with_probas[top_row, 0]\n",
    "\n",
    "\n",
    "def get_consensus(profile):\n",
    "    return np.array([\n",
    "        num_to_base[np.argmax(col)]\n",
    "        for col in profile.T\n",
    "    ])\n",
    "\n",
    "\n",
    "def get_score(motifs):\n",
    "    motif_mx = np.vstack(motifs)\n",
    "    profile = get_profile(motif_mx)\n",
    "    consensus = get_consensus(profile)\n",
    "    return np.sum(\n",
    "        (motif != consensus).sum()\n",
    "        for motif in motif_mx\n",
    "    )\n",
    "\n",
    "\n",
    "def randomized_motif_search(reads, k, t):\n",
    "    motifs = []\n",
    "    for i in range(t):\n",
    "        dna = reads[i]\n",
    "        start = np.random.randint(low=0, high=n-k)\n",
    "        motifs.append(np.array(list(dna[start : start + k])))\n",
    "    best_motifs = motifs\n",
    "    while True:\n",
    "        profile = get_profile(motifs)\n",
    "        motifs = [\n",
    "            find_most_probable_motif(dna, k, profile)\n",
    "            for dna in reads\n",
    "        ]\n",
    "        if get_score(motifs) < get_score(best_motifs):\n",
    "            best_motifs = motifs\n",
    "        else: \n",
    "            return best_motifs"
   ]
  },
  {
   "cell_type": "code",
   "execution_count": 2,
   "metadata": {},
   "outputs": [
    {
     "name": "stderr",
     "output_type": "stream",
     "text": [
      "/Library/Frameworks/Python.framework/Versions/3.6/lib/python3.6/site-packages/ipykernel_launcher.py:77: DeprecationWarning: Calling np.sum(generator) is deprecated, and in the future will give a different result. Use np.sum(np.fromiter(generator)) or the python sum builtin instead.\n",
      "monte-carlo iterations passed:   0%|          | 0/1000 [00:00<?, ?it/s]/Library/Frameworks/Python.framework/Versions/3.6/lib/python3.6/site-packages/numpy/core/_asarray.py:136: VisibleDeprecationWarning: Creating an ndarray from ragged nested sequences (which is a list-or-tuple of lists-or-tuples-or ndarrays with different lengths or shapes) is deprecated. If you meant to do this, you must specify 'dtype=object' when creating the ndarray\n",
      "  return array(a, dtype, copy=False, order=order, subok=True)\n",
      "monte-carlo iterations passed:   0%|          | 1/1000 [00:00<11:17,  1.47it/s]"
     ]
    },
    {
     "name": "stdout",
     "output_type": "stream",
     "text": [
      "129\n"
     ]
    },
    {
     "name": "stderr",
     "output_type": "stream",
     "text": [
      "\r",
      "monte-carlo iterations passed:   0%|          | 2/1000 [00:01<10:31,  1.58it/s]"
     ]
    },
    {
     "name": "stdout",
     "output_type": "stream",
     "text": [
      "64\n"
     ]
    },
    {
     "name": "stderr",
     "output_type": "stream",
     "text": [
      "monte-carlo iterations passed:   4%|▎         | 35/1000 [00:19<13:21,  1.20it/s]"
     ]
    },
    {
     "name": "stdout",
     "output_type": "stream",
     "text": [
      "63\n"
     ]
    },
    {
     "name": "stderr",
     "output_type": "stream",
     "text": [
      "monte-carlo iterations passed:  53%|█████▎    | 528/1000 [05:34<04:59,  1.58it/s]\n"
     ]
    },
    {
     "ename": "KeyboardInterrupt",
     "evalue": "",
     "output_type": "error",
     "traceback": [
      "\u001b[0;31m---------------------------------------------------------------------------\u001b[0m",
      "\u001b[0;31mKeyboardInterrupt\u001b[0m                         Traceback (most recent call last)",
      "\u001b[0;32m<ipython-input-2-d3f1d9bd8822>\u001b[0m in \u001b[0;36m<module>\u001b[0;34m()\u001b[0m\n\u001b[1;32m     12\u001b[0m \u001b[0mbest_score\u001b[0m \u001b[0;34m=\u001b[0m \u001b[0mget_score\u001b[0m\u001b[0;34m(\u001b[0m\u001b[0mbest_motifs\u001b[0m\u001b[0;34m)\u001b[0m\u001b[0;34m\u001b[0m\u001b[0m\n\u001b[1;32m     13\u001b[0m \u001b[0;32mfor\u001b[0m \u001b[0m_\u001b[0m \u001b[0;32min\u001b[0m \u001b[0mtqdm\u001b[0m\u001b[0;34m(\u001b[0m\u001b[0mrange\u001b[0m\u001b[0;34m(\u001b[0m\u001b[0mMC_ITERS\u001b[0m\u001b[0;34m)\u001b[0m\u001b[0;34m,\u001b[0m \u001b[0mdesc\u001b[0m\u001b[0;34m=\u001b[0m\u001b[0;34m\"monte-carlo iterations passed\"\u001b[0m\u001b[0;34m)\u001b[0m\u001b[0;34m:\u001b[0m\u001b[0;34m\u001b[0m\u001b[0m\n\u001b[0;32m---> 14\u001b[0;31m     \u001b[0mcandidate_motifs\u001b[0m \u001b[0;34m=\u001b[0m \u001b[0mrandomized_motif_search\u001b[0m\u001b[0;34m(\u001b[0m\u001b[0mreads\u001b[0m\u001b[0;34m,\u001b[0m \u001b[0mk\u001b[0m\u001b[0;34m,\u001b[0m \u001b[0mt\u001b[0m\u001b[0;34m)\u001b[0m\u001b[0;34m\u001b[0m\u001b[0m\n\u001b[0m\u001b[1;32m     15\u001b[0m     \u001b[0mcandidate_score\u001b[0m \u001b[0;34m=\u001b[0m \u001b[0mget_score\u001b[0m\u001b[0;34m(\u001b[0m\u001b[0mcandidate_motifs\u001b[0m\u001b[0;34m)\u001b[0m\u001b[0;34m\u001b[0m\u001b[0m\n\u001b[1;32m     16\u001b[0m     \u001b[0;32mif\u001b[0m \u001b[0mcandidate_score\u001b[0m \u001b[0;34m<\u001b[0m \u001b[0mbest_score\u001b[0m\u001b[0;34m:\u001b[0m\u001b[0;34m\u001b[0m\u001b[0m\n",
      "\u001b[0;32m<ipython-input-1-97b6d876565b>\u001b[0m in \u001b[0;36mrandomized_motif_search\u001b[0;34m(reads, k, t)\u001b[0m\n\u001b[1;32m     90\u001b[0m         motifs = [\n\u001b[1;32m     91\u001b[0m             \u001b[0mfind_most_probable_motif\u001b[0m\u001b[0;34m(\u001b[0m\u001b[0mdna\u001b[0m\u001b[0;34m,\u001b[0m \u001b[0mk\u001b[0m\u001b[0;34m,\u001b[0m \u001b[0mprofile\u001b[0m\u001b[0;34m)\u001b[0m\u001b[0;34m\u001b[0m\u001b[0m\n\u001b[0;32m---> 92\u001b[0;31m             \u001b[0;32mfor\u001b[0m \u001b[0mdna\u001b[0m \u001b[0;32min\u001b[0m \u001b[0mreads\u001b[0m\u001b[0;34m\u001b[0m\u001b[0m\n\u001b[0m\u001b[1;32m     93\u001b[0m         ]\n\u001b[1;32m     94\u001b[0m         \u001b[0;32mif\u001b[0m \u001b[0mget_score\u001b[0m\u001b[0;34m(\u001b[0m\u001b[0mmotifs\u001b[0m\u001b[0;34m)\u001b[0m \u001b[0;34m<\u001b[0m \u001b[0mget_score\u001b[0m\u001b[0;34m(\u001b[0m\u001b[0mbest_motifs\u001b[0m\u001b[0;34m)\u001b[0m\u001b[0;34m:\u001b[0m\u001b[0;34m\u001b[0m\u001b[0m\n",
      "\u001b[0;32m<ipython-input-1-97b6d876565b>\u001b[0m in \u001b[0;36m<listcomp>\u001b[0;34m(.0)\u001b[0m\n\u001b[1;32m     90\u001b[0m         motifs = [\n\u001b[1;32m     91\u001b[0m             \u001b[0mfind_most_probable_motif\u001b[0m\u001b[0;34m(\u001b[0m\u001b[0mdna\u001b[0m\u001b[0;34m,\u001b[0m \u001b[0mk\u001b[0m\u001b[0;34m,\u001b[0m \u001b[0mprofile\u001b[0m\u001b[0;34m)\u001b[0m\u001b[0;34m\u001b[0m\u001b[0m\n\u001b[0;32m---> 92\u001b[0;31m             \u001b[0;32mfor\u001b[0m \u001b[0mdna\u001b[0m \u001b[0;32min\u001b[0m \u001b[0mreads\u001b[0m\u001b[0;34m\u001b[0m\u001b[0m\n\u001b[0m\u001b[1;32m     93\u001b[0m         ]\n\u001b[1;32m     94\u001b[0m         \u001b[0;32mif\u001b[0m \u001b[0mget_score\u001b[0m\u001b[0;34m(\u001b[0m\u001b[0mmotifs\u001b[0m\u001b[0;34m)\u001b[0m \u001b[0;34m<\u001b[0m \u001b[0mget_score\u001b[0m\u001b[0;34m(\u001b[0m\u001b[0mbest_motifs\u001b[0m\u001b[0;34m)\u001b[0m\u001b[0;34m:\u001b[0m\u001b[0;34m\u001b[0m\u001b[0m\n",
      "\u001b[0;32m<ipython-input-1-97b6d876565b>\u001b[0m in \u001b[0;36mfind_most_probable_motif\u001b[0;34m(dna, k, profile)\u001b[0m\n\u001b[1;32m     56\u001b[0m     kmers_with_probas = np.vstack([\n\u001b[1;32m     57\u001b[0m         \u001b[0;34m(\u001b[0m\u001b[0mkmer\u001b[0m\u001b[0;34m,\u001b[0m \u001b[0meval_kmer_proba\u001b[0m\u001b[0;34m(\u001b[0m\u001b[0mkmer\u001b[0m\u001b[0;34m,\u001b[0m \u001b[0mprofile\u001b[0m\u001b[0;34m)\u001b[0m\u001b[0;34m)\u001b[0m\u001b[0;34m\u001b[0m\u001b[0m\n\u001b[0;32m---> 58\u001b[0;31m         \u001b[0;32mfor\u001b[0m \u001b[0mkmer\u001b[0m \u001b[0;32min\u001b[0m \u001b[0mget_kmers\u001b[0m\u001b[0;34m(\u001b[0m\u001b[0mdna\u001b[0m\u001b[0;34m,\u001b[0m \u001b[0mk\u001b[0m\u001b[0;34m)\u001b[0m\u001b[0;34m\u001b[0m\u001b[0m\n\u001b[0m\u001b[1;32m     59\u001b[0m     ])\n\u001b[1;32m     60\u001b[0m     \u001b[0mtop_row\u001b[0m \u001b[0;34m=\u001b[0m \u001b[0mnp\u001b[0m\u001b[0;34m.\u001b[0m\u001b[0margmax\u001b[0m\u001b[0;34m(\u001b[0m\u001b[0mkmers_with_probas\u001b[0m\u001b[0;34m[\u001b[0m\u001b[0;34m:\u001b[0m\u001b[0;34m,\u001b[0m \u001b[0;36m1\u001b[0m\u001b[0;34m]\u001b[0m\u001b[0;34m)\u001b[0m\u001b[0;34m\u001b[0m\u001b[0m\n",
      "\u001b[0;32m<ipython-input-1-97b6d876565b>\u001b[0m in \u001b[0;36m<listcomp>\u001b[0;34m(.0)\u001b[0m\n\u001b[1;32m     56\u001b[0m     kmers_with_probas = np.vstack([\n\u001b[1;32m     57\u001b[0m         \u001b[0;34m(\u001b[0m\u001b[0mkmer\u001b[0m\u001b[0;34m,\u001b[0m \u001b[0meval_kmer_proba\u001b[0m\u001b[0;34m(\u001b[0m\u001b[0mkmer\u001b[0m\u001b[0;34m,\u001b[0m \u001b[0mprofile\u001b[0m\u001b[0;34m)\u001b[0m\u001b[0;34m)\u001b[0m\u001b[0;34m\u001b[0m\u001b[0m\n\u001b[0;32m---> 58\u001b[0;31m         \u001b[0;32mfor\u001b[0m \u001b[0mkmer\u001b[0m \u001b[0;32min\u001b[0m \u001b[0mget_kmers\u001b[0m\u001b[0;34m(\u001b[0m\u001b[0mdna\u001b[0m\u001b[0;34m,\u001b[0m \u001b[0mk\u001b[0m\u001b[0;34m)\u001b[0m\u001b[0;34m\u001b[0m\u001b[0m\n\u001b[0m\u001b[1;32m     59\u001b[0m     ])\n\u001b[1;32m     60\u001b[0m     \u001b[0mtop_row\u001b[0m \u001b[0;34m=\u001b[0m \u001b[0mnp\u001b[0m\u001b[0;34m.\u001b[0m\u001b[0margmax\u001b[0m\u001b[0;34m(\u001b[0m\u001b[0mkmers_with_probas\u001b[0m\u001b[0;34m[\u001b[0m\u001b[0;34m:\u001b[0m\u001b[0;34m,\u001b[0m \u001b[0;36m1\u001b[0m\u001b[0;34m]\u001b[0m\u001b[0;34m)\u001b[0m\u001b[0;34m\u001b[0m\u001b[0m\n",
      "\u001b[0;32m<ipython-input-1-97b6d876565b>\u001b[0m in \u001b[0;36meval_kmer_proba\u001b[0;34m(kmer, profile)\u001b[0m\n\u001b[1;32m     49\u001b[0m     return np.prod([\n\u001b[1;32m     50\u001b[0m         \u001b[0mprofile\u001b[0m\u001b[0;34m[\u001b[0m\u001b[0mbase_to_num\u001b[0m\u001b[0;34m[\u001b[0m\u001b[0mkmer\u001b[0m\u001b[0;34m[\u001b[0m\u001b[0mi\u001b[0m\u001b[0;34m]\u001b[0m\u001b[0;34m]\u001b[0m\u001b[0;34m,\u001b[0m \u001b[0mi\u001b[0m\u001b[0;34m]\u001b[0m\u001b[0;34m\u001b[0m\u001b[0m\n\u001b[0;32m---> 51\u001b[0;31m         \u001b[0;32mfor\u001b[0m \u001b[0mi\u001b[0m \u001b[0;32min\u001b[0m \u001b[0mrange\u001b[0m\u001b[0;34m(\u001b[0m\u001b[0mlen\u001b[0m\u001b[0;34m(\u001b[0m\u001b[0mkmer\u001b[0m\u001b[0;34m)\u001b[0m\u001b[0;34m)\u001b[0m\u001b[0;34m\u001b[0m\u001b[0m\n\u001b[0m\u001b[1;32m     52\u001b[0m     ])\n\u001b[1;32m     53\u001b[0m \u001b[0;34m\u001b[0m\u001b[0m\n",
      "\u001b[0;32m<__array_function__ internals>\u001b[0m in \u001b[0;36mprod\u001b[0;34m(*args, **kwargs)\u001b[0m\n",
      "\u001b[0;32m/Library/Frameworks/Python.framework/Versions/3.6/lib/python3.6/site-packages/numpy/core/fromnumeric.py\u001b[0m in \u001b[0;36mprod\u001b[0;34m(a, axis, dtype, out, keepdims, initial, where)\u001b[0m\n\u001b[1;32m   2998\u001b[0m     \"\"\"\n\u001b[1;32m   2999\u001b[0m     return _wrapreduction(a, np.multiply, 'prod', axis, dtype, out,\n\u001b[0;32m-> 3000\u001b[0;31m                           keepdims=keepdims, initial=initial, where=where)\n\u001b[0m\u001b[1;32m   3001\u001b[0m \u001b[0;34m\u001b[0m\u001b[0m\n\u001b[1;32m   3002\u001b[0m \u001b[0;34m\u001b[0m\u001b[0m\n",
      "\u001b[0;32m/Library/Frameworks/Python.framework/Versions/3.6/lib/python3.6/site-packages/numpy/core/fromnumeric.py\u001b[0m in \u001b[0;36m_wrapreduction\u001b[0;34m(obj, ufunc, method, axis, dtype, out, **kwargs)\u001b[0m\n\u001b[1;32m     85\u001b[0m                 \u001b[0;32mreturn\u001b[0m \u001b[0mreduction\u001b[0m\u001b[0;34m(\u001b[0m\u001b[0maxis\u001b[0m\u001b[0;34m=\u001b[0m\u001b[0maxis\u001b[0m\u001b[0;34m,\u001b[0m \u001b[0mout\u001b[0m\u001b[0;34m=\u001b[0m\u001b[0mout\u001b[0m\u001b[0;34m,\u001b[0m \u001b[0;34m**\u001b[0m\u001b[0mpasskwargs\u001b[0m\u001b[0;34m)\u001b[0m\u001b[0;34m\u001b[0m\u001b[0m\n\u001b[1;32m     86\u001b[0m \u001b[0;34m\u001b[0m\u001b[0m\n\u001b[0;32m---> 87\u001b[0;31m     \u001b[0;32mreturn\u001b[0m \u001b[0mufunc\u001b[0m\u001b[0;34m.\u001b[0m\u001b[0mreduce\u001b[0m\u001b[0;34m(\u001b[0m\u001b[0mobj\u001b[0m\u001b[0;34m,\u001b[0m \u001b[0maxis\u001b[0m\u001b[0;34m,\u001b[0m \u001b[0mdtype\u001b[0m\u001b[0;34m,\u001b[0m \u001b[0mout\u001b[0m\u001b[0;34m,\u001b[0m \u001b[0;34m**\u001b[0m\u001b[0mpasskwargs\u001b[0m\u001b[0;34m)\u001b[0m\u001b[0;34m\u001b[0m\u001b[0m\n\u001b[0m\u001b[1;32m     88\u001b[0m \u001b[0;34m\u001b[0m\u001b[0m\n\u001b[1;32m     89\u001b[0m \u001b[0;34m\u001b[0m\u001b[0m\n",
      "\u001b[0;31mKeyboardInterrupt\u001b[0m: "
     ]
    }
   ],
   "source": [
    "lines = [line.strip() for line in list(open(\"randomized_motif_search.txt\", \"r\"))]\n",
    "#target_motifs = [np.array(list(line.strip())) for line in list(open(\"target.txt\", \"r\"))]\n",
    "k, t = (int(num) for num in lines[0].split())\n",
    "reads = lines[1:]\n",
    "n = len(reads[0])\n",
    "\n",
    "MC_ITERS = 1000\n",
    "best_motifs = [ \n",
    "    np.array(list(dna[:k]))\n",
    "    for dna in reads\n",
    "]  \n",
    "best_score = get_score(best_motifs)\n",
    "for _ in tqdm(range(MC_ITERS), desc=\"monte-carlo iterations passed\"):\n",
    "    candidate_motifs = randomized_motif_search(reads, k, t)\n",
    "    candidate_score = get_score(candidate_motifs)\n",
    "    if candidate_score < best_score:\n",
    "        best_score = candidate_score\n",
    "        best_motifs = candidate_motifs\n",
    "        print(best_score)\n",
    "\n",
    "#    print(\"TARGET: \", get_score(target_motifs))\n",
    "\n",
    "answers = '\\n'.join([''.join(motif) for motif in best_motifs])"
   ]
  },
  {
   "cell_type": "code",
   "execution_count": 11,
   "metadata": {},
   "outputs": [
    {
     "name": "stdout",
     "output_type": "stream",
     "text": [
      "CATGGGGAAAACTGA\n",
      "CCTCTCGATCACCGA\n",
      "CCTATAGATCACCGA\n",
      "CCGATTGATCACCGA\n",
      "CCTTGTGCAGACCGA\n",
      "CCTTGCCTTCACCGA\n",
      "CCTTGTTGCCACCGA\n",
      "ACTTGTGATCACCTT\n",
      "CCTTGTGATCAATTA\n",
      "CCTTGTGATCTGTGA\n",
      "CCTTGTGATCACTCC\n",
      "AACTGTGATCACCGA\n",
      "CCTTAGTATCACCGA\n",
      "CCTTGTGAAATCCGA\n",
      "CCTTGTCGCCACCGA\n",
      "TGTTGTGATCACCGC\n",
      "CACCGTGATCACCGA\n",
      "CCTTGGTTTCACCGA\n",
      "CCTTTGCATCACCGA\n",
      "CCTTGTGATTTACGA\n"
     ]
    }
   ],
   "source": [
    "print(answers)"
   ]
  },
  {
   "cell_type": "code",
   "execution_count": null,
   "metadata": {
    "collapsed": true
   },
   "outputs": [],
   "source": [
    "CATGGGGAAAACTGA\n",
    "CCTCTCGATCACCGA\n",
    "CCTATAGATCACCGA\n",
    "CCGATTGATCACCGA\n",
    "CCTTGTGCAGACCGA\n",
    "CCTTGCCTTCACCGA\n",
    "CCTTGTTGCCACCGA\n",
    "ACTTGTGATCACCTT\n",
    "CCTTGTGATCAATTA\n",
    "CCTTGTGATCTGTGA\n",
    "CCTTGTGATCACTCC\n",
    "AACTGTGATCACCGA\n",
    "CCTTAGTATCACCGA\n",
    "CCTTGTGAAATCCGA\n",
    "CCTTGTCGCCACCGA\n",
    "TGTTGTGATCACCGC\n",
    "CACCGTGATCACCGA\n",
    "CCTTGGTTTCACCGA\n",
    "CCTTTGCATCACCGA\n",
    "CCTTGTGATTTACGA"
   ]
  }
 ],
 "metadata": {
  "kernelspec": {
   "display_name": "Python 3",
   "language": "python",
   "name": "python3"
  },
  "language_info": {
   "codemirror_mode": {
    "name": "ipython",
    "version": 3
   },
   "file_extension": ".py",
   "mimetype": "text/x-python",
   "name": "python",
   "nbconvert_exporter": "python",
   "pygments_lexer": "ipython3",
   "version": "3.6.4"
  }
 },
 "nbformat": 4,
 "nbformat_minor": 2
}
