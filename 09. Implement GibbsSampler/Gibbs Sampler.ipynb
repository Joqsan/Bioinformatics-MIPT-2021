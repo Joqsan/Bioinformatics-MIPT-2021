{
 "cells": [
  {
   "cell_type": "markdown",
   "metadata": {},
   "source": [
    "https://stepik.org/lesson/240241/step/4?unit=214000\n",
    "\n",
    "\n",
    "https://github.com/ivanov-v-v/rosalind-mipt-2019/blob/master/06%20%E2%80%94%20ba2d/main.py"
   ]
  },
  {
   "cell_type": "code",
   "execution_count": 1,
   "metadata": {
    "collapsed": true
   },
   "outputs": [],
   "source": [
    "import numpy as np\n",
    "import pandas as pd\n",
    "from collections import Counter\n",
    "from scipy import stats"
   ]
  },
  {
   "cell_type": "code",
   "execution_count": 2,
   "metadata": {
    "collapsed": true
   },
   "outputs": [],
   "source": [
    "alphabet = list('ACGT')\n",
    "letter_to_id = {letter: idx for idx, letter in enumerate(alphabet)}"
   ]
  },
  {
   "cell_type": "code",
   "execution_count": 3,
   "metadata": {
    "collapsed": true
   },
   "outputs": [],
   "source": [
    "def profile_random_kmer(text, k, profile_matrix):\n",
    "    \n",
    "    \"\"\"\n",
    "    output:\n",
    "        profile-randomly generated kmer in text for given profile matrix\n",
    "    \"\"\"\n",
    "    \n",
    "    p = []\n",
    "    \n",
    "    for i in range(len(text)-k+1):\n",
    "        kmer = text[i:i+k]\n",
    "        indexes = [letter_to_id[char] for char in kmer]\n",
    "        \n",
    "        string_proba = np.choose(indexes, profile_matrix).prod()\n",
    "        \n",
    "        p.append(string_proba)\n",
    "    \n",
    "    p = np.array(p) / sum(p)\n",
    "    \n",
    "    start = np.random.choice(a=np.arange(len(text)-k+1), p=p)\n",
    "    rand_kmer = text[start:start+k]\n",
    "    \n",
    "    return np.array(list(rand_kmer))"
   ]
  },
  {
   "cell_type": "code",
   "execution_count": 4,
   "metadata": {
    "collapsed": true
   },
   "outputs": [],
   "source": [
    "def most_probable_kmer(text, k, profile_matrix):\n",
    "    \n",
    "    \"\"\"\n",
    "    output:\n",
    "        most probable kmer in text for given profile matrix\n",
    "    \"\"\"\n",
    "    \n",
    "    best_proba = -np.inf\n",
    "    most_proba_kmer = None\n",
    "    \n",
    "    for i in range(len(text)-k+1):\n",
    "        kmer = text[i:i+k]\n",
    "        indexes = [letter_to_id[char] for char in kmer]\n",
    "        \n",
    "        string_proba = np.choose(indexes, profile_matrix).prod()\n",
    "        \n",
    "        if string_proba > best_proba:\n",
    "            best_proba = string_proba\n",
    "            most_proba_kmer = kmer\n",
    "    \n",
    "    return np.array(list(most_proba_kmer))"
   ]
  },
  {
   "cell_type": "code",
   "execution_count": 5,
   "metadata": {
    "collapsed": true
   },
   "outputs": [],
   "source": [
    "def get_profile_with_pseudocounts(motifs):\n",
    "    \n",
    "    \"\"\"\n",
    "    input:\n",
    "        motifs: np.array\n",
    "    \n",
    "    output:\n",
    "        profile matrix\n",
    "    \"\"\"\n",
    "    \n",
    "    counter = np.apply_along_axis(Counter, 0, motifs)\n",
    "    counter = [dict(c) for c in counter]\n",
    "    \n",
    "    count_motifs = pd.DataFrame(counter, columns=list('ACGT')).fillna(0).T.to_numpy()\n",
    "    \n",
    "    # Laplace’s Rule of Succession\n",
    "    count_motifs = count_motifs + 1\n",
    "    \n",
    "    # Plus 4, since for each letter in the alphabet (ACGT) we add 1\n",
    "    profile = count_motifs / (len(motifs) + 4)\n",
    "    \n",
    "    return profile"
   ]
  },
  {
   "cell_type": "code",
   "execution_count": 6,
   "metadata": {
    "collapsed": true
   },
   "outputs": [],
   "source": [
    "def get_scores(motifs, t):\n",
    "    \n",
    "    \"\"\"\n",
    "    input:\n",
    "        motifs: np.array\n",
    "    \n",
    "    output:\n",
    "        score of given motifs matrix\n",
    "    \"\"\"\n",
    "    \n",
    "    modes, counts = stats.mode(motifs)\n",
    "    scores = t - counts\n",
    "    \n",
    "    return scores.sum()"
   ]
  },
  {
   "cell_type": "code",
   "execution_count": 7,
   "metadata": {
    "collapsed": true
   },
   "outputs": [],
   "source": [
    "def get_motifs_profile_dna(profile, dna, k):\n",
    "    motifs = []\n",
    "    for text in dna:\n",
    "        motifs.append(most_probable_kmer(text, k, profile))\n",
    "    \n",
    "    return np.row_stack(motifs)"
   ]
  },
  {
   "cell_type": "code",
   "execution_count": 8,
   "metadata": {
    "collapsed": true
   },
   "outputs": [],
   "source": [
    "dna = [\n",
    "    \"ttaccttaac\",\n",
    "\"gatgtctgtc\",\n",
    "    \"acggcgttag\",\n",
    "    \"ccctaacgag\",\n",
    "\"cgtcagaggt\"\n",
    "]"
   ]
  },
  {
   "cell_type": "code",
   "execution_count": 9,
   "metadata": {
    "collapsed": true
   },
   "outputs": [],
   "source": [
    "dna = [text.upper() for text in dna]"
   ]
  },
  {
   "cell_type": "code",
   "execution_count": 10,
   "metadata": {},
   "outputs": [
    {
     "data": {
      "text/plain": [
       "['TTACCTTAAC', 'GATGTCTGTC', 'ACGGCGTTAG', 'CCCTAACGAG', 'CGTCAGAGGT']"
      ]
     },
     "execution_count": 10,
     "metadata": {},
     "output_type": "execute_result"
    }
   ],
   "source": [
    "dna"
   ]
  },
  {
   "cell_type": "code",
   "execution_count": 11,
   "metadata": {
    "collapsed": true
   },
   "outputs": [],
   "source": [
    "k = 4"
   ]
  },
  {
   "cell_type": "code",
   "execution_count": 12,
   "metadata": {},
   "outputs": [
    {
     "data": {
      "text/plain": [
       "array([[0.8, 0. , 0. , 0.2],\n",
       "       [0. , 0.6, 0.2, 0. ],\n",
       "       [0.2, 0.2, 0.8, 0. ],\n",
       "       [0. , 0.2, 0. , 0.8]])"
      ]
     },
     "execution_count": 12,
     "metadata": {},
     "output_type": "execute_result"
    }
   ],
   "source": [
    "profile = np.array([\n",
    "    [4/5, 0, 0, 1/5],\n",
    "    [0, 3/5, 1/5, 0],\n",
    "    [1/5, 1/5, 4/5, 0],\n",
    "    [0, 1/5, 0, 4/5]\n",
    "])\n",
    "profile"
   ]
  },
  {
   "cell_type": "code",
   "execution_count": 13,
   "metadata": {},
   "outputs": [
    {
     "data": {
      "text/plain": [
       "array([['A', 'C', 'C', 'T'],\n",
       "       ['A', 'T', 'G', 'T'],\n",
       "       ['G', 'C', 'G', 'T'],\n",
       "       ['A', 'C', 'G', 'A'],\n",
       "       ['A', 'G', 'G', 'T']], dtype='<U1')"
      ]
     },
     "execution_count": 13,
     "metadata": {},
     "output_type": "execute_result"
    }
   ],
   "source": [
    "get_motifs_profile_dna(profile, dna, k)"
   ]
  },
  {
   "cell_type": "code",
   "execution_count": null,
   "metadata": {
    "collapsed": true
   },
   "outputs": [],
   "source": []
  },
  {
   "cell_type": "code",
   "execution_count": 14,
   "metadata": {
    "collapsed": true
   },
   "outputs": [],
   "source": [
    "e = [4,5,7,6,6]"
   ]
  },
  {
   "cell_type": "code",
   "execution_count": 15,
   "metadata": {
    "collapsed": true
   },
   "outputs": [],
   "source": [
    "from tqdm import tqdm"
   ]
  },
  {
   "cell_type": "code",
   "execution_count": 16,
   "metadata": {
    "collapsed": true
   },
   "outputs": [],
   "source": [
    "def gibbs_sampler(dna, k, t, N):\n",
    "    # including pseudocounts\n",
    "    \n",
    "    dna_arr = np.array([list(text) for text in dna])\n",
    "    \n",
    "    # random index selection\n",
    "    idxs = np.random.randint(0, dna_arr.shape[1]-k+1, t)[:, None]\n",
    "    idxs = idxs + np.arange(k)\n",
    "    \n",
    "    # use indexes to randomly select the initial motifs\n",
    "    best_motifs = np.take_along_axis(dna_arr, idxs, axis=1)\n",
    "    best_score = np.inf\n",
    "    \n",
    "    \n",
    "    motifs_list = best_motifs.copy()\n",
    "    for j in range(N):\n",
    "        \n",
    "        i = np.random.randint(0, t)\n",
    "        \n",
    "        all_motifs_but_i = np.delete(motifs_list, i, axis=0)\n",
    "        \n",
    "        profile = get_profile_with_pseudocounts(all_motifs_but_i)\n",
    "        motif_i = profile_random_kmer(dna[i], k, profile)\n",
    "        \n",
    "        motifs_list = np.insert(all_motifs_but_i, i, motif_i, axis=0)\n",
    "        \n",
    "            \n",
    "        score_motifs_list = get_scores(motifs_list, t)\n",
    "        \n",
    "        if score_motifs_list < best_score:\n",
    "            best_score = score_motifs_list\n",
    "            best_motifs = motifs_list.copy()\n",
    "    \n",
    "    best_motifs = [''.join(motif_arr.tolist()) for motif_arr in best_motifs]\n",
    "    \n",
    "    return best_motifs, best_score"
   ]
  },
  {
   "cell_type": "code",
   "execution_count": 22,
   "metadata": {
    "collapsed": true
   },
   "outputs": [],
   "source": [
    "def find_best_approx(dna, k, t, N):\n",
    "    \n",
    "    best_motifs = None\n",
    "    best_score = np.inf\n",
    "    \n",
    "    curr_score = np.inf\n",
    "    for i in tqdm(range(10)):\n",
    "        curr_motifs, curr_score = gibbs_sampler(dna, k, t, N)\n",
    "        \n",
    "        if curr_score < best_score:\n",
    "            best_score = curr_score\n",
    "            best_motifs = curr_motifs\n",
    "    \n",
    "    \n",
    "    return best_motifs"
   ]
  },
  {
   "cell_type": "code",
   "execution_count": 23,
   "metadata": {
    "collapsed": true
   },
   "outputs": [],
   "source": [
    "k, t, N = 8, 5, 100"
   ]
  },
  {
   "cell_type": "code",
   "execution_count": 24,
   "metadata": {
    "collapsed": true
   },
   "outputs": [],
   "source": [
    "dna = [\n",
    "    'CGCCCCTCTCGGGGGTGTTCAGTAACCGGCCA',\n",
    "    'GGGCGAGGTATGTGTAAGTGCCAAGGTGCCAG',\n",
    "    'TAGTACCGAGACCGAAAGAAGTATACAGGCGT',\n",
    "    'TAGATCAAGTTTCAGGTGCACGTCGGTGAACC',\n",
    "    'AATCCACCAGCTCCACGTGCAATGTTGGCCTA'\n",
    "]"
   ]
  },
  {
   "cell_type": "code",
   "execution_count": 25,
   "metadata": {
    "collapsed": true
   },
   "outputs": [],
   "source": [
    "def main():\n",
    "    \n",
    "    file = open('gibbs.txt', 'r')\n",
    "    \n",
    "    k, t, N = list(map(int, next(file).split()))\n",
    "    \n",
    "    #print(k, t)\n",
    "    \n",
    "    dna = []\n",
    "    for string in file:\n",
    "        dna.append(string.strip())\n",
    "        \n",
    "    #print(dna)\n",
    "    \n",
    "    \n",
    "    print(\"\\n\".join(find_best_approx(dna, k, t, N)))\n",
    "\n",
    "    file.close()"
   ]
  },
  {
   "cell_type": "code",
   "execution_count": 26,
   "metadata": {},
   "outputs": [
    {
     "name": "stderr",
     "output_type": "stream",
     "text": [
      "100%|██████████| 10/10 [04:13<00:00, 25.33s/it]"
     ]
    },
    {
     "name": "stdout",
     "output_type": "stream",
     "text": [
      "TGACGTCCACCGGCG\n",
      "GTAAGCGCACCGGGG\n",
      "TTACCCTTACCGGGG\n",
      "AGAAGTTCCTCGGGG\n",
      "ATAAGTTTTATGGGG\n",
      "GCAAGTTTACCGGGT\n",
      "CCAAGTTTCGAGGGG\n",
      "TCCTGTTTACCGGGG\n",
      "TTAAGTTGCTCGGGG\n",
      "TTAAACATACCGGGG\n",
      "GCAAGTTTAGGAGGG\n",
      "GTAAGGAAACCGGGG\n",
      "GTAAGTTTACACAGG\n",
      "ATTAGTTTACCGGGG\n",
      "CCCCTTTTACCGGGG\n",
      "TGAAGTGAGCCGGGG\n",
      "TAAAGTCGTCCGGGG\n",
      "GAAAGTTTACCGGAC\n",
      "CAAAGTTTACCAATG\n",
      "CCAAGTTTACCGTCA\n"
     ]
    },
    {
     "name": "stderr",
     "output_type": "stream",
     "text": [
      "\n"
     ]
    }
   ],
   "source": [
    "if __name__ == \"__main__\":\n",
    "    main()"
   ]
  },
  {
   "cell_type": "code",
   "execution_count": 109,
   "metadata": {},
   "outputs": [
    {
     "name": "stdout",
     "output_type": "stream",
     "text": [
      "ACCGGCCA\n",
      "AGGTGCCA\n",
      "CCGAGACC\n",
      "AGGTGCAC\n",
      "ACGTGCAA\n"
     ]
    }
   ],
   "source": [
    "ACGTCCACCGGCGTC\n",
    "AAGCGCACCGGGGTG\n",
    "ACCCTTACCGGGGTG\n",
    "AAGTTCCTCGGGGTG\n",
    "AAGTTTTATGGGGTG\n",
    "AAGTTTACCGGGTGC\n",
    "AAGTTTCGAGGGGTG\n",
    "CTGTTTACCGGGGTA\n",
    "AAGTTGCTCGGGGTG\n",
    "AAACATACCGGGGTG\n",
    "AAGTTTAGGAGGGTG\n",
    "AAGGAAACCGGGGTG\n",
    "AAGTTTACACAGGTG\n",
    "TAGTTTACCGGGGAT\n",
    "CCTTTTACCGGGGTG\n",
    "AAGTGAGCCGGGGTG\n",
    "AAGTCGTCCGGGGTG\n",
    "AAGTTTACCGGACAG\n",
    "AAGTTTACCAATGTG\n",
    "AAGTTTACCGTCATG"
   ]
  },
  {
   "cell_type": "code",
   "execution_count": null,
   "metadata": {
    "collapsed": true
   },
   "outputs": [],
   "source": []
  },
  {
   "cell_type": "code",
   "execution_count": null,
   "metadata": {
    "collapsed": true
   },
   "outputs": [],
   "source": []
  },
  {
   "cell_type": "code",
   "execution_count": 14,
   "metadata": {},
   "outputs": [
    {
     "data": {
      "text/plain": [
       "array([0, 2, 0, 4, 0, 4, 1])"
      ]
     },
     "execution_count": 14,
     "metadata": {},
     "output_type": "execute_result"
    }
   ],
   "source": [
    "np.random.randint(0, 5, 7)"
   ]
  },
  {
   "cell_type": "code",
   "execution_count": null,
   "metadata": {
    "collapsed": true
   },
   "outputs": [],
   "source": [
    "np.choice(np.arange())"
   ]
  },
  {
   "cell_type": "code",
   "execution_count": 15,
   "metadata": {},
   "outputs": [
    {
     "data": {
      "text/plain": [
       "array([0, 1, 2, 3, 4, 5, 6, 7, 8, 9])"
      ]
     },
     "execution_count": 15,
     "metadata": {},
     "output_type": "execute_result"
    }
   ],
   "source": [
    "np.arange(10)"
   ]
  },
  {
   "cell_type": "code",
   "execution_count": 17,
   "metadata": {
    "collapsed": true
   },
   "outputs": [],
   "source": [
    "text = 'GAAGCACTGAGTTACCAGGTAC'"
   ]
  },
  {
   "cell_type": "code",
   "execution_count": 20,
   "metadata": {},
   "outputs": [
    {
     "data": {
      "text/plain": [
       "(4, 22)"
      ]
     },
     "execution_count": 20,
     "metadata": {},
     "output_type": "execute_result"
    }
   ],
   "source": [
    "k, len(text)"
   ]
  },
  {
   "cell_type": "code",
   "execution_count": 32,
   "metadata": {},
   "outputs": [
    {
     "data": {
      "text/plain": [
       "array([ 0,  1,  2,  3,  4,  5,  6,  7,  8,  9, 10, 11, 12, 13, 14, 15, 16,\n",
       "       17, 18])"
      ]
     },
     "execution_count": 32,
     "metadata": {},
     "output_type": "execute_result"
    }
   ],
   "source": [
    "np.arange(len(text)-k+1)"
   ]
  },
  {
   "cell_type": "code",
   "execution_count": 27,
   "metadata": {
    "collapsed": true
   },
   "outputs": [],
   "source": [
    "from scipy.special import softmax"
   ]
  },
  {
   "cell_type": "code",
   "execution_count": 40,
   "metadata": {
    "collapsed": true
   },
   "outputs": [],
   "source": [
    "p = np.random.rand(len(text)-k+1)"
   ]
  },
  {
   "cell_type": "code",
   "execution_count": 42,
   "metadata": {},
   "outputs": [
    {
     "data": {
      "text/plain": [
       "0.9999999999999998"
      ]
     },
     "execution_count": 42,
     "metadata": {},
     "output_type": "execute_result"
    }
   ],
   "source": [
    "(p / p.sum()).sum()"
   ]
  },
  {
   "cell_type": "code",
   "execution_count": 39,
   "metadata": {},
   "outputs": [
    {
     "data": {
      "text/plain": [
       "18"
      ]
     },
     "execution_count": 39,
     "metadata": {},
     "output_type": "execute_result"
    }
   ],
   "source": [
    "np.random.choice(a=np.arange(len(text)-k+1), p=p)"
   ]
  },
  {
   "cell_type": "code",
   "execution_count": 63,
   "metadata": {},
   "outputs": [
    {
     "data": {
      "text/plain": [
       "3"
      ]
     },
     "execution_count": 63,
     "metadata": {},
     "output_type": "execute_result"
    }
   ],
   "source": [
    "np.random.randint(0, 5)"
   ]
  },
  {
   "cell_type": "code",
   "execution_count": 67,
   "metadata": {},
   "outputs": [
    {
     "data": {
      "text/plain": [
       "array([[0, 9, 6, 6, 6],\n",
       "       [4, 5, 5, 6, 9],\n",
       "       [2, 3, 3, 1, 3],\n",
       "       [9, 6, 9, 5, 1]])"
      ]
     },
     "execution_count": 67,
     "metadata": {},
     "output_type": "execute_result"
    }
   ],
   "source": [
    "see = np.random.randint(0, 10, size=(4,5))\n",
    "see"
   ]
  },
  {
   "cell_type": "code",
   "execution_count": 72,
   "metadata": {},
   "outputs": [
    {
     "data": {
      "text/plain": [
       "array([[0, 9, 6, 6, 6],\n",
       "       [4, 5, 5, 6, 9],\n",
       "       [9, 6, 9, 5, 1]])"
      ]
     },
     "execution_count": 72,
     "metadata": {},
     "output_type": "execute_result"
    }
   ],
   "source": [
    "see_del = np.delete(see, 2, axis=0)\n",
    "see_del"
   ]
  },
  {
   "cell_type": "code",
   "execution_count": 73,
   "metadata": {},
   "outputs": [
    {
     "data": {
      "text/plain": [
       "array([0., 0., 0., 0., 0.])"
      ]
     },
     "execution_count": 73,
     "metadata": {},
     "output_type": "execute_result"
    }
   ],
   "source": [
    "see2 = np.zeros(5)\n",
    "see2"
   ]
  },
  {
   "cell_type": "code",
   "execution_count": 75,
   "metadata": {},
   "outputs": [
    {
     "data": {
      "text/plain": [
       "array([[0, 9, 6, 6, 6],\n",
       "       [4, 5, 5, 6, 9],\n",
       "       [0, 0, 0, 0, 0],\n",
       "       [9, 6, 9, 5, 1]])"
      ]
     },
     "execution_count": 75,
     "metadata": {},
     "output_type": "execute_result"
    }
   ],
   "source": [
    "np.insert(see_del, 2, see2, axis=0)"
   ]
  },
  {
   "cell_type": "code",
   "execution_count": null,
   "metadata": {
    "collapsed": true
   },
   "outputs": [],
   "source": []
  },
  {
   "cell_type": "code",
   "execution_count": 14,
   "metadata": {
    "collapsed": true
   },
   "outputs": [],
   "source": [
    "def find_best_approx(dna, k, t, n_times=1000):\n",
    "    \n",
    "    best_motifs = None\n",
    "    best_score = np.inf\n",
    "    \n",
    "    curr_score = np.inf\n",
    "    for i in tqdm(range(n_times)):\n",
    "        curr_motifs, curr_score = randomized_greedy_motif_search(dna, k, t, curr_score)\n",
    "        \n",
    "        if curr_score < best_score:\n",
    "            best_score = curr_score\n",
    "            best_motifs = curr_motifs\n",
    "    \n",
    "    \n",
    "    return best_motifs"
   ]
  },
  {
   "cell_type": "code",
   "execution_count": 15,
   "metadata": {
    "collapsed": true
   },
   "outputs": [],
   "source": [
    "from tqdm import tqdm"
   ]
  },
  {
   "cell_type": "code",
   "execution_count": 21,
   "metadata": {
    "collapsed": true
   },
   "outputs": [],
   "source": [
    "def main():\n",
    "    \n",
    "    file = open('rosalind_ba2f.txt', 'r')\n",
    "    \n",
    "    k, t = list(map(int, next(file).split()))\n",
    "    \n",
    "    print(k, t)\n",
    "    \n",
    "    dna = []\n",
    "    for string in file:\n",
    "        dna.append(string.strip())\n",
    "        \n",
    "    print(dna)\n",
    "    \n",
    "    \n",
    "    print(\"\\n\".join(find_best_approx(dna, k, t)))\n",
    "\n",
    "    file.close()"
   ]
  },
  {
   "cell_type": "code",
   "execution_count": 22,
   "metadata": {},
   "outputs": [
    {
     "name": "stderr",
     "output_type": "stream",
     "text": [
      "\r",
      "  0%|          | 0/1000 [00:00<?, ?it/s]"
     ]
    },
    {
     "name": "stdout",
     "output_type": "stream",
     "text": [
      "15 20\n",
      "['GAAGCACTGAGTTACCAGGTACACAGGTCTCAGTGCACGGACTGCACCGGGCTCAGCCCTGTAGGCGTGAACCTTCCAACATCGACTGGGGATGATCTAATCTTCGCATCGTACGCACGTCAATAGCATAACGTCGGACACGTACCCTAGGCAACAACCACTTTTGACCTTCCTTCCGGCCGCAAGGCTCAACTTAGTGGAAGCACTGAGTTAC', 'CAGGTACACAGGTCTCAGTGCACGGACTGCACCGGGCTCAGCCCTGTAGGCGTGAACCTTCCAACATCGACTGGGGATGATCTAATCTTCGCATCGTACGCACGTCAATAGCATAACGTCGGACACGCCCCAATAGTCAGCGTACCCTAGGCAACAACCACTTTTGACCTTCCTTCCGGCCGCAAGGCTCAACTTAGTGGAAGCACTGAGTTAC', 'ATACTCTTAATCATTATAACATGAGACAGCCTATCACACGTACACGATCGCCAATGTTCCCCCGCTCGAATTAGACCGGTTTGGAATTGAGTTCCGTGGGGGTATGCGCCGCACAAACTGCTATAGTAAAACCACCCTTTTAGTCAGCGTATTGACATATTACAAGCGGCGTTTACTCCTTAGAAAGGCAATAAACGAACAAAACAGTACCCGC', 'ACTGGCTTCCAGAAAACACCAGGCCCCAATTTCGGCGGATGGATTGTTCACAATGCTTGATCGTGCGTGCGCCATATTGCTGCCGACCGCGGCCGGATATACCGGTGCCTTTCCTAGAAATTGTCGGATAATACTCCTGCCCCAATGAGTCAGCGTATACAGTACGGGACCCATGGTCAAGAACGTTAAGTATTCGTAGGGCGCGACACACAGT', 'GCCCAGGCCCTTCCCAGCTTAGCAGCGTCTGTCGATGTTCCTGCTGCGATGGCTCGCCGAGACTACAAGAGTGGAGCGAGCCGAAATATCAGAAGCACCGAGCATGAGCTCGGGCCGCGAGGCCCTGCTGCACTGGGCAGGTCTGAGTCATGGTAATGGCGACGGGTCATTCACTGCACGTGCTCTGGGCTGAAATAAGAAAGGGGTCCTGTCT', 'TTACTTCCGCACGTGCGGCCTGTGCGCTAGTGATAGTAACGCCGTTCGTAAGTAGGCTTTCGCCGCTGACAGTAGTTGCGAGTTGGGCCTGACCTTCGATGCAGACCGCGCGGGCCTATCGACTCGGCCACACTAGATCAGGTGGTTTACACATGGTCGGGGCTTTCAGCCGGTGCTATACCACGCAGCAGCTAGTCAGCATGAGAATTGCGCC', 'TCGATCCCGTCGTAGGCAAATTTAGTGTCTATACGACGCCTGATGGGCCCATCCTAGATAACCATCCCAGCTAGATCGCGAGGCCATTAATCCCTTCGGACGGCCTAAAATGCTCCGATTTACACCAAAAGGTTCCGCGCAACAGTAAGAACACGGGTATCCTAAGAACTGTGATAAGTTATCACGGGTTGTACATCGGTTTTGGAATTCTCTC', 'GTATAGATGCGACTCGATGACACATAAATTGGCTAGCTGATGGGGACAACCATGTTGTAGCTCCGAATGTACAAAGAACTCCCACTAAGTCAGCGCTGACATCATGCCCGAAAACGTTGTAAACTTCTACCTCCAAGGCCTTTGTAGTGAGGGCAGGTGGAGAAATAACGGCATTGAATGGACCCTAAGCGTGCTCTCGCTATTCGTATTCGTA', 'TCGTTGGAAGTTACGACACGAGATGTGGCCCCCTAGTATTCATAAGAAGCCGCGGTGGCGGAGAGAGAAGATCCATGCAGGAAGATGGACCAGGAGCTTTACAGCATTGTAAAGCTTGGTGCACCGGACTAGTCAGCGACCTGCAAAACCTTATTGTGTCAATAGAAGTGACAGGCCTGAAGTCATACCACTTGCGGTGTAAGTAGTGTAGCAT', 'CTTCCGAACCCAGCGCATCAGCGTCGGAGAGCGCTTAGTTGCTGGCCCTGTACCAGGATGAGTCCCCGACATGTCTGGTCACTGTTGATAAAGAGTTTACCCACCGCCCATGCCGTTACCTGCTTACCATCCTCCAGTACCCTTAATGCGCTTTCAAATATTCGGCCTTATAGAGTGGACACTCGCTCGTTGAGGGTCCGGAGCTCTTCTAGTA', 'CGCTTTGTAGATATATTCGGCATAAATGTATATAGGCATGCGTTGTCCCCAGCTATGTAGCGGCTGTCTCCTCGTGGGCCATGGCACCTCGGGAAAACCGAGGGCTGTATGGCGTGCTCGTCACGAGTTGATGTACACTTTCCAACTGTGGGGTAAAGTCGTCGCGTCCTTTGTGTCGCACACCTCAGGAGGCGACACTTAAGATCGGGGAAAG', 'TACAAATGTTGCTCTCGTCAAAGTCTCCAATCGCAACCTGTCCGTATCAAAGATACACAGATCCCCAGCTAGTAGTCGCATGCAAGAGCACGTGTGCCGTCGCACAACGAAGCGCTGCTTATGCGCTCCAGCATCTAGATAGTTGTGCGTCGAGGCTAACGTTGTGTGACTGTCGTAGGAAGACCGTCTTCTATTGACTCTTAGGCCTGGCGGC', 'TCAGCCCTCGTGGCGCGCGTAGGAGTCCTGATTGACTCACAGGGCAGCTATTGTAAGTCCGTCGCGCTTCCGACGCCGGGGCGTCAAATCGTGATGTATGCTTTCGCATGGTTCGCTTCCGGGCTCAAGTACTTATATTAACAAGTGTGTCCAGCTAGTCAGTTCTTCGCGCCGGAACCATTCGTACCCGCGTTGGACGTGATCCCGTACACTC', 'CCCACACTCAAAAGTAGGATTTACTATCGGGGTCGGGGTTGATCCGTACATCAATGGATAGATACGTCTCACCTGCCTTAACAACGGTTCCCAGGGGGTCAGCGTCCTTACTATGACAACCCTACTGCAGTCCTACAAAGAATACCTGCCCACCTACAGTAGCGCCCAGAAGCTCACGCAGGGACCAGCGGTCTATCACCGGCACATCCCCACC', 'TGGGAAGCAAGCTCCCCGCGTCGTTCAGTCTTCGAAGATGTCAGCGACGCAGATAGGGTAGCTAGTCAGCGTGGCCCGAGGCATCGTGTATCAGGTGGGATATAAGACGTGTGTTGGGCACGTTATGGTGCAATTATTCCGGGCCGGGACACTCCTGTGCCCTAGGTGTATTTGGTAGCTTCTCCAGGTTTCGTCAGCGACCCGGTGATGCCTT', 'TGAGATGACACTGCCGCCCTGATATCTTACCCTCCGCCTAAAGGCTTTATCCGTGAGGATACCCAGTGGGGGAAGGGCTCCCCACGGCCGCGAGCGGACCGGAGCGTCAAACGGCGCGGGGAATCTAACATTAAACGAATGTAGTTTGCGAGTCCCAGGGTGTCAGCGGCCGCGGTTCCCCGCCGTACGACTCAACCGGTCAAGAGGTCTGCTA', 'TAAAATATGCGCGTGAGGTAGCCTCTACCCACTGGTGGTCAATAGAAGGTCCCAGCTAGTCACGAACCACCTACAATCCGCCTGCAGGCTGGTGGGAGCTTCCTGCAAGTCGGGTGAGAGTTTATCCAAGGGACACCTCTTGTTTAATCCCGGAGAGTCGCGGGGGGCTAAACAGAATCATACAGCAGTTAAATCCGTTTACATGGCGACTACA', 'TTCGCTCCAGTTACTTACGCTATATTTAGACCTCTCATGGGGGTATCATAGCATCATCATCGGTTTACTAGTGGGAGTTGGGGCGTCATGGTTAGCAAGGTAGACAGCAAATCGTCTTAGCGCTCTGGGACGGCTTTCCTACCCAGCAGCTCAGCGAACATCTGGGCAAGGGGGCTGCGAAGCTAAGCTCCAGCGCCTCTGGGGACGTACTTCA', 'TCGGATCTCGGCCTGTTTGCCGGTTGGCAGAGAGCCTAGATTCAACGGCAGCAGAGCATTTTAGTGCATTAGTATGGAAACGTCGAGAGGATGGTAATTGCAGTCCCGAGGGCGACCCAGTGCACAGCTCGCTTGGGGATGCGTTTTGCATGCCCAGCTAGTCTATGTCTGTACGGGTTAATCGACGTCTGTATGTCGGCCATAGGGGGCGACT', 'AAGTCTGTCGTTACAATCAGTGCACACACGAGTGTCAAATGTCCTTCGAGTGGCATAAGCTCGCATCGGTTATCGCTAAGGGGGTTACGCACTTGAAGGTCAGTTCAGCGTCTCAGCTGCAAGCGGATAGAAAAGCGCGTGTCCCGTCAAAGTACAGGGCTAGTCAGCGTGCCATGATTCTGATCCCTGCAGGTCTGAATACAGAAGAGCACCT']\n"
     ]
    },
    {
     "name": "stderr",
     "output_type": "stream",
     "text": [
      "100%|██████████| 1000/1000 [02:41<00:00,  6.20it/s]"
     ]
    },
    {
     "name": "stdout",
     "output_type": "stream",
     "text": [
      "ACCAGGTACACAGGT\n",
      "CCCCAATAGTCAGCG\n",
      "CCCTTTTAGTCAGCG\n",
      "CCCAATGAGTCAGCG\n",
      "CCCAGCTTAGCAGCG\n",
      "AGCAGCTAGTCAGCA\n",
      "CCCAGCTAGATCGCG\n",
      "CCCACTAAGTCAGCG\n",
      "CCGGACTAGTCAGCG\n",
      "CCCAGCGCATCAGCG\n",
      "CCCAGCTATGTAGCG\n",
      "CCCAGCTAGTAGTCG\n",
      "TCCAGCTAGTCAGTT\n",
      "CCCAGGGGGTCAGCG\n",
      "TCGAAGATGTCAGCG\n",
      "CCCAGGGTGTCAGCG\n",
      "CCCAGCTAGTCACGA\n",
      "CCCAGCAGCTCAGCG\n",
      "CCCAGCTAGTCTATG\n",
      "CAGGGCTAGTCAGCG\n"
     ]
    },
    {
     "name": "stderr",
     "output_type": "stream",
     "text": [
      "\n"
     ]
    }
   ],
   "source": [
    "if __name__ == \"__main__\":\n",
    "    main()"
   ]
  },
  {
   "cell_type": "code",
   "execution_count": 18,
   "metadata": {},
   "outputs": [
    {
     "ename": "NameError",
     "evalue": "name 'CATGGGGAAAACTGA' is not defined",
     "output_type": "error",
     "traceback": [
      "\u001b[0;31m---------------------------------------------------------------------------\u001b[0m",
      "\u001b[0;31mNameError\u001b[0m                                 Traceback (most recent call last)",
      "\u001b[0;32m<ipython-input-18-67c06c76de64>\u001b[0m in \u001b[0;36m<module>\u001b[0;34m()\u001b[0m\n\u001b[0;32m----> 1\u001b[0;31m \u001b[0mCATGGGGAAAACTGA\u001b[0m\u001b[0;34m\u001b[0m\u001b[0m\n\u001b[0m\u001b[1;32m      2\u001b[0m \u001b[0mCCTCTCGATCACCGA\u001b[0m\u001b[0;34m\u001b[0m\u001b[0m\n\u001b[1;32m      3\u001b[0m \u001b[0mCCTATAGATCACCGA\u001b[0m\u001b[0;34m\u001b[0m\u001b[0m\n\u001b[1;32m      4\u001b[0m \u001b[0mCCGATTGATCACCGA\u001b[0m\u001b[0;34m\u001b[0m\u001b[0m\n\u001b[1;32m      5\u001b[0m \u001b[0mCCTTGTGCAGACCGA\u001b[0m\u001b[0;34m\u001b[0m\u001b[0m\n",
      "\u001b[0;31mNameError\u001b[0m: name 'CATGGGGAAAACTGA' is not defined"
     ]
    }
   ],
   "source": [
    "CATGGGGAAAACTGA\n",
    "CCTCTCGATCACCGA\n",
    "CCTATAGATCACCGA\n",
    "CCGATTGATCACCGA\n",
    "CCTTGTGCAGACCGA\n",
    "CCTTGCCTTCACCGA\n",
    "CCTTGTTGCCACCGA\n",
    "ACTTGTGATCACCTT\n",
    "CCTTGTGATCAATTA\n",
    "CCTTGTGATCTGTGA\n",
    "CCTTGTGATCACTCC\n",
    "AACTGTGATCACCGA\n",
    "CCTTAGTATCACCGA\n",
    "CCTTGTGAAATCCGA\n",
    "CCTTGTCGCCACCGA\n",
    "TGTTGTGATCACCGC\n",
    "CACCGTGATCACCGA\n",
    "CCTTGGTTTCACCGA\n",
    "CCTTTGCATCACCGA\n",
    "CCTTGTGATTTACGA"
   ]
  },
  {
   "cell_type": "code",
   "execution_count": null,
   "metadata": {
    "collapsed": true
   },
   "outputs": [],
   "source": [
    "ACGGAGATTTCTGGC\n",
    "ACGGAGATTTCTGGC\n",
    "CCCGCTGATTGTCTG\n",
    "GCGACTGGTTCCTTA\n",
    "CCGTAAATATCAGGA\n",
    "CAGGACGTTTAGGTA\n",
    "ACCTACGTTTCTGGA\n",
    "GCGGACGGTGCCTGG\n",
    "TGGTATAATTCTGTG\n",
    "TCCGTAGGTTGTGGA\n",
    "CAGGATGAATCTGGA\n",
    "TGGGCGGATTCATGA\n",
    "GGGTAAGATGCCGCA\n",
    "CCGTACTGTTATGGT\n",
    "AACGAGGATTGTTCA\n",
    "CCCTTTTTTTCAGCA\n",
    "ATGGAGTTTGACTCA\n",
    "TCGGACATTCCTGGA\n",
    "ATGGAGTTTCCATCC\n",
    "TCGAAGGTTTCTTGG"
   ]
  },
  {
   "cell_type": "code",
   "execution_count": null,
   "metadata": {
    "collapsed": true
   },
   "outputs": [],
   "source": []
  }
 ],
 "metadata": {
  "kernelspec": {
   "display_name": "Python 3",
   "language": "python",
   "name": "python3"
  },
  "language_info": {
   "codemirror_mode": {
    "name": "ipython",
    "version": 3
   },
   "file_extension": ".py",
   "mimetype": "text/x-python",
   "name": "python",
   "nbconvert_exporter": "python",
   "pygments_lexer": "ipython3",
   "version": "3.6.4"
  }
 },
 "nbformat": 4,
 "nbformat_minor": 2
}
