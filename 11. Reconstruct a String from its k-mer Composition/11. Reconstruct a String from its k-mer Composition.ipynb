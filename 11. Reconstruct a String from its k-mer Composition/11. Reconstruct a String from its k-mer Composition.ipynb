{
 "cells": [
  {
   "cell_type": "code",
   "execution_count": null,
   "metadata": {
    "collapsed": true
   },
   "outputs": [],
   "source": []
  },
  {
   "cell_type": "code",
   "execution_count": 56,
   "metadata": {},
   "outputs": [],
   "source": [
    "\"\"\"\n",
    "Goal:\n",
    "- Find Eulerian path in de Bruijn graph (a graph of kmers' prefixes/suffixes)\n",
    "- (In an Eulerian path all nodes have degree 2 (in_degree = out_degre), except 2 nodes).\n",
    "\n",
    "Idea: \n",
    "- Use a union-find approach, reducing the number of sets from len(kmers) to 1.\n",
    "    - \"Construct\" de Bruijn graph on the fly, just by retrieving the current kmer's prefix/suffix.\n",
    "    - Find: while \"building\" the graph, check the place in the current target string the current prefix/suffix has.\n",
    "    - Union: when the prefix/suffix of current node matches the suffix/prefix of the current target string.\n",
    "\"\"\"\n",
    "\n",
    "\n",
    "def str_from_kmer_composition(k, kmers):\n",
    "\n",
    "    # lexicographical sorting\n",
    "    kmers = sorted(kmers)\n",
    "\n",
    "    # initialization\n",
    "    target_string = kmers[0]\n",
    "\n",
    "    # while we don't have just one set.\n",
    "    while len(kmers) > 1:\n",
    "        for i, kmer in enumerate(kmers):\n",
    "            target_len = len(target_string)\n",
    "            \n",
    "            # suffix(curr_kmer) == prefix(target)\n",
    "            if kmer[1:] == target_string[:k-1]:\n",
    "                target_string = kmer[0] + target_string\n",
    "            # prefix(curr_kmer) == suffix(target)\n",
    "            elif kmer[:-1] == target_string[-k+1:]:\n",
    "                target_string += kmer[-1]\n",
    "\n",
    "            # if we added the current kmer's preffix/suffix, then unite\n",
    "            if target_len != len(target_string):\n",
    "                kmers.pop(i)\n",
    "                break\n",
    "\n",
    "    return target_string"
   ]
  },
  {
   "cell_type": "code",
   "execution_count": 57,
   "metadata": {
    "collapsed": true
   },
   "outputs": [],
   "source": [
    "k = 4"
   ]
  },
  {
   "cell_type": "code",
   "execution_count": 58,
   "metadata": {
    "collapsed": true
   },
   "outputs": [],
   "source": [
    "kmers = [\n",
    "    'CTTA',\n",
    "'ACCA',\n",
    "'TACC',\n",
    "'GGCT',\n",
    "'GCTT',\n",
    "'TTAC'\n",
    "]"
   ]
  },
  {
   "cell_type": "code",
   "execution_count": 61,
   "metadata": {},
   "outputs": [
    {
     "data": {
      "text/plain": [
       "'GGCTTACCA'"
      ]
     },
     "execution_count": 61,
     "metadata": {},
     "output_type": "execute_result"
    }
   ],
   "source": [
    "str_from_kmer_composition(k, kmers)"
   ]
  },
  {
   "cell_type": "code",
   "execution_count": 66,
   "metadata": {
    "collapsed": true
   },
   "outputs": [],
   "source": [
    "def main():\n",
    "    \n",
    "    file = open('rosalind_ba3h.txt', 'r')\n",
    "    \n",
    "    k = int(next(file))\n",
    "    \n",
    "    kmers = []\n",
    "    for kmer in file:\n",
    "        kmers.append(kmer.strip())\n",
    "        \n",
    "    #print(k)\n",
    "    #print(kmers)\n",
    "    \n",
    "    print(str_from_kmer_composition(k, kmers))\n",
    "\n",
    "    file.close()"
   ]
  },
  {
   "cell_type": "code",
   "execution_count": 67,
   "metadata": {},
   "outputs": [
    {
     "name": "stdout",
     "output_type": "stream",
     "text": [
      "TATAATCGTTTCTAGATTGCCCGCACTCACCTGTCGTCGTTGCTATGCAAAACAGGTGGAGTTGGCGGATTTGCCTTGCGTAGGCTTTGCGGTTTAGATATTCCTTCCTGATCTTGTGGGGTACTAGCCAACAACAAGGGTAAGAGCCGATGTATTATCTTAAGACTGACCCGGCGAGGGTAGTTCATCACCTGTCAATTCTACCTAGCATGAAATATTCCTCCTCTTCTCCTCCCAAATCCATGTTCACGTGTCATCAAAGATATCCATATGAGATTCTTCCAAATACCTAACTGTACCGCGGTTGTCTCTTCTGACCGCACGAGGAACTCACTTGTAGTAACTGTTGCGGGGACATCACTCAGACGTGCCCGAATCAGCGAATCAAACGCGCCTGACAATCCCGGACCGTATAATCGGGTCCGCTCCAGAGGGATACGGCCTGAAAGGTGCGGTTACAATCCTAATGCAGGTTAACTCATTGAACCAATCTATTCCTGTCTTGGGCGCAATTCGGTATATTCTAACTAAAGAGCATGTGTACAAGTCTCTAGTCCTATGCGCTTGTTAAACACGCGTGGAGTGGTCATGCACTTGCACTGAAACTCCGGAAGAAAACAGATATCAGGAGCCGTAGTGCTTATCCGCAACCAGACGGCCATATTCACACAAATTTTACGAACCGTTTTGAGGGACCGACAAAGACAAGGCGGTAGGTACAACTGGCAACCTACGATTATCTTGTTCGTCCAGCTTCGGACGAAAGGTAAGTTACGAACGCGTTACGGACGCCCGGACGTTATGGCGGTTGGATAGCCCCTCGGGACTAAGCTACACCTTCCTCTACGTATGAATCTTCATAGGGAGCTTAACTGCTAATAAGAGATATCGATCAGGACAGTGTCGACGTGTTTCTGACGATAGTAGTAGTTGAGGCTTTACCTCATTCGAGAAATCCCATGACTCGTTGCGCATTAACCTCCCCCTTCCCCCCCCAAGTCCCTGCCTCTGTTTACGCGAGGGCGAACATCGACGATCAAGTACTTTTTGATCGTTTACTCGTCCAGCGTAACGTTGGGCGCGCCTTTTCCCGCGTATATCGGATACTGGCCTTAAGATTATGATACGCGTAGCCGTTCGGTACATCGGTACGAATGCGTCTAGAAGCCCATGTGCTGTGCCATCTACGCTCCATTGGACGCCAAAAACAGCTGGCGACGGAACGATCGACCTTTCCATGTTTTATGCCAACTTCCCAGGGTATCTGCCTACGTAATCGTCTACCCAGGGTATAGAGTATGCGGCATGGGTAACCTTATTTGAGTTGACCCGAGTGTATACATATTAGGCTCTGTGATCAAGGAGAGGCGCCCGAAATATAAGTCTATGGAACGGCCCAGGCCAGGGTCAGGGGAGGTAAGAGTCACCCCATAACAACACATTCATATAGGCTAGAGGTAAGACCCCCTCGGTACCTAAGCTCATGGAAATAGACCTGGAGGTAGAAGCGCATATTTTTTTTGATAAATGCGGTTGGTTAAGGATAACAAAGTTCAACTAATAACTGGATTGACCCTGGGTGTATCCAGAAGTAAGCTGTAGTGTGATGCTTTTATGGGACGGGTTGCCACTCTACGTACTGTGTCTAGAACTGAAGAAGTCTCGATACCGAGACCAGGCACTAATTGCCTATGGCCAGGACGGCAGGCGATACCGTGTTCTCCACGCTCAGATGCGCAAAGCTACCTGGAGCGAGCCGCATGCCAGGTGTAAGGGCTTTGTGTCGATGCGAGGATCGTGGGGCTTAGCGAGTAGAACCCCAATCAAAGCTTATAGGCATGATATTAGCCGAAACCGGAACTTTGGGATGCTATCTTTATCGCATTCGAGTAATCCTCCGTCTGGAAGTATGGTTCAGTCCTTTTATTGGATACCCAGAAGTCAACAAGTGACTCCAGTGTGGCGAGACCCCGCGCCGTCACTGTCGTCTCCTCTTCGAAGTAGATCCAACTCGGACCCAGTACGAGTTATGCGTGGATAACTGATAAGCAGATCCTTCCAGCTCTGGACCGAAGGCTCCTTATTTAAGATCATATCACCTCCAATGCTGATGGTACTGTCGGTCTTATGTACCCCCTAGGGACGTCTGTATAATTCCCCCCCGGAGACTACGTTGTGTCACGAACCGACACGCTACAGCCGCCTACGGATGATGTTTACGGCGGCATAGCTCATGGCCG\n"
     ]
    }
   ],
   "source": [
    "if __name__ == '__main__':\n",
    "    main()"
   ]
  },
  {
   "cell_type": "code",
   "execution_count": null,
   "metadata": {
    "collapsed": true
   },
   "outputs": [],
   "source": []
  }
 ],
 "metadata": {
  "kernelspec": {
   "display_name": "Python 3",
   "language": "python",
   "name": "python3"
  },
  "language_info": {
   "codemirror_mode": {
    "name": "ipython",
    "version": 3
   },
   "file_extension": ".py",
   "mimetype": "text/x-python",
   "name": "python",
   "nbconvert_exporter": "python",
   "pygments_lexer": "ipython3",
   "version": "3.6.4"
  }
 },
 "nbformat": 4,
 "nbformat_minor": 2
}
