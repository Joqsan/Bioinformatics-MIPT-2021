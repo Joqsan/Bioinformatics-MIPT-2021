{
 "cells": [
  {
   "cell_type": "code",
   "execution_count": null,
   "metadata": {
    "collapsed": true
   },
   "outputs": [],
   "source": []
  },
  {
   "cell_type": "code",
   "execution_count": 66,
   "metadata": {
    "collapsed": true
   },
   "outputs": [],
   "source": [
    "\"\"\"\n",
    "Goal:\n",
    "- Find Eulerian path in de Bruijn graph (a graph of kmers' prefixes/suffixes)\n",
    "- (In an Eulerian path all nodes have degree 2 (in_degree = out_degre), except 2 nodes).\n",
    "\n",
    "Idea: \n",
    "- Use a union-find approach, reducing the number of sets from len(kmers) to 1.\n",
    "    - \"Construct\" de Bruijn graph on the fly, just by retrieving the current kmer's prefix/suffix.\n",
    "    - Find: while \"building\" the graph, check the place in the current target string the current prefix/suffix has.\n",
    "    - Union: when the prefix/suffix of current node matches the suffix/prefix of the current target string.\n",
    "\"\"\"\n",
    "\n",
    "\n",
    "def str_from_kmer_composition(k, kmers):\n",
    "\n",
    "    # lexicographical sorting\n",
    "    kmers = sorted(kmers)\n",
    "\n",
    "    # initialization\n",
    "    target_string = kmers[0]\n",
    "\n",
    "    # while we don't have just one set.\n",
    "    while len(kmers) > 1:\n",
    "        for i, kmer in enumerate(kmers):\n",
    "            target_len = len(target_string)\n",
    "            \n",
    "            # suffix(curr_kmer) == prefix(target)\n",
    "            if kmer[1:] == target_string[:k-1]:\n",
    "                target_string = kmer[0] + target_string\n",
    "            # prefix(curr_kmer) == suffix(target)\n",
    "            elif kmer[:-1] == target_string[-k+1:]:\n",
    "                target_string += kmer[-1]\n",
    "\n",
    "            # if we added the current kmer's preffix/suffix, then unite\n",
    "            if target_len != len(target_string):\n",
    "                kmers.pop(i)\n",
    "                break\n",
    "\n",
    "    return target_string[:-(k-1)]"
   ]
  },
  {
   "cell_type": "code",
   "execution_count": 67,
   "metadata": {
    "collapsed": true
   },
   "outputs": [],
   "source": [
    "def genbin(n, arr, bs = ''):\n",
    "    if n:\n",
    "        genbin(n-1, arr, bs + '0')\n",
    "        genbin(n-1, arr, bs + '1')\n",
    "    else:\n",
    "        arr.append(bs)"
   ]
  },
  {
   "cell_type": "code",
   "execution_count": 79,
   "metadata": {},
   "outputs": [
    {
     "name": "stdout",
     "output_type": "stream",
     "text": [
      "1111111100000000100000011000001010000011100001001000010110000110100001111000100010011000101010001011100011001000110110001110100011111001001010010011100101011001011010010111100110011010100110111001110110011110100111111010101011101011011010111110110111101110\n"
     ]
    }
   ],
   "source": [
    "def k_universal_circular_str(k):\n",
    "    \"\"\"\n",
    "    Using '0 is better than 1' rule,\n",
    "    constructs binary DeBrujin sequence\n",
    "    containing all k-mers, and then converts\n",
    "    it to circular one by stripping the tail of 1s.\n",
    "    \"\"\"\n",
    "    seen_kmers = set()\n",
    "    output = ''.join(['1' for _ in range(k)])\n",
    "    seen_kmers.add(output)\n",
    "    while True:\n",
    "        tail = output[-(k-1):]\n",
    "        if tail + '0' in seen_kmers:\n",
    "            if tail + '1' in seen_kmers:\n",
    "                break\n",
    "            output = output + '1'\n",
    "            seen_kmers.add(tail + '1')\n",
    "        else:\n",
    "            output = output + '0'\n",
    "            seen_kmers.add(tail + '0')\n",
    "    assert len(seen_kmers) == 2**k\n",
    "    return output[:-(k-1)]\n",
    "\n",
    "k = int(list(open(\"rosalind_ba3i.txt\", \"r\"))[0])\n",
    "answer = k_universal_circular_str(k)\n",
    "print(answer)"
   ]
  },
  {
   "cell_type": "code",
   "execution_count": 71,
   "metadata": {
    "collapsed": true
   },
   "outputs": [],
   "source": [
    "one = '11111111000000000010000000110000001010000001110000010010000010110000011010000011110000100010000100110000101010000101110000110010000110110000111010000111110001000110001001010001001110001010010001010110001011010001011110001100110001101010001101110001110010001110110001111010001111110010010010110010011010010011110010100110010101010010101110010110110010111010010111110011001110011010110011011010011011110011101010011101110011110110011111010011111110101010110101011110101101110101110110101111110110110111110111011110'"
   ]
  },
  {
   "cell_type": "code",
   "execution_count": 72,
   "metadata": {
    "collapsed": true
   },
   "outputs": [],
   "source": [
    "two = '11111111100000000010000000110000001010000001110000010010000010110000011010000011110000100010000100110000101010000101110000110010000110110000111010000111110001000110001001010001001110001010010001010110001011010001011110001100110001101010001101110001110010001110110001111010001111110010010010110010011010010011110010100110010101010010101110010110110010111010010111110011001110011010110011011010011011110011101010011101110011110110011111010011111110101010110101011110101101110101110110101111110110110111110111011110'"
   ]
  },
  {
   "cell_type": "code",
   "execution_count": 73,
   "metadata": {},
   "outputs": [
    {
     "data": {
      "text/plain": [
       "False"
      ]
     },
     "execution_count": 73,
     "metadata": {},
     "output_type": "execute_result"
    }
   ],
   "source": [
    "one == two"
   ]
  },
  {
   "cell_type": "code",
   "execution_count": 74,
   "metadata": {},
   "outputs": [
    {
     "data": {
      "text/plain": [
       "(512, 512)"
      ]
     },
     "execution_count": 74,
     "metadata": {},
     "output_type": "execute_result"
    }
   ],
   "source": [
    "len(one), len(two)"
   ]
  },
  {
   "cell_type": "code",
   "execution_count": 83,
   "metadata": {},
   "outputs": [],
   "source": [
    "def k_universal_circular(k):\n",
    "    edges = ['1' for _ in range(k)]\n",
    "    visited = {''.join(edges)}\n",
    "    \n",
    "    for i in range((1 << k) - k):\n",
    "        pattern = ''.join(edges[-k + 1:] + ['0'])\n",
    "        if pattern in visited:\n",
    "            edges.append('1')\n",
    "        else:\n",
    "            edges.append('0')\n",
    "        visited.add(''.join(edges[-k:]))\n",
    "\n",
    "    return ''.join(edges)"
   ]
  },
  {
   "cell_type": "code",
   "execution_count": 84,
   "metadata": {
    "collapsed": true
   },
   "outputs": [],
   "source": [
    "def main():\n",
    "    \n",
    "    file = open('rosalind_ba3i.txt', 'r')\n",
    "    \n",
    "    k = int(next(file))\n",
    "    \n",
    "    print(k_universal_circular(k))\n",
    "\n",
    "    file.close()"
   ]
  },
  {
   "cell_type": "code",
   "execution_count": 85,
   "metadata": {},
   "outputs": [
    {
     "name": "stdout",
     "output_type": "stream",
     "text": [
      "1111111100000000100000011000001010000011100001001000010110000110100001111000100010011000101010001011100011001000110110001110100011111001001010010011100101011001011010010111100110011010100110111001110110011110100111111010101011101011011010111110110111101110\n"
     ]
    }
   ],
   "source": [
    "if __name__ == '__main__':\n",
    "    main()"
   ]
  },
  {
   "cell_type": "code",
   "execution_count": 86,
   "metadata": {
    "collapsed": true
   },
   "outputs": [],
   "source": [
    "one = '1111111100000000100000011000001010000011100001001000010110000110100001111000100010011000101010001011100011001000110110001110100011111001001010010011100101011001011010010111100110011010100110111001110110011110100111111010101011101011011010111110110111101110'"
   ]
  },
  {
   "cell_type": "code",
   "execution_count": 87,
   "metadata": {
    "collapsed": true
   },
   "outputs": [],
   "source": [
    "two = '1111111100000000100000011000001010000011100001001000010110000110100001111000100010011000101010001011100011001000110110001110100011111001001010010011100101011001011010010111100110011010100110111001110110011110100111111010101011101011011010111110110111101110'"
   ]
  },
  {
   "cell_type": "code",
   "execution_count": 88,
   "metadata": {},
   "outputs": [
    {
     "data": {
      "text/plain": [
       "True"
      ]
     },
     "execution_count": 88,
     "metadata": {},
     "output_type": "execute_result"
    }
   ],
   "source": [
    "one == two"
   ]
  },
  {
   "cell_type": "code",
   "execution_count": null,
   "metadata": {
    "collapsed": true
   },
   "outputs": [],
   "source": []
  }
 ],
 "metadata": {
  "kernelspec": {
   "display_name": "Python 3",
   "language": "python",
   "name": "python3"
  },
  "language_info": {
   "codemirror_mode": {
    "name": "ipython",
    "version": 3
   },
   "file_extension": ".py",
   "mimetype": "text/x-python",
   "name": "python",
   "nbconvert_exporter": "python",
   "pygments_lexer": "ipython3",
   "version": "3.6.4"
  }
 },
 "nbformat": 4,
 "nbformat_minor": 2
}
