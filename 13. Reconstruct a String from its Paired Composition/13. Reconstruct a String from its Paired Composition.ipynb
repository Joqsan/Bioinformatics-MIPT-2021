{
 "cells": [
  {
   "cell_type": "code",
   "execution_count": 1,
   "metadata": {
    "collapsed": true
   },
   "outputs": [],
   "source": [
    "from collections import defaultdict\n",
    "import numpy as np"
   ]
  },
  {
   "cell_type": "code",
   "execution_count": 104,
   "metadata": {},
   "outputs": [
    {
     "name": "stdout",
     "output_type": "stream",
     "text": [
      "TTTTGCACCGTAAATGAAGGGGCGCTCGATAGCCAATTTAACTTGACGCGAATCTCATGATTGACCCCTTCCTTTGACAATACCCCTTGGATGCCAATCGAGTCCTGGGAAGGATCCCCATTATGAGGCGAATACGGGGGGACCGAATTCTATGCAGAGAGAATTTCAGCTGGCGTCCGGCTGGAGCGATATTAGGTTTGCGGACGTCGTCTAGAATTATGGGCCAGTGTCCGGGTACTGGCTTTCGCGAGCAATCCTCTAGTCCTTACGCGAGATGAATATATTCTGGATCTTAGAAGTTATGGGTCATCCGAAATACCCTCGATTGTAGTCGGGTCGGAGCTTGATCATGCCTATTAGCACTTCATCCTCGTCCCAGTTCGATGAAGAAAGGTTCGTAATATTTCCCCGATATGGATGCCAATCGAGTCCTGGGAAGGATCCGTGCTTTTAATTCGTTTGCCAGGGGACTATGTGATACTTGGATGCCAATCGAGTCCTGGGAAGGATCCCCAATATGTGACGTGCGCAGTATTCGAGGAATCTCTTCTGGATGCCAATCGAGTCCTGGGAAGGATCCGTAATTCGCATGCTCCGAGCCGTTGCCGCAGGCTTGGATGCCAATCGAGTCCTGGTGGATGCCAATCGAGTCCTGGGAAGGATCCGTTGGATGCCAATCGAGTCCTGGGAAGGATCCGGATGCCAATCGAGTCCTGGGAAGGATCCAAGGATCCCCTCAGCTGCTACCGCCGAATCCATCGGCCGTGGCTCCGCTAAAGCAGCTCCGGATGCTTGTTGCTCAGTGTTCCCTCTTCATGTCGGGTCCTGGACACCCAACCGATTTGAGTTCGCAGTGATGGATGCCAATCGAGTCCTGGGAAGGATCCTCCAGAGCGGTCGCCCGTAATGGCTGACCTTCTAGAAAGAGAATTGGTGTCAAGCTTGGAAGGCTTGCTCAAAGGCTTGTCGATCAGGATATGGATGCCAATCGAGTCCTGGGAAGGATCCTGGATGCCAATCGAGTCCTGGGAAGGATCCTCTGGGTTGATCGAGTCGGTCCACTCGTTATATCGCAATGGTCCCCCACCATTTAACGCTGTTACGAAGTAAGGCAAGAGGAAATACAAACGTCGAGGGTCCCCGGCCTACGACGAAAATTTAGGTAAGCCCACTGCTGGATGCCAATCGAGTCCTGGGAAGGATCCTCCTAAAAACTTAGGCGCGCTGGATGTGGATGCCAATCGAGTCCTGGGAAGGATCCCCAATCGAGTCCTGGGAAGGATCCTCGGGCTACGAGCACTGAGGCTCACCACTGAGCAATCCTTTTCCGAGCACCCACCGAGTGGTCATAATGAATGGATGCCAATCGAGTCCTGGGAAGGATCCTAGAGCCGTCGCGTGCTCTGCGATGCCTTCTAGTTGCAGGCTTTCTAAGCGTTGAATACCGGAA\n"
     ]
    }
   ],
   "source": [
    "lines = [s.strip() for s in list(open(\"rosalind_ba3j.txt\", \"r\"))]\n",
    "k, d = [int(val) for val in lines[0].split()]\n",
    "paired_reads = [s.split('|') for s in lines[1:]]\n",
    "\n",
    "graph = defaultdict(list)\n",
    "nodes = []\n",
    "source = None\n",
    "balance = defaultdict(int)\n",
    "for l, r in paired_reads:\n",
    "    pref = (l[:-1], r[:-1])\n",
    "    suff = (l[1:], r[1:])\n",
    "    nodes.extend([pref, suff])\n",
    "    graph[pref].append(suff)\n",
    "    balance[pref] -= 1\n",
    "    balance[suff] += 1\n",
    "\n",
    "balance = np.array([balance[v] for v in nodes])\n",
    "source = nodes[np.where(balance < 0)[0][0]]\n",
    "\n",
    "curr_path, ecycle = [source], []\n",
    "curr_node = source\n",
    "while curr_path:\n",
    "    if len(graph[curr_node]):\n",
    "        curr_path.append(curr_node)\n",
    "        curr_node = graph[curr_node].pop()\n",
    "    else:\n",
    "        ecycle.append(curr_node)\n",
    "        curr_node = curr_path.pop()\n",
    "ecycle.reverse()\n",
    "ecycle = np.vstack(ecycle)\n",
    "\n",
    "# suffix(read1 from node i) = prefix(read1 from node i+1)\n",
    "# ==> the prefix of read1 from node i+1 is already in read1 from node i\n",
    "# ==> we join last letters from every read1\n",
    "# *the same for the read2.\n",
    "prefs = ecycle[0, 0] + ''.join([s[k-2:] for s in ecycle[1:, 0]])\n",
    "suffs = ecycle[0, 1] + ''.join([s[k-2:] for s in ecycle[1:, 1]])\n",
    "answer = prefs[:d + k] + suffs\n",
    "print(answer)"
   ]
  },
  {
   "cell_type": "code",
   "execution_count": 23,
   "metadata": {
    "collapsed": true
   },
   "outputs": [],
   "source": [
    "prefs2 = ecycle[0, 0] + ''.join([s[-1] for s in ecycle[1:, 0]])\n",
    "suffs2 = ecycle[0, 1] + ''.join([s[-1] for s in ecycle[1:, 1]])\n",
    "answer2 = prefs2[:d + k] + suffs2"
   ]
  },
  {
   "cell_type": "code",
   "execution_count": 24,
   "metadata": {},
   "outputs": [
    {
     "data": {
      "text/plain": [
       "'GTGGTCGTGAGATGTTGA'"
      ]
     },
     "execution_count": 24,
     "metadata": {},
     "output_type": "execute_result"
    }
   ],
   "source": [
    "answer2"
   ]
  },
  {
   "cell_type": "code",
   "execution_count": 72,
   "metadata": {},
   "outputs": [
    {
     "data": {
      "text/plain": [
       "array([['GTG', 'GTG'],\n",
       "       ['TGG', 'TGA'],\n",
       "       ['GGT', 'GAG'],\n",
       "       ['GTC', 'AGA'],\n",
       "       ['TCG', 'GAT'],\n",
       "       ['CGT', 'ATG'],\n",
       "       ['GTG', 'TGT'],\n",
       "       ['TGA', 'GTT'],\n",
       "       ['GAG', 'TTG'],\n",
       "       ['AGA', 'TGA']], dtype='<U3')"
      ]
     },
     "execution_count": 72,
     "metadata": {},
     "output_type": "execute_result"
    }
   ],
   "source": [
    "ecycle"
   ]
  },
  {
   "cell_type": "code",
   "execution_count": 73,
   "metadata": {
    "collapsed": true
   },
   "outputs": [],
   "source": [
    "reads1, reads2 = zip(*ecycle)"
   ]
  },
  {
   "cell_type": "code",
   "execution_count": 33,
   "metadata": {
    "collapsed": true
   },
   "outputs": [],
   "source": [
    "part1 = reads1[0][:-1] + ''.join([p[-1] for p in reads1])"
   ]
  },
  {
   "cell_type": "code",
   "execution_count": 34,
   "metadata": {
    "collapsed": true
   },
   "outputs": [],
   "source": [
    "part2 = reads2[0][:-1] + ''.join([p[-1] for p in reads2])"
   ]
  },
  {
   "cell_type": "code",
   "execution_count": 36,
   "metadata": {},
   "outputs": [
    {
     "data": {
      "text/plain": [
       "True"
      ]
     },
     "execution_count": 36,
     "metadata": {},
     "output_type": "execute_result"
    }
   ],
   "source": [
    "(part1[:d + k] + part2) == 'GTGGTCGTGAGATGTTGA'"
   ]
  },
  {
   "cell_type": "code",
   "execution_count": null,
   "metadata": {
    "collapsed": true
   },
   "outputs": [],
   "source": []
  },
  {
   "cell_type": "code",
   "execution_count": null,
   "metadata": {
    "collapsed": true
   },
   "outputs": [],
   "source": []
  },
  {
   "cell_type": "code",
   "execution_count": null,
   "metadata": {
    "collapsed": true
   },
   "outputs": [],
   "source": []
  },
  {
   "cell_type": "code",
   "execution_count": 85,
   "metadata": {
    "collapsed": true
   },
   "outputs": [],
   "source": [
    "def build_path_graph(Adj, paired_reads):\n",
    "    s = None\n",
    "    vertices = []\n",
    "    # degree_balance[v] = in_degree[v] - out_degree[v]\n",
    "    degree_balance = defaultdict(int)\n",
    "    for read_1, read_2 in paired_reads:\n",
    "        prefix = (read_1[:-1], read_2[:-1])\n",
    "        suffix = (read_1[1:], read_2[1:])\n",
    "        vertices.extend([prefix, suffix])\n",
    "        Adj[prefix].append(suffix)\n",
    "        degree_balance[prefix] -= 1\n",
    "        degree_balance[suffix] += 1\n",
    "    degree_balance = np.array([degree_balance[v] for v in vertices])\n",
    "\n",
    "    # for source in_degree[v] = 0 and out_degree[v] > 0\n",
    "    # ==> degree_balance[s] < 0\n",
    "    s = vertices[np.where(degree_balance < 0)[0][0]]\n",
    "    return s"
   ]
  },
  {
   "cell_type": "code",
   "execution_count": 86,
   "metadata": {
    "collapsed": true
   },
   "outputs": [],
   "source": [
    "def dfs(s, Adj):\n",
    "    euler = []\n",
    "    path = [s]\n",
    "    u = s\n",
    "    while path:\n",
    "        if len(Adj[u]):\n",
    "            path.append(u)\n",
    "            u = Adj[u].pop()\n",
    "        else:\n",
    "            euler.append(u)\n",
    "            u = path.pop()\n",
    "    euler.reverse()\n",
    "    euler = np.vstack(euler)\n",
    "    \n",
    "    return euler"
   ]
  },
  {
   "cell_type": "code",
   "execution_count": 87,
   "metadata": {
    "collapsed": true
   },
   "outputs": [],
   "source": [
    "def get_string(euler, k, d):\n",
    "    reads1, reads2 = zip(*euler)\n",
    "    part1 = reads1[0][:-1] + ''.join([p[-1] for p in reads1])\n",
    "    part2 = reads2[0][:-1] + ''.join([p[-1] for p in reads2])\n",
    "\n",
    "    return part1[:k+d] + part2"
   ]
  },
  {
   "cell_type": "code",
   "execution_count": 96,
   "metadata": {
    "collapsed": true
   },
   "outputs": [],
   "source": [
    "def string_from_read_pairs(k, d, paired_reads):\n",
    "    \n",
    "    Adj = defaultdict(list)\n",
    "    s = build_path_graph(Adj, paired_reads)\n",
    "    euler = dfs(s, Adj)\n",
    "    \n",
    "    return get_string(euler, k, d)"
   ]
  },
  {
   "cell_type": "code",
   "execution_count": 109,
   "metadata": {
    "collapsed": true
   },
   "outputs": [],
   "source": [
    "def main():\n",
    "    \n",
    "    file = open('rosalind_ba3j.txt', 'r')\n",
    "    \n",
    "    k, d = list(map(int, next(file).split()))\n",
    "    \n",
    "    paired_reads = []\n",
    "    for s in file:\n",
    "        s = s.strip()\n",
    "        paired_reads.append(s.split('|'))\n",
    "    \n",
    "    print(string_from_read_pairs(k, d, paired_reads))\n",
    "\n",
    "    file.close()"
   ]
  },
  {
   "cell_type": "code",
   "execution_count": 108,
   "metadata": {},
   "outputs": [
    {
     "name": "stdout",
     "output_type": "stream",
     "text": [
      "GTGGTCGTGAGATGTTGA\n"
     ]
    }
   ],
   "source": [
    "if __name__ == '__main__':\n",
    "    main()"
   ]
  },
  {
   "cell_type": "code",
   "execution_count": 99,
   "metadata": {},
   "outputs": [
    {
     "data": {
      "text/plain": [
       "True"
      ]
     },
     "execution_count": 99,
     "metadata": {},
     "output_type": "execute_result"
    }
   ],
   "source": [
    "'GTGGTCGTGAGATGTTGA' == 'GTGGTCGTGAGATGTTGA'"
   ]
  },
  {
   "cell_type": "code",
   "execution_count": null,
   "metadata": {
    "collapsed": true
   },
   "outputs": [],
   "source": []
  }
 ],
 "metadata": {
  "kernelspec": {
   "display_name": "Python 3",
   "language": "python",
   "name": "python3"
  },
  "language_info": {
   "codemirror_mode": {
    "name": "ipython",
    "version": 3
   },
   "file_extension": ".py",
   "mimetype": "text/x-python",
   "name": "python",
   "nbconvert_exporter": "python",
   "pygments_lexer": "ipython3",
   "version": "3.6.4"
  }
 },
 "nbformat": 4,
 "nbformat_minor": 2
}
