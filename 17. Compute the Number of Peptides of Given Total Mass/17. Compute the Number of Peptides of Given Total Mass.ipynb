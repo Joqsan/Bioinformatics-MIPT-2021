{
 "cells": [
  {
   "cell_type": "code",
   "execution_count": 8,
   "metadata": {
    "collapsed": true
   },
   "outputs": [],
   "source": [
    "import numpy as np\n",
    "\n",
    "\"\"\"\n",
    "Idea: DP solution. Problem equivalent to the coin problem: finding in how many ways we can add to mass \n",
    "having coins with values in amino_masses, where mass \\in [0, m]\n",
    "\"\"\"\n",
    "\n",
    "# page 190\n",
    "aminoacid_masses = [\n",
    "    57, 71, 87, 97, 99, 101, 103, 113, 114, 115, 128, 129, 131, 137, 147, 156, 163, 186\n",
    "]\n",
    "\n",
    "\n",
    "def count_peptides_by_mass(m):\n",
    "    \n",
    "    dp = [0 for _ in range(m + 1)]\n",
    "    dp[0] = 1 # there is just 1 way to add to mass = 0: using no coins.\n",
    "    for mass in range(m + 1):\n",
    "        for c in aminoacid_masses:\n",
    "            if c > mass:\n",
    "                break\n",
    "            dp[mass] += dp[mass - c]\n",
    "\n",
    "    return dp[m]\n",
    "\n",
    "\n",
    "def main():\n",
    "    \n",
    "    file = open('rosalind_ba4d.txt', 'r')\n",
    "    \n",
    "    m = int(next(file))\n",
    "    print(count_peptides_by_mass(m))"
   ]
  },
  {
   "cell_type": "code",
   "execution_count": 9,
   "metadata": {},
   "outputs": [
    {
     "name": "stdout",
     "output_type": "stream",
     "text": [
      "2150301525719\n"
     ]
    }
   ],
   "source": [
    "if __name__ == '__main__':\n",
    "   main()"
   ]
  },
  {
   "cell_type": "code",
   "execution_count": null,
   "metadata": {
    "collapsed": true
   },
   "outputs": [],
   "source": [
    "2150301525719"
   ]
  }
 ],
 "metadata": {
  "kernelspec": {
   "display_name": "Python 3",
   "language": "python",
   "name": "python3"
  },
  "language_info": {
   "codemirror_mode": {
    "name": "ipython",
    "version": 3
   },
   "file_extension": ".py",
   "mimetype": "text/x-python",
   "name": "python",
   "nbconvert_exporter": "python",
   "pygments_lexer": "ipython3",
   "version": "3.6.4"
  }
 },
 "nbformat": 4,
 "nbformat_minor": 2
}
