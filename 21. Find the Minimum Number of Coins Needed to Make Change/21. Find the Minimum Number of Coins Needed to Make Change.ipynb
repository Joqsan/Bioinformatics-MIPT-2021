{
 "cells": [
  {
   "cell_type": "code",
   "execution_count": 11,
   "metadata": {
    "collapsed": true
   },
   "outputs": [],
   "source": [
    "from math import inf\n",
    "\n",
    "\n",
    "def min_coins(amount, coins):\n",
    "\n",
    "    dp = [inf for _ in range(amount + 1)]\n",
    "    dp[0] = 0\n",
    "\n",
    "    for x in range(1, amount + 1):\n",
    "        for c in coins:\n",
    "            if x - c >= 0:\n",
    "                dp[x] = min(dp[x], dp[x - c] + 1)\n",
    "\n",
    "    return dp[amount]\n",
    "\n",
    "\n",
    "def main():\n",
    "    \n",
    "    file = open('rosalind_ba5a.txt', 'r')\n",
    "    \n",
    "    amount = int(next(file))\n",
    "    coins = [int(s) for s in (next(file)).strip().split(',')]\n",
    "\n",
    "    print(min_coins(amount, coins))"
   ]
  },
  {
   "cell_type": "code",
   "execution_count": 12,
   "metadata": {},
   "outputs": [
    {
     "name": "stdout",
     "output_type": "stream",
     "text": [
      "986\n"
     ]
    }
   ],
   "source": [
    "if __name__ == '__main__':\n",
    "    main()"
   ]
  },
  {
   "cell_type": "code",
   "execution_count": 2,
   "metadata": {
    "collapsed": true
   },
   "outputs": [],
   "source": [
    "s = '1,5,10,20,25,50'"
   ]
  },
  {
   "cell_type": "code",
   "execution_count": 7,
   "metadata": {},
   "outputs": [
    {
     "data": {
      "text/plain": [
       "['1', '5', '10', '20', '25', '50']"
      ]
     },
     "execution_count": 7,
     "metadata": {},
     "output_type": "execute_result"
    }
   ],
   "source": [
    "s.strip().split(',')"
   ]
  },
  {
   "cell_type": "code",
   "execution_count": null,
   "metadata": {
    "collapsed": true
   },
   "outputs": [],
   "source": []
  }
 ],
 "metadata": {
  "kernelspec": {
   "display_name": "Python 3",
   "language": "python",
   "name": "python3"
  },
  "language_info": {
   "codemirror_mode": {
    "name": "ipython",
    "version": 3
   },
   "file_extension": ".py",
   "mimetype": "text/x-python",
   "name": "python",
   "nbconvert_exporter": "python",
   "pygments_lexer": "ipython3",
   "version": "3.6.4"
  }
 },
 "nbformat": 4,
 "nbformat_minor": 2
}
