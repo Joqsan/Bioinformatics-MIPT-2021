{
 "cells": [
  {
   "cell_type": "code",
   "execution_count": 3,
   "metadata": {
    "collapsed": true
   },
   "outputs": [],
   "source": [
    "def manhattan_tourist(n, m, down, right):\n",
    "\n",
    "    dp = [[0 for _ in range(m+1)] for _ in range(n+1)]\n",
    "\n",
    "    for r in range(1, n+1):\n",
    "        dp[r][0] = dp[r-1][0] + down[r-1][0]\n",
    "\n",
    "    for c in range(1, m+1):\n",
    "        dp[0][c] = dp[0][c-1] + right[0][c-1]\n",
    "\n",
    "    for r in range(1, n+1):\n",
    "        for c in range(1, m+1):\n",
    "            dp[r][c] = max(dp[r-1][c] + down[r-1][c], dp[r][c-1] + right[r][c-1])\n",
    "\n",
    "    return dp[n][m]\n",
    "\n",
    "\n",
    "def main():\n",
    "    \n",
    "    file = open('rosalind_ba5b.txt', 'r')\n",
    "    \n",
    "    n, m = [int(s) for s in next(file).strip().split()]\n",
    "\n",
    "    down = []\n",
    "    for _ in range(n):\n",
    "        row = [int(s) for s in next(file).strip().split()]\n",
    "        down.append(row)\n",
    "\n",
    "    next(file)\n",
    "\n",
    "    right = []\n",
    "    for _ in range(n+1):\n",
    "        row = [int(s) for s in next(file).strip().split()]\n",
    "        right.append(row)\n",
    "\n",
    "    print(manhattan_tourist(n, m, down, right))"
   ]
  },
  {
   "cell_type": "code",
   "execution_count": 4,
   "metadata": {},
   "outputs": [
    {
     "name": "stdout",
     "output_type": "stream",
     "text": [
      "88\n"
     ]
    }
   ],
   "source": [
    "if __name__ == '__main__':\n",
    "    main()"
   ]
  },
  {
   "cell_type": "code",
   "execution_count": null,
   "metadata": {
    "collapsed": true
   },
   "outputs": [],
   "source": []
  }
 ],
 "metadata": {
  "kernelspec": {
   "display_name": "Python 3",
   "language": "python",
   "name": "python3"
  },
  "language_info": {
   "codemirror_mode": {
    "name": "ipython",
    "version": 3
   },
   "file_extension": ".py",
   "mimetype": "text/x-python",
   "name": "python",
   "nbconvert_exporter": "python",
   "pygments_lexer": "ipython3",
   "version": "3.6.4"
  }
 },
 "nbformat": 4,
 "nbformat_minor": 2
}
