{
 "cells": [
  {
   "cell_type": "code",
   "execution_count": 3,
   "metadata": {
    "collapsed": true
   },
   "outputs": [],
   "source": [
    "from math import inf\n",
    "\n",
    "scoring_matrix_pam = {\n",
    "    \"A\": {\"A\": 2, \"C\": -2, \"D\": 0, \"E\": 0, \"F\": -3, \"G\": 1, \"H\": -1, \"I\": -1, \"K\": -1, \"L\": -2, \"M\": -1, \"N\": 0, \"P\": 1, \"Q\": 0, \"R\": -2, \"S\": 1, \"T\": 1, \"V\": 0, \"W\": -6, \"Y\": -3, \"-\": -5},\n",
    "    \"C\": {\"A\": -2, \"C\": 12, \"D\": -5, \"E\": -5, \"F\": -4, \"G\": -3, \"H\": -3, \"I\": -2, \"K\": -5, \"L\": -6, \"M\": -5, \"N\": -4, \"P\": -3, \"Q\": -5, \"R\": -4, \"S\": 0, \"T\": -2, \"V\": -2, \"W\": -8, \"Y\": 0, \"-\": -5},\n",
    "    \"D\": {\"A\": 0, \"C\": -5, \"D\": 4, \"E\": 3, \"F\": -6, \"G\": 1, \"H\": 1, \"I\": -2, \"K\": 0, \"L\": -4, \"M\": -3, \"N\": 2, \"P\": -1, \"Q\": 2, \"R\": -1, \"S\": 0, \"T\": 0, \"V\": -2, \"W\": -7, \"Y\": -4, \"-\": -5},\n",
    "    \"E\": {\"A\": 0, \"C\": -5, \"D\": 3, \"E\": 4, \"F\": -5, \"G\": 0, \"H\": 1, \"I\": -2, \"K\": 0, \"L\": -3, \"M\": -2, \"N\": 1, \"P\": -1, \"Q\": 2, \"R\": -1, \"S\": 0, \"T\": 0, \"V\": -2, \"W\": -7, \"Y\": -4, \"-\": -5},\n",
    "    \"F\": {\"A\": -3, \"C\": -4, \"D\": -6, \"E\": -5, \"F\": 9, \"G\": -5, \"H\": -2, \"I\": 1, \"K\": -5, \"L\": 2, \"M\": 0, \"N\": -3, \"P\": -5, \"Q\": -5, \"R\": -4, \"S\": -3, \"T\": -3, \"V\": -1, \"W\": 0, \"Y\": 7, \"-\": -5},\n",
    "    \"G\": {\"A\": 1, \"C\": -3, \"D\": 1, \"E\": 0, \"F\": -5, \"G\": 5, \"H\": -2, \"I\": -3, \"K\": -2, \"L\": -4, \"M\": -3, \"N\": 0, \"P\": 0, \"Q\": -1, \"R\": -3, \"S\": 1, \"T\": 0, \"V\": -1, \"W\": -7, \"Y\": -5, \"-\": -5},\n",
    "    \"H\": {\"A\": -1, \"C\": -3, \"D\": 1, \"E\": 1, \"F\": -2, \"G\": -2, \"H\": 6, \"I\": -2, \"K\": 0, \"L\": -2, \"M\": -2, \"N\": 2, \"P\": 0, \"Q\": 3, \"R\": 2, \"S\": -1, \"T\": -1, \"V\": -2, \"W\": -3, \"Y\": 0, \"-\": -5},\n",
    "    \"I\": {\"A\": -1, \"C\": -2, \"D\": -2, \"E\": -2, \"F\": 1, \"G\": -3, \"H\": -2, \"I\": 5, \"K\": -2, \"L\": 2, \"M\": 2, \"N\": -2, \"P\": -2, \"Q\": -2, \"R\": -2, \"S\": -1, \"T\": 0, \"V\": 4, \"W\": -5, \"Y\": -1, \"-\": -5},\n",
    "    \"K\": {\"A\": -1, \"C\": -5, \"D\": 0, \"E\": 0, \"F\": -5, \"G\": -2, \"H\": 0, \"I\": -2, \"K\": 5, \"L\": -3, \"M\": 0, \"N\": 1, \"P\": -1, \"Q\": 1, \"R\": 3, \"S\": 0, \"T\": 0, \"V\": -2, \"W\": -3, \"Y\": -4, \"-\": -5},\n",
    "    \"L\": {\"A\": -2, \"C\": -6, \"D\": -4, \"E\": -3, \"F\": 2, \"G\": -4, \"H\": -2, \"I\": 2, \"K\": -3, \"L\": 6, \"M\": 4, \"N\": -3, \"P\": -3, \"Q\": -2, \"R\": -3, \"S\": -3, \"T\": -2, \"V\": 2, \"W\": -2, \"Y\": -1, \"-\": -5},\n",
    "    \"M\": {\"A\": -1, \"C\": -5, \"D\": -3, \"E\": -2, \"F\": 0, \"G\": -3, \"H\": -2, \"I\": 2, \"K\": 0, \"L\": 4, \"M\": 6, \"N\": -2, \"P\": -2, \"Q\": -1, \"R\": 0, \"S\": -2, \"T\": -1, \"V\": 2, \"W\": -4, \"Y\": -2, \"-\": -5},\n",
    "    \"N\": {\"A\": 0, \"C\": -4, \"D\": 2, \"E\": 1, \"F\": -3, \"G\": 0, \"H\": 2, \"I\": -2, \"K\": 1, \"L\": -3, \"M\": -2, \"N\": 2, \"P\": 0, \"Q\": 1, \"R\": 0, \"S\": 1, \"T\": 0, \"V\": -2, \"W\": -4, \"Y\": -2, \"-\": -5},\n",
    "    \"P\": {\"A\": 1, \"C\": -3, \"D\": -1, \"E\": -1, \"F\": -5, \"G\": 0, \"H\": 0, \"I\": -2, \"K\": -1, \"L\": -3, \"M\": -2, \"N\": 0, \"P\": 6, \"Q\": 0, \"R\": 0, \"S\": 1, \"T\": 0, \"V\": -1, \"W\": -6, \"Y\": -5, \"-\": -5},\n",
    "    \"Q\": {\"A\": 0, \"C\": -5, \"D\": 2, \"E\": 2, \"F\": -5, \"G\": -1, \"H\": 3, \"I\": -2, \"K\": 1, \"L\": -2, \"M\": -1, \"N\": 1, \"P\": 0, \"Q\": 4, \"R\": 1, \"S\": -1, \"T\": -1, \"V\": -2, \"W\": -5, \"Y\": -4, \"-\": -5},\n",
    "    \"R\": {\"A\": -2, \"C\": -4, \"D\": -1, \"E\": -1, \"F\": -4, \"G\": -3, \"H\": 2, \"I\": -2, \"K\": 3, \"L\": -3, \"M\": 0, \"N\": 0, \"P\": 0, \"Q\": 1, \"R\": 6, \"S\": 0, \"T\": -1, \"V\": -2, \"W\": 2, \"Y\": -4, \"-\": -5},\n",
    "    \"S\": {\"A\": 1, \"C\": 0, \"D\": 0, \"E\": 0, \"F\": -3, \"G\": 1, \"H\": -1, \"I\": -1, \"K\": 0, \"L\": -3, \"M\": -2, \"N\": 1, \"P\": 1, \"Q\": -1, \"R\": 0, \"S\": 2, \"T\": 1, \"V\": -1, \"W\": -2, \"Y\": -3, \"-\": -5},\n",
    "    \"T\": {\"A\": 1, \"C\": -2, \"D\": 0, \"E\": 0, \"F\": -3, \"G\": 0, \"H\": -1, \"I\": 0, \"K\": 0, \"L\": -2, \"M\": -1, \"N\": 0, \"P\": 0, \"Q\": -1, \"R\": -1, \"S\": 1, \"T\": 3, \"V\": 0, \"W\": -5, \"Y\": -3, \"-\": -5},\n",
    "    \"V\": {\"A\": 0, \"C\": -2, \"D\": -2, \"E\": -2, \"F\": -1, \"G\": -1, \"H\": -2, \"I\": 4, \"K\": -2, \"L\": 2, \"M\": 2, \"N\": -2, \"P\": -1, \"Q\": -2, \"R\": -2, \"S\": -1, \"T\": 0, \"V\": 4, \"W\": -6, \"Y\": -2, \"-\": -5},\n",
    "    \"W\": {\"A\": -6, \"C\": -8, \"D\": -7, \"E\": -7, \"F\": 0, \"G\": -7, \"H\": -3, \"I\": -5, \"K\": -3, \"L\": -2, \"M\": -4, \"N\": -4, \"P\": -6, \"Q\": -5, \"R\": 2, \"S\": -2, \"T\": -5, \"V\": -6, \"W\": 17, \"Y\": 0, \"-\": -5},\n",
    "    \"Y\": {\"A\": -3, \"C\": 0, \"D\": -4, \"E\": -4, \"F\": 7, \"G\": -5, \"H\": 0, \"I\": -1, \"K\": -4, \"L\": -1, \"M\": -2, \"N\": -2, \"P\": -5, \"Q\": -4, \"R\": -4, \"S\": -3, \"T\": -3, \"V\": -2, \"W\": 0, \"Y\": 10, \"-\": -5},\n",
    "    \"-\": {\"A\": -5, \"C\": -5, \"D\": -5, \"E\": -5, \"F\": -5, \"G\": -5, \"H\": -5, \"I\": -5, \"K\": -5, \"L\": -5, \"M\": -5, \"N\": -5, \"P\": -5, \"Q\": -5, \"R\": -5, \"S\": -5, \"T\": -5, \"V\": -5, \"W\": -5, \"Y\": -5, \"-\": -100000}\n",
    "}\n",
    "\n",
    "\n",
    "# The same as in problem 24, but taking into account the\n",
    "# \"free taxi rides\" in the DAG (page 259)\n",
    "class DpWithBacktracking:\n",
    "    def __init__(self):\n",
    "        self.x_prev = None\n",
    "        self.y_prev = None\n",
    "        self.val = -inf\n",
    "\n",
    "    def get_x(self):\n",
    "        return self.x_prev\n",
    "\n",
    "    def get_y(self):\n",
    "        return self.y_prev\n",
    "\n",
    "    def get_val(self):\n",
    "        return self.val\n",
    "\n",
    "    def relax(self, x_prev, y_prev, value):\n",
    "        if self.val < value:\n",
    "            self.val = value\n",
    "            self.x_prev = x_prev\n",
    "            self.y_prev = y_prev\n",
    "\n",
    "\n",
    "def highest_scoring_alignment(amino_1, amino_2):\n",
    "    n = len(amino_1)\n",
    "    m = len(amino_2)\n",
    "\n",
    "    dp = [[DpWithBacktracking() for _ in range(m + 1)] for _ in range(n + 1)]\n",
    "    dp[0][0].relax(None, None, 0)\n",
    "\n",
    "    for j in range(m):\n",
    "        dp[0][j + 1].relax(0, j, dp[0][j].get_val() + scoring_matrix_pam['-'][amino_2[j]])\n",
    "        # checking for free taxi ride\n",
    "        dp[0][j + 1].relax(None, None, 0)\n",
    "\n",
    "    for i in range(n):\n",
    "        dp[i + 1][0].relax(i, 0, dp[i][0].get_val() + scoring_matrix_pam['-'][amino_1[i]])\n",
    "        # checking for free taxi ride\n",
    "        dp[i + 1][0].relax(None, None, 0)\n",
    "\n",
    "    for i in range(1, n + 1):\n",
    "        for j in range(1, m + 1):\n",
    "            dp[i][j].relax(i, j - 1, dp[i][j - 1].get_val() + scoring_matrix_pam['-'][amino_2[j - 1]])\n",
    "            dp[i][j].relax(i - 1, j, dp[i - 1][j].get_val() + scoring_matrix_pam[amino_1[i - 1]]['-'])\n",
    "            dp[i][j].relax(i - 1, j - 1, dp[i - 1][j - 1].get_val() + scoring_matrix_pam[amino_1[i - 1]][amino_2[j - 1]])\n",
    "\n",
    "            # checking for free taxi ride\n",
    "            dp[i][j].relax(None, None, 0)\n",
    "\n",
    "    return dp\n",
    "\n",
    "\n",
    "def find_end_of_conserved_interval(n, m, dp):\n",
    "    i, j = n, m\n",
    "\n",
    "    for start_i in range(n + 1):\n",
    "        for start_j in range(m + 1):\n",
    "            if dp[start_i][start_j].get_val() > dp[i][j].get_val():\n",
    "                i, j = start_i, start_j\n",
    "\n",
    "    return i, j, dp[i][j].get_val()\n",
    "\n",
    "\n",
    "def get_alignment(amino_1, amino_2, dp):\n",
    "    n = len(amino_1)\n",
    "    m = len(amino_2)\n",
    "\n",
    "    result_1 = []\n",
    "    result_2 = []\n",
    "\n",
    "    # largest_val = dp[m][n]\n",
    "    i, j, largest_val = find_end_of_conserved_interval(n, m, dp)\n",
    "\n",
    "\n",
    "    # get alignments (will be in the reverse order, from the end to\n",
    "    # the beginning).\n",
    "    while i or j and dp[i][j].get_val() >= 0:\n",
    "        if dp[i][j].get_x() == i:\n",
    "            result_1.append('-')\n",
    "            result_2.append(amino_2[j - 1])\n",
    "        elif dp[i][j].get_y() == j:\n",
    "            result_1.append(amino_1[i - 1])\n",
    "            result_2.append('-')\n",
    "        else:\n",
    "            result_1.append(amino_1[i - 1])\n",
    "            result_2.append(amino_2[j - 1])\n",
    "        i, j = dp[i][j].get_x(), dp[i][j].get_y()\n",
    "\n",
    "    # reverse alignments in the correct order\n",
    "    return largest_val, result_1[::-1][1:], result_2[::-1][1:]\n",
    "\n",
    "\n",
    "def main():\n",
    "    \n",
    "    file = open('rosalind_ba5f.txt', 'r')\n",
    "    \n",
    "    amino_1 = next(file).strip()\n",
    "    amino_2 = next(file).strip()\n",
    "\n",
    "    dp = highest_scoring_alignment(amino_1, amino_2)\n",
    "\n",
    "    largest_val, result_1, result_2 = get_alignment(amino_1, amino_2, dp)\n",
    "\n",
    "    print(largest_val)\n",
    "    print(''.join(result_1))\n",
    "    print(''.join(result_2))"
   ]
  },
  {
   "cell_type": "code",
   "execution_count": 4,
   "metadata": {},
   "outputs": [
    {
     "name": "stdout",
     "output_type": "stream",
     "text": [
      "3129\n",
      "LC-YANLMAKWDPCHVRY--I-E-WQSLDHCDFARMWCN-PQFRD-QGTFKNALLIMFHYLTPKAVEHWESH-QQYHFPIFIHHRNKLCWQEVPFGPLIPW-MRMQYDSRPWDTTYTM-EIDLEGD-H-RD-FHT-VFCIAYSTSTHIQSYERKLRIVMSCPHKDLEGWFWSPYTW-WFVENLI-NQKF-INAPFHDAKKGK--MPASHNVKHDWAA-FERF-WDM---YPKANGVRNHWINVINKWW-AVKVANTGDQRCVTTN-C-LI-IIQ-KNEIQAFCDNELI----GM-TFPPASGADCSSDEWIMIKHVPQSE--YGTTP-KPTDTCNSHTQARYKWS-RMWPVIIQQNRNWHSWSGRAQVRERHMLLN-FTYAWGWSLPYIRQMFPNREKGLADDGWCMRNQMHTMTVMSCMFT-METTEHGQ-YIRHHLSKMTWMGECSEVEVTW--WL-FVQNNEFMCY-HGHHLDTPEYNHGPFSDFS-FLVSDHFVTMC-CETAS-VCHPIAYYQTNHKRETVNPCPAKRHHIGANNYVSQKLVHHNLVRNYITYHPDWEARWSWQFNAANKRNHELQ-YEECW-H--L-DQ-FQAHTQTE-RLIKI-P-RGEKPIKKWEM--WN-RMQ--FY-SEQWGEMPSSHLVDKSYVGIYKRI-A-CCSLFEIVQYKTVGPSHRIVC-MYNFADRKQQTQRSMHK-AEDKEVCNEDAGMTYHINNRCPHYLVVYNSAKEPYCLTLMPKWQYAMIRWLFSYRNWEKIDKTHTWVQPIAHNMTKPAFRCYIDW-KCAR-CQKNNEKLSHLDEMVPHHCAWEA-ENILCYLLRQGLHN-F-YLLQSPR-RV-WQCYDGMAVGKSCEYAMPFTDIFLVIGGFINPRLMTMPPLEAGWRSYSSLMEFTHDHMMPELYRDPKTTGMSNMMDDMIRIF-GFLGITWCVPCVAMYWGYFECAWAMCQAVKEGPECFFVMH-LGECRLSCAEQKFAESSGHRAGTMHNAAQCWWKTHRSFLENILSLYFHPYTINANKREKRKCNIFTMDKECA-AV-FHWSIGHARQSQAYTQNHYHQ-IQ-MAHVSFICVGFNFPSSHQMHQDCWLAYDMWHFN---WGHLDSATSEMDWSGMTYQFYTQYKILHCIGASTKPASVK-G--SI--S-AN-IR---MKLNQNLAYCLSFHQPSTCQWLHDNW-GHMDGVYLFDFHGT----DL----PIPDEYVHRCPRHCGFYSWMQEVCPKKSRLAYDQVLKAISIFRC--NEQNWYQVAQNKCTGILCLIKEPHSCLRNFLARLNLWEPKLIYIMNLDMYRVCKSDHRGEKKGYGYAFPMIWGHTREAFDTRAELVLWGKYAFYEYETDNGAPFRTADPHLETLMRSGYHCMKWKGPVIQGCLEIRKRRMYVATMMPDRWIRLR-MEALHAEQPTWKTCPHCDKVWWSLRMGGWQNDILIFYPLVDNLHGCEA-AHFYPWNCCQIAREIDWVPGAIFRVLVKEARTKIKSWSQEEFWSRRTWTLVEEEVKHGGMTRWS-VDSE-DHI-SCSYKF-KMTVNDWHLEKFCCMALFKWSLKNWHARKHGKCVHNMWLVYQVVGETLVAQCVFEYGI---PQNVVCKRVCCPAC-C-YLILPD---SPHICDQQHHILVDSVNSRFAQCEPEPYRGFNRGKLNMPSKCMAHLMDNHWT---QNKPE----V--L--DIYEVHRHANKEPAQFCKVQVAQVSSESFEERGDGEAPMGV--W-LHLDMNLY-AK-H--NL--KKTCPMWRLMRVMVTFYFPNMNGWSAFLTNDLWFDLYYCSTEQLEPSWHYCPEVEDEKLMSLPQSICGTPAQLYNKSRWEYAKHEN--F----LTRLRNEQCPNWQMKHGKLMWGAAGQHHTTWSKWHQHDVHRYWIQDIGCQ------HSMGDISCFIMVSMFGFYAHNREGTR-N---LLC---Y----DYTW-I--VPF-----IL--GKRDNCMVGLADMRTFRF-YMTHINFVRAENEDDLWGKVQNFKNDHAIDPGPD-DMGTHQVAIIWMH-YR-GDDMWDMRQNKFGHCENTGSPICNCWCFQEYIMIFHVFYPNCIPIMNLNYHVIQTTMWGIMNPACMSVYKMNIQQKSGGWGMLHVFATTAENHKRTVGQMMTLSDEAGGQEDSYWNGEEELGFVYLFLMRSTPMVQAKSHLSRVCIQQTLMKTGGCKDPQTKQHFP--NGCWT-PKLWEWEKYKAEGFWIG-HC-ICKKNHWARLAMVSWRWCPDDRTFCCDRRIGINFHS-YVDGRI-DLVFMPIV-K-W-IPIMGDTGHPKKEAW-A-KN-T-DNSWNTDNHFA-KAWCKKCSRS-Q-W-W--DNSRRPWCIQGKERKEVKKPAFHLHVPANAMMGYAPGSHLFRIGKCQPGSGKGQQMASQPTGRCKWVLTWD-KHVKDKTTWYWTGHSMPDW--KTC-AD-ACECLWDV-ICWSIHVN--QDQGPM-WKTTGGHLCNIM--RKLHWDVC----FLSECQRHHCIGAM-YCALNPIQTKMASIWKEHYEIY-EDVWVMGRTKYIHWGDDTWPKAM-KK-GRWP-RH-WW--FN-Q--WNW-V-GM-GFEGAF--FEKHTTKLQCYETLSAILEMDNCPKYPPGGFNTICDVYWSMSRTLYRWKFVGFYAMPDRF-FC-YKPLVHTDWYFTVGNIVWDK--YHGLERWFSDIRDDWNMD-NRQMPKEKHA-DINSVQKTIVVLHQNGMCELDCNEIQQNLIQARFWVGCSSPEARYQVRPLMWAPFNYGPQSQLMVHNFEKYIHVNFRSERGLKSTYFGNTGILTLGYHKGNRTLRKMWTDETLAFKKWARCGFPCNWDWQ---L---FGCSQHTMNDNHQHQQRLMLTPWWKHWVSPISCLSRAKYRMLYTFYVNQYCAWAIIC\n",
      "VCDFQELCDGRDVTY-RYGHIAERW-C-TH-RVTSAWHDRAQTMESRAPMQNFGVPRFEYNIAEQLSA-GGEMQHMMF-LF-KRWNRV-WPP-KFMYILGWPTHPQVGKRTQHEPHLIPAYDLQLDYNIRKWYPSEMYC-KFH---DL-PYI-DMIMISPYSARNATSTFFNVNSWQRRKQGLEPDHKHGIHT-MHKCKQEKEQLQQVWPTDVGYVFYFDRVGVNIHACYPLQTTLRRN-DSAFG-WFFEV-IIQCSNNWCNEDHRCCKQWFYDCGHKHDEY-RHMLIFYKIGVWEIVSAQDVPCWWCNWEYFCDASYADVFYPELMFKVMKIAKVASQCMIAYPERFIKITSETNRVYSNWA-RNQCQNRGSMFSIFGFNHMRTAS-INAMCGKAYKD-DHEFFC-R--F--M-YYSC-FMWMRPAEIMKAYWWNQ--RFSRIV-C-HAE--WVIWIDYTDHPVLLVPGPGSSHDIIKIK-VVYSQWDERKVTE-LIILTFVQIQSWQKTNLTFFTPWH-WNVAEG-QGN-NDITSRVLLVDYFLLFQLTW--LKMHSQVGTPFRW-FRGDDMKPNGLDIYE-YWITSAIWKQTFAAYANITLRKSGILSQRSAGAISDWQRAGIDTNIQVSMIQPDHWSLLLP-QILPQ-YI-V-NRINAHVCN-WPALMFHHCECCE-YHCEAFDFHPR-QHLEKSIVKFNPENAYCPY-SGL---I--W--KY-G-YCCG-GTIAAEML-K--YS--NWLY-Y-----IV-I-V-ILTI---MV-P--W--VKWWECTEFIHGHAANAQHQGDPV-ELCPRTMYQKRWCFQQNHGAGGAIEWIVKETVCMVFWAQFRG--V-KCCN-G-HFC---M--GPTNNVKVSEKQ-M-C-W-P-ESV-EI-HTGL-AT-FCNPKKLHYA-LVYYHIPSYRGFLQKA--VA-ARQNRTFF--AF-F--G-R-G-QVYFTMNRYYQGRQHVGGPDHARSN-HWR-TAHNAAQCWWKTHRSFLENILSLYFHPYTIVANLREKRKCNIFDMDKECAKEVVFHWSIGHARQWKTQNHYHYIDMIKIMNHVSFICVGFNFPSSHQMHQDCWLAYDMLHFEVLMWGHL-SVTSK-NWTS-EMGMTTQYKILHCHGASTKPASVQCELLHLWASWPKSMSAPDMKLNQNLSNVMC-DDAY-CLSFHQPSNGIMDGVSLFDFHGTHSGMNLEGGHPIPDEYVHICPRH-------QEVCPKKSRLA-DQVLKAITI-RCCWNEQNWYQVAQNKCTWISC-VRQS-S-L---L-KF-LWEPILIYIMNLDMHRVCKSDHRGPMI-WGH-YINI-GTEREAFDT--------KYAFGEYETDRGTLMRSGD--IDHL-WM-IHCM---G-----CLEIRKR--YVATM-SCM-PPLSCMEALHAEQLTWKTCPP-MK----LRMGGWQNDTLIFKPLVDNLHE-AAWTNLKN-QMSR-EREIDEVPGAIFQVLVKEART-ID---QEEFWSRRTWTLVEE--R---V--WAEVDSEMNDVLVHQAHFCAICSSCSHLEKFYVLAIYK------HARDCGKCVHNMWL--------LVAQYVFEIGIIYWRQRVVSKRVCGACCYCDFLLLPDPCGSPFICDQQHHILVKSVNSRFAQCEPEPYRGFNRGKLNM-----AHLMDNHWGHLHQNKPEYRFSVSRLELDIYEVHRHANKEPAQFCVLQVNQVSCESWEERGDGEAPFGVPDSCLHLDMNLYFPKTDYLKLNMKKTCPMWRLMRQMVTFYFPNMN--CCY---ELW-SL---A-E---PSWHHCPE-S---LFNMTNEHY--PAQEYNKSRWEYAKHENRTYMYTRLTRLRNEQCPNWQMVHGKLAWWWVAWHHTTWSKWHSC-FHS-RIQDIGCKRKNKLIHSMGDISCFIMVSM-GFYAHNRGGTRMQGEALLCNESYYPAKDYTWWYEHVPFQLCQCVVCHNKRDNCMVGLADMRTRKWNYCCAINF-SPIWYQQ-WAGVRGLRINWITNKAPEWHQ-WWHLGIMTTGFYIIVAHFW-M--Y-FYH-EKQ-MPFCGPW--P--I--YDM----CAGSMRRS-N--QSHLY-VMKEKSLILIEDHTGMKMQ-WKTMEENDMSCDNMVTKF-HPKAYHQSFGGRM---W-GD--IKWKHV--PQGA-LEWER-HVKQMHIG-TMINPDS-NNHEKWIVFARWQGHFKKPKQRDWMN-AMHSFHEGMNCAMC---H-P-IKMMGYQLCNKTLDF--DARYS-QFRPTYLSDIFWNRAYRLIAGDHWELYQFSD-GLSYQD-WCAYMGYAIADPSEVCGQMEVPTYYQICTHPGHSWQWTIQDSDECWEVAAMN--DLDD-TFHFY-SS-CLFDVMNSCENYPI--CYTNT-RTHHVNYQA--R--W-M-WKCHHMMSAVPQVWQ-KAIFKWCFRSRFVQLGHE-VREMPISETVQTNEWHGNAKICWQDPPP-ICGDMCYRPIE-EICEGQTF-KPCRQIASSEEENYC-I--CQF-FPQ-WDQNATTNKHEVHVLLMVIRTHWGE--WAFGLLNRFHKSGCKPIRLVIFNDQHFRNWCPQGKTGPQHEFSAFHAEGTNWI-YKGMISAYDF--CEVFVPK-LMQL--VFWPSER--FHHR--GW--MPQ-FQACRINP-TRPIWKWQ--RV-WQTGVYN-YTR-TKAV-GDWGRNCGNNWPM-RFPWG-NAYGFASINLHQLSSSHMK-DAFNMDLRQAR--NGYKNSGA--G--G---AE-NFGAMMSI-VGPIA-CA-VA--TNQG--PQH--REDHWS-GESESAPEMRKIPPQKSCGFR--VQCVHPCGWQWHSSKMTERFCCVPCS-KDDIKH--KMM-RPYWSR-MGLVVSLYYHD-KMCYG--TSK--KWQT-C\n"
     ]
    }
   ],
   "source": [
    "if __name__ == '__main__':\n",
    "    main()"
   ]
  },
  {
   "cell_type": "code",
   "execution_count": 6,
   "metadata": {
    "collapsed": true
   },
   "outputs": [],
   "source": [
    "import numpy as np"
   ]
  },
  {
   "cell_type": "code",
   "execution_count": 7,
   "metadata": {},
   "outputs": [],
   "source": [
    "a = np.array([1,2, 3])"
   ]
  },
  {
   "cell_type": "code",
   "execution_count": 10,
   "metadata": {},
   "outputs": [
    {
     "data": {
      "text/plain": [
       "(2, 3, 4)"
      ]
     },
     "execution_count": 10,
     "metadata": {},
     "output_type": "execute_result"
    }
   ],
   "source": [
    "np.random.randint(0, 10, size=a+1).shape"
   ]
  },
  {
   "cell_type": "code",
   "execution_count": null,
   "metadata": {
    "collapsed": true
   },
   "outputs": [],
   "source": []
  }
 ],
 "metadata": {
  "kernelspec": {
   "display_name": "Python 3",
   "language": "python",
   "name": "python3"
  },
  "language_info": {
   "codemirror_mode": {
    "name": "ipython",
    "version": 3
   },
   "file_extension": ".py",
   "mimetype": "text/x-python",
   "name": "python",
   "nbconvert_exporter": "python",
   "pygments_lexer": "ipython3",
   "version": "3.6.4"
  }
 },
 "nbformat": 4,
 "nbformat_minor": 2
}
