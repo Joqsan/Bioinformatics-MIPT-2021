{
 "cells": [
  {
   "cell_type": "code",
   "execution_count": 1,
   "metadata": {
    "collapsed": true
   },
   "outputs": [],
   "source": [
    "from collections import defaultdict\n",
    "import sys\n",
    "import itertools\n",
    "\n",
    "\n",
    "def build_graph(first_genome, second_genome):\n",
    "    node_to_synteny_block = dict()\n",
    "    synteny_block_to_nodes = dict()\n",
    "    adjacency_lists = defaultdict(list)\n",
    "    last_node = -1\n",
    "    for cycle in first_genome:\n",
    "        for signed_synteny_block in cycle:\n",
    "            synteny_block = abs(signed_synteny_block)\n",
    "            if synteny_block not in synteny_block_to_nodes:\n",
    "                start_node = last_node + 1\n",
    "                end_node = last_node + 2\n",
    "                synteny_block_to_nodes[synteny_block] = (start_node, end_node)\n",
    "                node_to_synteny_block[start_node] = synteny_block\n",
    "                node_to_synteny_block[end_node] = synteny_block\n",
    "                last_node = end_node\n",
    "    for cycle in itertools.chain(first_genome, second_genome):\n",
    "        start, end = synteny_block_to_nodes[abs(cycle[0])]\n",
    "        prev_node = end if cycle[0] > 0 else start\n",
    "        extended_cycle = cycle[1:] + [cycle[0]]\n",
    "        for current_block in extended_cycle:\n",
    "            start, end = synteny_block_to_nodes[abs(current_block)]\n",
    "            current_node = start if current_block > 0 else end\n",
    "            adjacency_lists[current_node].append(prev_node)\n",
    "            adjacency_lists[prev_node].append(current_node)\n",
    "            prev_node = start if current_node == end else end\n",
    "    num_synteny_blocks = len(synteny_block_to_nodes)\n",
    "    return adjacency_lists, num_synteny_blocks\n",
    "\n",
    "\n",
    "def dfs(node, adjacency_lists, visited):\n",
    "    visited.add(node)\n",
    "    for child in adjacency_lists[node]:\n",
    "        if child not in visited:\n",
    "            dfs(child, adjacency_lists, visited)\n",
    "\n",
    "\n",
    "def parse_genome(str):\n",
    "    tokens = str.split(\")(\")\n",
    "    tokens[0] = tokens[0][1:]\n",
    "    tokens[-1] = tokens[-1][:-1]\n",
    "    genome = []\n",
    "    for token in tokens:\n",
    "        genome.append(list(map(int, token.split())))\n",
    "    return genome\n",
    "\n",
    "\n",
    "def main():\n",
    "    \n",
    "    file = open('rosalind_ba6c.txt', 'r')\n",
    "    \n",
    "    first_genome = parse_genome(next(file).strip())\n",
    "    second_genome = parse_genome(next(file).strip())\n",
    "    adjacency_lists, num_blocks = build_graph(first_genome, second_genome)\n",
    "    visited = set()\n",
    "    num_cycles = 0\n",
    "    sys.setrecursionlimit(2 * num_blocks)\n",
    "    for node in adjacency_lists:\n",
    "        if node not in visited:\n",
    "            dfs(node, adjacency_lists, visited)\n",
    "            num_cycles += 1\n",
    "    print(num_blocks - num_cycles)"
   ]
  },
  {
   "cell_type": "code",
   "execution_count": 2,
   "metadata": {},
   "outputs": [
    {
     "name": "stdout",
     "output_type": "stream",
     "text": [
      "14764\n"
     ]
    }
   ],
   "source": [
    "if __name__ == \"__main__\":\n",
    "    main()"
   ]
  },
  {
   "cell_type": "code",
   "execution_count": null,
   "metadata": {
    "collapsed": true
   },
   "outputs": [],
   "source": [
    "s1 = '(+1 +2 +3 +4 +5 +6)'\n",
    "s2 = '(+1 -3 -6 -5)(+2 -4)'"
   ]
  },
  {
   "cell_type": "code",
   "execution_count": null,
   "metadata": {},
   "outputs": [],
   "source": [
    "genome_1 = parse_genome(s1)\n",
    "genome_1"
   ]
  },
  {
   "cell_type": "code",
   "execution_count": null,
   "metadata": {},
   "outputs": [],
   "source": [
    "genome_2 = parse_genome(s2)\n",
    "genome_2"
   ]
  },
  {
   "cell_type": "code",
   "execution_count": null,
   "metadata": {
    "collapsed": true
   },
   "outputs": [],
   "source": [
    "import itertools"
   ]
  },
  {
   "cell_type": "code",
   "execution_count": null,
   "metadata": {},
   "outputs": [],
   "source": [
    "list(itertools.chain(genome_1, genome_2))"
   ]
  },
  {
   "cell_type": "code",
   "execution_count": null,
   "metadata": {},
   "outputs": [],
   "source": [
    "genome_1 + genome_2"
   ]
  },
  {
   "cell_type": "code",
   "execution_count": 4,
   "metadata": {},
   "outputs": [
    {
     "name": "stdout",
     "output_type": "stream",
     "text": [
      "14764\n"
     ]
    }
   ],
   "source": [
    "import sys\n",
    "from collections import defaultdict\n",
    "\n",
    "\n",
    "def get_genomes(gen):\n",
    "    gen_list = gen.split(\")(\")\n",
    "    gen_list[0] = gen_list[0][1:]\n",
    "    gen_list[-1] = gen_list[-1][:-1]\n",
    "    genome = []\n",
    "    for token in gen_list:\n",
    "        genome.append(list(map(int, token.split())))\n",
    "    return genome\n",
    "\n",
    "\n",
    "def build_breakpoint_graph(genome_1, genome_2):\n",
    "    Adj = defaultdict(list)\n",
    "\n",
    "    node_by_block = dict()\n",
    "    block_by_node = dict()\n",
    "\n",
    "    n_blocks = 0\n",
    "    curr_last = -1\n",
    "    for cycle in genome_1:\n",
    "        for block in cycle:\n",
    "            block = abs(block)\n",
    "            if block not in node_by_block:\n",
    "                n_blocks += 1\n",
    "                start = curr_last + 1\n",
    "                end = curr_last + 2\n",
    "\n",
    "                node_by_block[block] = (start, end)\n",
    "                block_by_node[start] = block\n",
    "                block_by_node[end] = block\n",
    "                curr_last = end\n",
    "\n",
    "    concat = genome_1 + genome_2\n",
    "    for cycle in concat:\n",
    "        block = abs(cycle[0])\n",
    "\n",
    "        start, end = node_by_block[block]\n",
    "        u = end if cycle[0] > 0 else start  # previous node\n",
    "\n",
    "        cycle = cycle[1:] + [cycle[0]]\n",
    "        for curr_block in cycle:\n",
    "            start, end = node_by_block[abs(curr_block)]\n",
    "            v = start if curr_block > 0 else end  # current node\n",
    "            Adj[v].append(u)\n",
    "            Adj[u].append(v)\n",
    "            u = start if v == end else end\n",
    "\n",
    "    return n_blocks, Adj\n",
    "\n",
    "\n",
    "def dfs(u_node, Adj, visited):\n",
    "    visited.add(u_node)\n",
    "    for v_node in Adj[u_node]:\n",
    "        if v_node not in visited:\n",
    "            dfs(v_node, Adj, visited)\n",
    "\n",
    "\n",
    "def two_break_distance(genome_1, genome_2):\n",
    "    num_cycles = 0\n",
    "    visited = set()\n",
    "    n_blocks, Adj = build_breakpoint_graph(genome_1, genome_2)\n",
    "    for u_node in Adj:\n",
    "        if u_node not in visited:\n",
    "            dfs(u_node, Adj, visited)\n",
    "            num_cycles += 1\n",
    "\n",
    "    # page 321: 2-Break Distance Theorem: The 2-break distance between genomes\n",
    "    # P and Q is equal to BLOCKS(P, Q) - CYCLES(P, Q).\n",
    "    return n_blocks - num_cycles\n",
    "\n",
    "\n",
    "def main():\n",
    "    sys.setrecursionlimit(int(1e5))\n",
    "\n",
    "    file = open('rosalind_ba6c.txt', 'r')\n",
    "\n",
    "    genome_1 = get_genomes(next(file).strip())\n",
    "    genome_2 = get_genomes(next(file).strip())\n",
    "\n",
    "    print(two_break_distance(genome_1, genome_2))\n",
    "\n",
    "\n",
    "if __name__ == '__main__':\n",
    "    main()"
   ]
  },
  {
   "cell_type": "code",
   "execution_count": null,
   "metadata": {
    "collapsed": true
   },
   "outputs": [],
   "source": [
    "import sys\n",
    "\n",
    "def str_to_in_vertex(s):\n",
    "    v = 2 * abs(int(s)) - 2\n",
    "    if s[0] == '-':\n",
    "        v += 1\n",
    "    return v\n",
    "\n",
    "\n",
    "def str_to_out_vertex(s):\n",
    "    v = 2 * abs(int(s)) - 1\n",
    "    if s[0] == '-':\n",
    "        v -= 1\n",
    "    return v\n",
    "\n",
    "\n",
    "def add_egdes(permutation, graph):\n",
    "    n = len(permutation)\n",
    "    for i in range(n):\n",
    "        j = (i + 1) % n\n",
    "        out_vertex = str_to_out_vertex(permutation[i])\n",
    "        in_vertex = str_to_in_vertex(permutation[j])\n",
    "        graph[out_vertex].append(in_vertex)\n",
    "        graph[in_vertex].append(out_vertex)\n",
    "\n",
    "\n",
    "def split_into_cycles(str):\n",
    "    return [s[:-1].split() for s in str.split('(')]\n",
    "\n",
    "\n",
    "def dfs(graph, v, visited):\n",
    "    visited[v] = 1\n",
    "    for u in graph[v]:\n",
    "        if not visited[u]:\n",
    "            dfs(graph, u, visited)\n",
    "\n",
    "\n",
    "def main():\n",
    "    sys.setrecursionlimit(100000)\n",
    "    file = open('rosalind_ba6c.txt', 'r')\n",
    "    \n",
    "    p = split_into_cycles(next(file).strip())\n",
    "    q = split_into_cycles(next(file).strip())\n",
    "    n = sum(len(cycle) for cycle in p)\n",
    "    graph = [[] for _ in range(2 * n)]\n",
    "    for cycle in p:\n",
    "        add_egdes(cycle, graph)\n",
    "    for cycle in q:\n",
    "        add_egdes(cycle, graph)\n",
    "    visited = [0 for _ in range(2 * n)]\n",
    "    dist = n\n",
    "    for v in range(2 * n):\n",
    "        if visited[v]:\n",
    "            continue\n",
    "        dfs(graph, v, visited)\n",
    "        dist -= 1\n",
    "    print(dist)\n"
   ]
  },
  {
   "cell_type": "code",
   "execution_count": null,
   "metadata": {
    "collapsed": true
   },
   "outputs": [],
   "source": [
    "if __name__ == '__main__':\n",
    "    main()"
   ]
  },
  {
   "cell_type": "code",
   "execution_count": null,
   "metadata": {
    "collapsed": true
   },
   "outputs": [],
   "source": []
  }
 ],
 "metadata": {
  "kernelspec": {
   "display_name": "Python 3",
   "language": "python",
   "name": "python3"
  },
  "language_info": {
   "codemirror_mode": {
    "name": "ipython",
    "version": 3
   },
   "file_extension": ".py",
   "mimetype": "text/x-python",
   "name": "python",
   "nbconvert_exporter": "python",
   "pygments_lexer": "ipython3",
   "version": "3.6.4"
  }
 },
 "nbformat": 4,
 "nbformat_minor": 2
}
