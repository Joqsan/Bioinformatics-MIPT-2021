{
 "cells": [
  {
   "cell_type": "code",
   "execution_count": 30,
   "metadata": {
    "collapsed": true
   },
   "outputs": [],
   "source": [
    "from copy import deepcopy\n",
    "\n",
    "\n",
    "def find_in_vertex(n):\n",
    "    v = 2 * abs(n) - 2\n",
    "    if n < 0:\n",
    "        v += 1\n",
    "    return v\n",
    "\n",
    "\n",
    "def find_out_vertex(n):\n",
    "    v = 2 * abs(n) - 1\n",
    "    if n < 0:\n",
    "        v -= 1\n",
    "    return v\n",
    "\n",
    "\n",
    "class PermutationGraph:\n",
    "    def __init__(self, str):\n",
    "        cycles = [list(map(int, s[:-1].split())) for s in str.split('(')]\n",
    "        self._n = sum(len(cycle) for cycle in cycles)\n",
    "        self._graph = [[] for _ in range(2 * self._n)]\n",
    "        for cycle in cycles:\n",
    "            self._add_egdes(cycle, self._graph)\n",
    "\n",
    "    @staticmethod\n",
    "    def _add_egdes(cycle, graph):\n",
    "        n = len(cycle)\n",
    "        for i in range(n):\n",
    "            j = (i + 1) % n\n",
    "            in_vertex = find_in_vertex(cycle[j])\n",
    "            out_vertex = find_out_vertex(cycle[i])\n",
    "            graph[out_vertex].append(in_vertex)\n",
    "            graph[in_vertex].append(out_vertex)\n",
    "\n",
    "    @staticmethod\n",
    "    def _signed_str(n):\n",
    "        if n > 0:\n",
    "            return '+{}'.format(n)\n",
    "        return str(n)\n",
    "\n",
    "    def _traverse_cycle(self, v, visited, cycle_nodes):\n",
    "        visited[v] = 1\n",
    "        if v % 2 == 0:\n",
    "            cycle_nodes.append(v // 2 + 1)\n",
    "        else:\n",
    "            cycle_nodes.append(-(v // 2) - 1)\n",
    "        next_v = v - 1 if v % 2 else v + 1\n",
    "        if visited[next_v]:\n",
    "            return\n",
    "        visited[next_v] = 1\n",
    "        next_v = self._graph[next_v][0]\n",
    "        if visited[next_v]:\n",
    "            return\n",
    "        self._traverse_cycle(next_v, visited, cycle_nodes)\n",
    "\n",
    "    def __str__(self):\n",
    "        visited = [0 for _ in range(2 * self._n)]\n",
    "        permutation = []\n",
    "        for v in range(2 * self._n):\n",
    "            if visited[v]:\n",
    "                continue\n",
    "            cycle = []\n",
    "            self._traverse_cycle(v, visited, cycle)\n",
    "            permutation.append(cycle)\n",
    "        return ' '.join([\n",
    "            '({})'.format(' '.join(map(self._signed_str, cycle)))\n",
    "            for cycle in permutation\n",
    "            ])\n",
    "\n",
    "    def __eq__(self, other):\n",
    "        return list(map(sorted, self._graph)) == \\\n",
    "                list(map(sorted, other._graph))\n",
    "\n",
    "    def __hash__(self):\n",
    "        return hash(str(self))\n",
    "\n",
    "    def two_break(self, u, v, x, y):\n",
    "        \"\"\"conduct 2-break between edges (u,v) and (x,y)\n",
    "        replace edges with (u,x) and (v,y)\n",
    "        \"\"\"\n",
    "        for from_v, to_v in [(u, v), (v, u), (x, y), (y, x)]:\n",
    "            self._graph[from_v].remove(to_v)\n",
    "        for from_v, to_v in [(u, x), (x, u), (v, y), (y, v)]:\n",
    "            self._graph[from_v].append(to_v)\n",
    "\n",
    "    def graph(self):\n",
    "        return deepcopy(self._graph)\n",
    "\n",
    "\n",
    "def main():\n",
    "    \n",
    "    file = open('rosalind_ba6k.txt', 'r')\n",
    "\n",
    "    p = PermutationGraph(next(file).strip())\n",
    "    u, v, x, y = map(int, next(file).strip().split(', '))\n",
    "    p.two_break(u - 1, v - 1, x - 1, y - 1)\n",
    "    print(p)"
   ]
  },
  {
   "cell_type": "code",
   "execution_count": 31,
   "metadata": {},
   "outputs": [
    {
     "name": "stdout",
     "output_type": "stream",
     "text": [
      "(+1 +70 +69 -68 +67 +66 -65 -64 -63 +62 -61 -60 +59 -58 -57 +56 +55 +54 +53 -52 -51 -50 -49 +48 -47 -46 +45 -44 +43 -42 -41 -40 -39 -38 +37 -36 -35 -34 -33 -32 +31 -30 -29 +28 -27 +26 +25 -24 -23 -22 +21 +20 +19 +18 +17 -16 -15 -14 -13 +12 +11 -10 -9 -8 -7 +6 +5 -4 -3 +2)\n"
     ]
    }
   ],
   "source": [
    "if __name__ == '__main__':\n",
    "    main()"
   ]
  },
  {
   "cell_type": "code",
   "execution_count": 23,
   "metadata": {
    "collapsed": true
   },
   "outputs": [],
   "source": [
    "see = '(+1 -2 -4 +3)'"
   ]
  },
  {
   "cell_type": "markdown",
   "metadata": {},
   "source": [
    "cycles = [list(map(int, s[:-1].split())) for s in see.split('(')]"
   ]
  },
  {
   "cell_type": "code",
   "execution_count": 16,
   "metadata": {},
   "outputs": [
    {
     "data": {
      "text/plain": [
       "[[], [1, -2, -4, 3]]"
      ]
     },
     "execution_count": 16,
     "metadata": {},
     "output_type": "execute_result"
    }
   ],
   "source": [
    "cycles = [list(map(int, s[:-1].split())) for s in see.split('(')]\n",
    "cycles"
   ]
  },
  {
   "cell_type": "code",
   "execution_count": 19,
   "metadata": {},
   "outputs": [],
   "source": []
  },
  {
   "cell_type": "code",
   "execution_count": 29,
   "metadata": {},
   "outputs": [
    {
     "data": {
      "text/plain": [
       "[1, -2, -4, 3]"
      ]
     },
     "execution_count": 29,
     "metadata": {},
     "output_type": "execute_result"
    }
   ],
   "source": [
    "seq = see\n",
    "seq = seq[1:-1].split()\n",
    "seq = list(map(int, seq))\n",
    "seq"
   ]
  },
  {
   "cell_type": "code",
   "execution_count": 26,
   "metadata": {},
   "outputs": [
    {
     "data": {
      "text/plain": [
       "['+1', '-2', '-4', '+3']"
      ]
     },
     "execution_count": 26,
     "metadata": {},
     "output_type": "execute_result"
    }
   ],
   "source": []
  },
  {
   "cell_type": "code",
   "execution_count": 28,
   "metadata": {},
   "outputs": [
    {
     "data": {
      "text/plain": [
       "[1, -2, -4, 3]"
      ]
     },
     "execution_count": 28,
     "metadata": {},
     "output_type": "execute_result"
    }
   ],
   "source": [
    "list(map(int, see[1:-1].split()))"
   ]
  },
  {
   "cell_type": "code",
   "execution_count": 32,
   "metadata": {},
   "outputs": [
    {
     "name": "stdout",
     "output_type": "stream",
     "text": [
      "(+1 +70 +69 -68 +67 +66 -65 -64 -63 +62 -61 -60 +59 -58 -57 +56 +55 +54 +53 -52 -51 -50 -49 +48 -47 -46 +45 -44 +43 -42 -41 -40 -39 -38 +37 -36 -35 -34 -33 -32 +31 -30 -29 +28 -27 +26 +25 -24 -23 -22 +21 +20 +19 +18 +17 -16 -15 -14 -13 +12 +11 -10 -9 -8 -7 +6 +5 -4 -3 +2)\n"
     ]
    }
   ],
   "source": [
    "from collections import defaultdict\n",
    "from copy import deepcopy\n",
    "import numpy as np\n",
    "\n",
    "\n",
    "def get_u_in(n):\n",
    "    v = 2 * abs(n) - 2\n",
    "    if n < 0:\n",
    "        v += 1\n",
    "    return v\n",
    "\n",
    "\n",
    "def get_v_out(n):\n",
    "    v = 2 * abs(n) - 1\n",
    "    if n < 0:\n",
    "        v -= 1\n",
    "    return v\n",
    "\n",
    "\n",
    "class Graph:\n",
    "    def __init__(self):\n",
    "        self.Adj = defaultdict(list)\n",
    "\n",
    "    def build_graph(self, cycles):\n",
    "        for cycle in cycles:\n",
    "            self.create_edge(cycle)\n",
    "\n",
    "    def create_edge(self, cycle,):\n",
    "        n = len(cycle)\n",
    "        for i in range(n):\n",
    "            j = (i + 1) % n\n",
    "            u = get_u_in(cycle[j])\n",
    "            v = get_v_out(cycle[i])\n",
    "            self.Adj[v].append(u)\n",
    "            self.Adj[u].append(v)\n",
    "\n",
    "    def get_two_break_on_graph(self, i1, i2, j1, j2):\n",
    "        for u, v in [(i1, i2), (i2, i1), (j1, j2), (j2, j1)]:\n",
    "            self.Adj[u].remove(v)\n",
    "        for u, v in [(i1, j1), (j1, i1), (i2, j2), (j2, i2)]:\n",
    "            self.Adj[u].append(v)\n",
    "\n",
    "    def dfs_visit(self, u, visited, nodes_in_cycle):\n",
    "        visited.add(u)\n",
    "        if u % 2 == 0:\n",
    "            nodes_in_cycle.append(u // 2 + 1)\n",
    "        else:\n",
    "            nodes_in_cycle.append(-(u // 2) - 1)\n",
    "        v = u - 1 if u % 2 else u + 1\n",
    "        if v not in visited:\n",
    "            visited.add(v)\n",
    "            v = self.Adj[v][0]\n",
    "            if v in visited:\n",
    "                return\n",
    "            self.dfs_visit(v, visited, nodes_in_cycle)\n",
    "\n",
    "    def graph_to_genome(self, n):\n",
    "        visited = set()\n",
    "        resulting_genome = []\n",
    "        for v in range(2 * n):\n",
    "            if v not in visited:\n",
    "                nodes_in_cycle = []\n",
    "                self.dfs_visit(v, visited, nodes_in_cycle)\n",
    "                resulting_genome.append(nodes_in_cycle)\n",
    "\n",
    "        result = []\n",
    "        for nodes_in_cycle in resulting_genome:\n",
    "            res = [str(u) if u < 0 else '+' + str(u) for u in nodes_in_cycle]\n",
    "            result.append('(' + ' '.join(res) + ')')\n",
    "\n",
    "        return ' '.join(result)\n",
    "\n",
    "\n",
    "def main():\n",
    "\n",
    "    file = open('rosalind_ba6k.txt', 'r')\n",
    "\n",
    "    genome = next(file).strip()\n",
    "    indices = np.array(list(map(int, next(file).strip().split(', ')))) - 1\n",
    "\n",
    "    cycles = [list(map(int, s[:-1].split())) for s in genome.split('(')]\n",
    "    n = sum(len(cycle) for cycle in cycles)\n",
    "\n",
    "    graph = Graph()\n",
    "    graph.build_graph(cycles)\n",
    "    graph.get_two_break_on_graph(*indices)\n",
    "    print(graph.graph_to_genome(n))\n",
    "\n",
    "\n",
    "if __name__ == '__main__':\n",
    "    main()"
   ]
  },
  {
   "cell_type": "code",
   "execution_count": null,
   "metadata": {
    "collapsed": true
   },
   "outputs": [],
   "source": []
  }
 ],
 "metadata": {
  "kernelspec": {
   "display_name": "Python 3",
   "language": "python",
   "name": "python3"
  },
  "language_info": {
   "codemirror_mode": {
    "name": "ipython",
    "version": 3
   },
   "file_extension": ".py",
   "mimetype": "text/x-python",
   "name": "python",
   "nbconvert_exporter": "python",
   "pygments_lexer": "ipython3",
   "version": "3.6.4"
  }
 },
 "nbformat": 4,
 "nbformat_minor": 2
}
